{
  "cells": [
    {
      "cell_type": "markdown",
      "metadata": {
        "id": "view-in-github",
        "colab_type": "text"
      },
      "source": [
        "<a href=\"https://colab.research.google.com/github/ShuchengWang/CNN-3D-images-Tensorflow/blob/master/Run.ipynb\" target=\"_parent\"><img src=\"https://colab.research.google.com/assets/colab-badge.svg\" alt=\"Open In Colab\"/></a>"
      ]
    },
    {
      "cell_type": "code",
      "execution_count": null,
      "metadata": {
        "id": "rJHfBcG_iklr"
      },
      "outputs": [],
      "source": [
        "## transefer the wrl format to a new folder\n",
        "import os  \n",
        "import shutil \n",
        " \n",
        "\n",
        "path = input('')\n",
        "new_path = input('')\n",
        " \n",
        "for root, dirs, files in os.walk(path):\n",
        "    for i in range(len(files)):\n",
        "        #print(files[i])\n",
        "        if (files[i][-9:] == 'Depth.png'):\n",
        "            file_path = root+'/'+files[i]  \n",
        "            new_file_path = new_path+ '/'+ files[i]  \n",
        "            shutil.copy(file_path,new_file_path)  "
      ]
    },
    {
      "cell_type": "code",
      "execution_count": null,
      "metadata": {
        "id": "SyOzaxPBtMy_"
      },
      "outputs": [],
      "source": [
        "import os\n",
        "rootdir=\"/content/drive/MyDrive/Thesis_Project/DATA/Cald3r_train_data\"\n",
        "filelist=os.listdir(rootdir)\n",
        "for file in filelist:\n",
        "    if 'neutral_Depth.png' in file:\n",
        "        del_file = rootdir + '/' + file \n",
        "        os.remove(del_file)\n",
        "        print(\"已经删除：\",del_file)\n"
      ]
    },
    {
      "cell_type": "code",
      "execution_count": null,
      "metadata": {
        "id": "j9ZGbt4l9h7z"
      },
      "outputs": [],
      "source": [
        "import os,random,shutil\n",
        " \n",
        "def moveFile(fileDir, tarDir):\n",
        "    pathDir = os.listdir(fileDir)  \n",
        "    filenumber = len(pathDir)\n",
        "    rate = 0.2 \n",
        "    picknumber = int(filenumber * rate)  \n",
        "    sample = random.sample(pathDir, picknumber)  \n",
        "    print(sample)\n",
        "    print(len(sample))\n",
        "    for name in sample:\n",
        "        shutil.move(fileDir + name, tarDir + name)\n",
        " \n",
        " \n",
        "if __name__ == '__main__':\n",
        "    fileDir = \"/content/drive/MyDrive/Thesis_Project/DATA/Cald3r_train_data/\" \n",
        "    tarDir = '/content/drive/MyDrive/Thesis_Project/DATA/Cald3r_test_data/' \n",
        "    moveFile(fileDir, tarDir)"
      ]
    },
    {
      "cell_type": "code",
      "execution_count": null,
      "metadata": {
        "id": "TmH1qu2rgi-k"
      },
      "outputs": [],
      "source": [
        "import torch\n",
        "import os\n",
        "from torch.utils.data import Dataset\n",
        "import numpy as np\n",
        "import pandas as pd\n",
        "from torch import nn\n",
        "from torch.nn import functional as F\n",
        "import time"
      ]
    },
    {
      "cell_type": "code",
      "execution_count": null,
      "metadata": {
        "id": "qQyZMLXq8UKq"
      },
      "outputs": [],
      "source": [
        "!pip install trimesh"
      ]
    },
    {
      "cell_type": "markdown",
      "metadata": {
        "id": "bnkTMOIGs0Wp"
      },
      "source": [
        " Database"
      ]
    },
    {
      "cell_type": "code",
      "execution_count": null,
      "metadata": {
        "id": "MsQDCZyrHjwi"
      },
      "outputs": [],
      "source": [
        "import os\n",
        "path = \"/content/drive/MyDrive/Thesis_Project/DATA/BU_3DFE_train_data\"\n",
        "ori_files = os.listdir(path)\n",
        "\n",
        "print(len(ori_files))"
      ]
    },
    {
      "cell_type": "code",
      "execution_count": null,
      "metadata": {
        "id": "LgLOqPZrUeEE"
      },
      "outputs": [],
      "source": [
        "import torch\n",
        "from torch.utils.data import Dataset\n",
        "import numpy as np\n",
        "import open3d as o3d\n",
        "import pandas as pd\n",
        "class Dataset(Dataset):\n",
        "    def __init__(self, file_name, file_dir):\n",
        "        self.file_name = file_name\n",
        "        self.file_dir = file_dir\n",
        "    def __len__(self):\n",
        "        return len(self.file_name)\n",
        "\n",
        "    def __getitem__(self, idx):\n",
        "      \n",
        "        file_path = self.file_dir+'/'+self.file_name[idx]\n",
        "        points = np.asarray(o3d.io.read_point_cloud(file_path).points,dtype='float32')\n",
        "        n = np.random.choice(len(points), 1600, replace=False)\n",
        "        point_data = points[n].T\n",
        "        label = file_path[-14:-12]\n",
        "        if label == 'HA':\n",
        "          label = 0\n",
        "        elif label == 'SA':\n",
        "          label = 1\n",
        "        elif label == 'SU':\n",
        "          label = 2\n",
        "        elif label == 'DI':\n",
        "          label = 3\n",
        "        elif label == 'FE':\n",
        "          label = 4\n",
        "        elif label == 'AN':\n",
        "          label = 5\n",
        "        return point_data, label\n",
        "\n",
        "database = Dataset(ori_files,path)\n"
      ]
    },
    {
      "cell_type": "code",
      "execution_count": null,
      "metadata": {
        "colab": {
          "base_uri": "https://localhost:8080/"
        },
        "id": "TsE9vVfvGY1b",
        "outputId": "522f5b61-dd39-4dae-e368-b6d0bfcf392d"
      },
      "outputs": [
        {
          "name": "stdout",
          "output_type": "stream",
          "text": [
            "[[  17.8223    50.0117   -36.7988  ...    8.23      48.6396    66.4781 ]\n",
            " [ -37.083    -39.5289   -81.3551  ... -110.949     48.4373    -3.90563]\n",
            " [  92.4608    79.2806    56.8212  ...   65.4938    73.3995    53.0297 ]]\n",
            "4\n",
            "1920\n"
          ]
        }
      ],
      "source": [
        "print(database[0][0])\n",
        "print(database[0][1])\n",
        "print(len(database))"
      ]
    },
    {
      "cell_type": "code",
      "execution_count": null,
      "metadata": {
        "id": "F00RzCVZ8mxE"
      },
      "outputs": [],
      "source": [
        "\n",
        "import torch\n",
        "from torch.utils.data import random_split\n",
        "train_dataset, test_dataset = random_split(\n",
        "    dataset=database,\n",
        "    lengths=[2200,201],\n",
        "    generator=torch.Generator().manual_seed(0)\n",
        ")"
      ]
    },
    {
      "cell_type": "code",
      "execution_count": null,
      "metadata": {
        "id": "rlJrAaQEJMl7"
      },
      "outputs": [],
      "source": [
        "train_size = int(0.8 * len(full_dataset))\n",
        "test_size = len(full_dataset) - train_size\n",
        "train_dataset, test_dataset = torch.utils.data.random_split(full_dataset, [train_size, test_size])"
      ]
    },
    {
      "cell_type": "markdown",
      "metadata": {
        "id": "xkuz2AD5JKvF"
      },
      "source": [
        ""
      ]
    },
    {
      "cell_type": "code",
      "execution_count": null,
      "metadata": {
        "colab": {
          "base_uri": "https://localhost:8080/"
        },
        "id": "O26g45CqHA7q",
        "outputId": "543b4906-0dbc-439f-8f10-7f5b88224a40"
      },
      "outputs": [
        {
          "name": "stdout",
          "output_type": "stream",
          "text": [
            "2200\n"
          ]
        }
      ],
      "source": [
        "print(len(train_dataset))\n"
      ]
    },
    {
      "cell_type": "markdown",
      "metadata": {
        "id": "0XPVCFeFS77i"
      },
      "source": [
        "K折交叉验证？？？？"
      ]
    },
    {
      "cell_type": "code",
      "execution_count": null,
      "metadata": {
        "id": "cOggK_FAXU-Q"
      },
      "outputs": [],
      "source": [
        ""
      ]
    },
    {
      "cell_type": "markdown",
      "metadata": {
        "id": "VWefXYmdNBh3"
      },
      "source": [
        "Load Data"
      ]
    },
    {
      "cell_type": "code",
      "execution_count": null,
      "metadata": {
        "id": "wyPkBjxQ61Pk"
      },
      "outputs": [],
      "source": [
        "from torch.utils.data import DataLoader\n",
        "train_data = DataLoader(database, batch_size=50, shuffle=True)"
      ]
    },
    {
      "cell_type": "code",
      "execution_count": null,
      "metadata": {
        "id": "K8ZGJP6kHSGA"
      },
      "outputs": [],
      "source": [
        "for i, (X, y) in enumerate(train_data):\n",
        "  print('.....')\n",
        "  print(X)\n",
        "  print(y)"
      ]
    },
    {
      "cell_type": "code",
      "execution_count": null,
      "metadata": {
        "id": "zb2XV9Bg-Yet"
      },
      "outputs": [],
      "source": [
        "next(iter(train_data))"
      ]
    },
    {
      "cell_type": "code",
      "execution_count": null,
      "metadata": {
        "id": "eWieMgECtuZp"
      },
      "outputs": [],
      "source": [
        "##print(f\"Feature batch shape: {train_features.size()}\")\n",
        "for X, y in train_data:\n",
        "  print(X)\n",
        "  print(y)\n",
        "  break"
      ]
    },
    {
      "cell_type": "markdown",
      "metadata": {
        "id": "IfZVKJP4NhV0"
      },
      "source": [
        "Accumulator"
      ]
    },
    {
      "cell_type": "code",
      "execution_count": null,
      "metadata": {
        "id": "dC8TyzzQNc93"
      },
      "outputs": [],
      "source": [
        "class Accumulator: \n",
        "    \n",
        "    def __init__(self, n):\n",
        "        self.data = [0.0] * n\n",
        "\n",
        "    def add(self, *args):\n",
        "        self.data = [a + float(b) for a, b in zip(self.data, args)]\n",
        "\n",
        "    def reset(self):\n",
        "        self.data = [0.0] * len(self.data)\n",
        "\n",
        "    def __getitem__(self, idx):\n",
        "        return self.data[idx]"
      ]
    },
    {
      "cell_type": "code",
      "execution_count": null,
      "metadata": {
        "colab": {
          "base_uri": "https://localhost:8080/"
        },
        "id": "-FKHL7BSNkrV",
        "outputId": "ead84488-2987-4999-8a4e-eaa18f6c5632"
      },
      "outputs": [
        {
          "name": "stdout",
          "output_type": "stream",
          "text": [
            "78.7300033569336\n"
          ]
        }
      ],
      "source": [
        "import torch\n",
        "a = torch.tensor([2.33,43.4,33])\n",
        "print(a.sum().item())"
      ]
    },
    {
      "cell_type": "markdown",
      "metadata": {
        "id": "wfVpUZnFYcOA"
      },
      "source": [
        "Set GPU"
      ]
    },
    {
      "cell_type": "code",
      "execution_count": null,
      "metadata": {
        "id": "bLo9P6SvYbUX"
      },
      "outputs": [],
      "source": [
        "def try_gpu(i=0):  \n",
        "    if torch.cuda.device_count() >= i + 1:\n",
        "        return torch.device(f'cuda:{i}')\n",
        "    return torch.device('cpu')\n",
        "  "
      ]
    },
    {
      "cell_type": "markdown",
      "metadata": {
        "id": "-lE20rcaORRn"
      },
      "source": [
        "Accuracy Function"
      ]
    },
    {
      "cell_type": "code",
      "execution_count": null,
      "metadata": {
        "id": "MJO0yoNXOYOE"
      },
      "outputs": [],
      "source": [
        "def accuracy(y_hat, y): \n",
        "    if len(y_hat.shape) > 1 and y_hat.shape[1] > 1:\n",
        "        y_hat = y_hat.argmax(axis=1)\n",
        "    cmp = y_hat.type(y.dtype) == y\n",
        "    return float(cmp.type(y.dtype).sum())"
      ]
    },
    {
      "cell_type": "markdown",
      "metadata": {
        "id": "yv6_RjVWXX8H"
      },
      "source": [
        "Modol"
      ]
    },
    {
      "cell_type": "code",
      "execution_count": null,
      "metadata": {
        "id": "TOgW-R4sXaxu"
      },
      "outputs": [],
      "source": [
        "from torch.nn.modules.activation import ReLU\n",
        "from torch.nn.modules.conv import Conv1d\n",
        "import torch\n",
        "from torch import nn\n",
        "\n",
        "net = nn.Sequential(nn.Conv1d(3,64,1),nn.ReLU(),nn.Conv1d(64,64,1),nn.ReLU(),\n",
        "                    nn.Conv1d(64,64,1),nn.ReLU(),nn.Conv1d(64,128,1),nn.ReLU(),\n",
        "                    nn.Conv1d(128,1024,1),nn.ReLU(),nn.MaxPool1d(9600),\n",
        "                    nn.Flatten(),\n",
        "                    nn.Linear(1024, 512),nn.ReLU(),nn.Linear(512, 256),nn.ReLU(), \n",
        "                    nn.Dropout(0.7),nn.Linear(256, 6)) \n",
        "\n"
      ]
    },
    {
      "cell_type": "markdown",
      "metadata": {
        "id": "X8cFErkaXbdx"
      },
      "source": [
        "Train Function"
      ]
    },
    {
      "cell_type": "code",
      "execution_count": null,
      "metadata": {
        "id": "tUBGVw7JWUSh"
      },
      "outputs": [],
      "source": [
        "def train_function(net, train_iter, num_epochs, lr, device):\n",
        "    def init_weights(m):\n",
        "        if type(m) == nn.Linear or type(m) == nn.Conv1d:\n",
        "            nn.init.xavier_uniform_(m.weight)\n",
        "    net.apply(init_weights)\n",
        "    print('training on', device)\n",
        "    net.to(device)\n",
        "    loss = nn.CrossEntropyLoss()\n",
        "    optimizer = torch.optim.SGD(net.parameters(), lr=lr)\n",
        "    for epoch in range(num_epochs):\n",
        "        metric = Accumulator(3)\n",
        "        net.train()\n",
        "        for i, (X, y) in enumerate(train_iter):\n",
        "            optimizer.zero_grad()\n",
        "            X, y = X.to(device), y.to(device)\n",
        "            y_hat = net(X)\n",
        "            l = loss(y_hat, y)\n",
        "            l.backward()\n",
        "            optimizer.step()\n",
        "            with torch.no_grad():\n",
        "                metric.add(l.sum(), accuracy(y_hat, y), y.numel())\n",
        "            train_l = metric[0] / metric[2]\n",
        "            train_acc = metric[1] / metric[2]\n",
        "        if (epoch+1)%10==0:\n",
        "          print(f'num_epoch={epoch+1},loss={train_l},accuracy={train_acc}')     "
      ]
    },
    {
      "cell_type": "code",
      "execution_count": null,
      "metadata": {
        "id": "X4MCSQbRzah9"
      },
      "outputs": [],
      "source": [
        "lr, num_epochs = 0.01, 3\n",
        "train_function(net, train_data, num_epochs, lr, try_gpu())"
      ]
    },
    {
      "cell_type": "markdown",
      "metadata": {
        "id": "n8ZxE2jaVbFt"
      },
      "source": [
        "Clear GPU memory"
      ]
    },
    {
      "cell_type": "code",
      "execution_count": null,
      "metadata": {
        "id": "wnkixFED3Nyc"
      },
      "outputs": [],
      "source": [
        "!/opt/bin/nvidia-smi\n"
      ]
    },
    {
      "cell_type": "code",
      "execution_count": null,
      "metadata": {
        "id": "vln70aNY4G-0"
      },
      "outputs": [],
      "source": [
        "# memory footprint support libraries/code\n",
        "!ln -sf /opt/bin/nvidia-smi /usr/bin/nvidia-smi\n",
        "!pip install gputil\n",
        "!pip install psutil\n",
        "!pip install humanize"
      ]
    },
    {
      "cell_type": "code",
      "execution_count": null,
      "metadata": {
        "colab": {
          "base_uri": "https://localhost:8080/"
        },
        "id": "McwkyYZw4KqP",
        "outputId": "d328229b-f55d-4fda-f462-bed7b605dbb7"
      },
      "outputs": [
        {
          "name": "stdout",
          "output_type": "stream",
          "text": [
            "Gen RAM Free: 52.6 GB  |     Proc size: 120.6 MB\n",
            "GPU RAM Free: 16280MB | Used: 0MB | Util   0% | Total     16280MB\n"
          ]
        }
      ],
      "source": [
        "import psutil\n",
        "import humanize\n",
        "import os\n",
        "import GPUtil as GPU\n",
        "\n",
        "GPUs = GPU.getGPUs()\n",
        "# XXX: only one GPU on Colab and isn’t guaranteed\n",
        "gpu = GPUs[0]\n",
        "def printm():\n",
        "    process = psutil.Process(os.getpid())\n",
        "    print(\"Gen RAM Free: \" + humanize.naturalsize(psutil.virtual_memory().available), \" |     Proc size: \" + humanize.naturalsize(process.memory_info().rss))\n",
        "    print(\"GPU RAM Free: {0:.0f}MB | Used: {1:.0f}MB | Util {2:3.0f}% | Total     {3:.0f}MB\".format(gpu.memoryFree, gpu.memoryUsed, gpu.memoryUtil*100, gpu.memoryTotal))\n",
        "printm()\n"
      ]
    },
    {
      "cell_type": "code",
      "execution_count": null,
      "metadata": {
        "id": "wdaEdTeD4Tqy"
      },
      "outputs": [],
      "source": [
        "!ps -aux|grep python"
      ]
    },
    {
      "cell_type": "code",
      "execution_count": null,
      "metadata": {
        "id": "juXogw7E4VJF"
      },
      "outputs": [],
      "source": [
        "!kill -9 5425\t"
      ]
    },
    {
      "cell_type": "code",
      "execution_count": null,
      "metadata": {
        "colab": {
          "base_uri": "https://localhost:8080/"
        },
        "id": "eyQSUcIai0h8",
        "outputId": "d12b2cdb-a69e-42f1-b905-236de5c71ace"
      },
      "outputs": [
        {
          "name": "stdout",
          "output_type": "stream",
          "text": [
            "2400 7200 2400 7200 2400 2400 2400\n"
          ]
        }
      ],
      "source": [
        "from posix import listdir\n",
        "import os\n",
        "a = listdir('/content/drive/MyDrive/Thesis_Project/DATA/UniformDownsample_Folder')\n",
        "b = listdir('/content/drive/MyDrive/Thesis_Project/DATA/Translate_Folder')\n",
        "c = listdir('/content/drive/MyDrive/Thesis_Project/DATA/Scale_Folder')\n",
        "d = listdir('/content/drive/MyDrive/Thesis_Project/DATA/Rotate_Folder')\n",
        "e = listdir('/content/drive/MyDrive/Thesis_Project/DATA/RandomDownsample_Folder')\n",
        "f = listdir('/content/drive/MyDrive/Thesis_Project/DATA/Jitter_Folder')\n",
        "g = listdir('/content/drive/MyDrive/Thesis_Project/DATA/ply_pcd')\n",
        "print(len(a),len(b),len(c),len(d),len(e),len(f),len(g))"
      ]
    },
    {
      "cell_type": "code",
      "execution_count": null,
      "metadata": {
        "id": "-7NBTE8tGyf3"
      },
      "outputs": [],
      "source": [
        "print(np.array(o3d.io.read_point_cloud('/content/drive/MyDrive/Thesis_Project/DATA/Scale_Folder/Scale_F0001_AN01WH_F3D.pcd').points))\n",
        "print(o3d.io.read_point_cloud('/content/drive/MyDrive/Thesis_Project/DATA/Scale_Folder/Scale_F0001_AN01WH_F3D.pcd'))\n",
        "print(np.array(o3d.io.read_point_cloud('/content/drive/MyDrive/Thesis_Project/DATA/ply_pcd/F0001_AN01WH_F3D.pcd').points))\n",
        "print(o3d.io.read_point_cloud('/content/drive/MyDrive/Thesis_Project/DATA/ply_pcd/F0001_AN01WH_F3D.pcd'))\n",
        "print(np.array(o3d.io.read_point_cloud('/content/drive/MyDrive/Thesis_Project/DATA/Scale_Folder/Scale_F0001_FE03WH_F3D.pcd').points))\n",
        "print(o3d.io.read_point_cloud('/content/drive/MyDrive/Thesis_Project/DATA/Scale_Folder/Scale_F0001_FE03WH_F3D.pcd'))\n",
        "print(np.array(o3d.io.read_point_cloud('/content/drive/MyDrive/Thesis_Project/DATA/ply_pcd/F0042_DI04AE_F3D.pcd').points))\n",
        "print(o3d.io.read_point_cloud('/content/drive/MyDrive/Thesis_Project/DATA/ply_pcd/F0042_DI04AE_F3D.pcd'))"
      ]
    },
    {
      "cell_type": "code",
      "execution_count": null,
      "metadata": {
        "id": "EXESIWtJXsLS"
      },
      "outputs": [],
      "source": [
        "! python /content/drive/MyDrive/Thesis_Project/DATA/Data_Helper.py"
      ]
    },
    {
      "cell_type": "code",
      "execution_count": null,
      "metadata": {
        "colab": {
          "base_uri": "https://localhost:8080/"
        },
        "id": "ThW_CseEcrbW",
        "outputId": "5d5524a6-7b95-40b3-9539-2425a07dd0fc"
      },
      "outputs": [
        {
          "name": "stdout",
          "output_type": "stream",
          "text": [
            "[4031, 3454, 3879, 4283, 3980, 3602, 3920, 4184, 4031, 3751, 4046, 4497, 4117, 3649, 4577, 3584, 3813, 3379, 3609, 3298, 3518, 3534, 3227, 3677, 3734, 3548, 3942, 3534, 3528, 3861, 3902, 3897, 3708, 3897, 3868, 4095, 3965, 4200, 3757, 3828, 3514, 3513, 3703, 3516, 3462, 3095, 3403, 3581, 3507, 3586, 3608, 3792, 3563, 3659, 3561, 3708, 3686, 3638, 3606, 3510, 3671, 3462, 3756, 4272, 3540, 3969, 4083, 3871, 3711, 3222, 4043, 3651, 3441, 3459, 3830, 3670, 3672, 4098, 3534, 3769, 3625, 3951, 3450, 3943, 3908, 3432, 3786, 3572, 3544, 3568, 3826, 3574, 3562, 3749, 3627, 3670, 3680, 3566, 3967, 3612, 3859, 3867, 3794, 3705, 3600, 3539, 3824, 3999, 4281, 4229, 3321, 3127, 3129, 3136, 3189, 3289, 3392, 3392, 3132, 3198, 3056, 3472, 2708, 3112, 2993, 2827, 3446, 3074, 3016, 2873, 3372, 3110, 3288, 3241, 4677, 4580, 4428, 4342, 4663, 4803, 4489, 3781, 3635, 4162, 3743, 3796, 3716, 4058, 3470, 3620, 4126, 3745, 3982, 3570, 3995, 4050, 4216, 3881, 3539, 3656, 3449, 3759, 3683, 3696, 3743, 3773, 3745, 3921, 3114, 3779, 3742, 3877, 3873, 3474, 3794, 3952, 3823, 4356, 3443, 3867, 4215, 3986, 3374, 3220, 3113, 3257, 2898, 3116, 3211, 3320, 3388, 3442, 3437, 3369, 3455, 3305, 3438, 3371, 3395, 3416, 3308, 3349, 3418, 3772, 3505, 3748, 3393, 3502, 3474, 3528, 3589, 3474, 3578, 3523, 3597, 3636, 3580, 3525, 3863, 3791, 3660, 3794, 3746, 3344, 3429, 3475, 3879, 3862, 3860, 4041, 3716, 4027, 3569, 3956, 3854, 3844, 3968, 3832, 3695, 3556, 3776, 3656, 3484, 3655, 3625, 3587, 3614, 3650, 3567, 4034, 3401, 3851, 3995, 4093, 4067, 3918, 3866, 3923, 3956, 3951, 3928, 3960, 3894, 4115, 3865, 3784, 3605, 3636, 3725, 3424, 3725, 3545, 3460, 3539, 3941, 3892, 4017, 3648, 3932, 3452, 3438, 3408, 3370, 3299, 3595, 3591, 3171, 3319, 3111, 3420, 3363, 3390, 3375, 3770, 3600, 3289, 3373, 3930, 3661, 3575, 3491, 3581, 2286, 2220, 2302, 2233, 2281, 2261, 2276, 2271, 2317, 2246, 2233, 2343, 2217, 2322, 2317, 2354, 2270, 2329, 2321, 2352, 2409, 2401, 2363, 2457, 2366, 2370, 2535, 2478, 2439, 2444, 2474, 2409, 2496, 2490, 2419, 2359, 2513, 2425, 2455, 2441, 2416, 2512, 2560, 2550, 2654, 2525, 2697, 1848, 2699, 1896, 1916, 2055, 1949, 2086, 2029, 2021, 2061, 2116, 2124, 2062, 1962, 2027, 2086, 1983, 2207, 2105, 2256, 2180, 2121, 2281, 2189, 2184, 2908, 2966, 2973, 3025, 2788, 2792, 2633, 2789, 2801, 2964, 2829, 2826, 3012, 2771, 2852, 2725, 2880, 2870, 2751, 2813, 2848, 3083, 3071, 3125, 2118, 1996, 2051, 2045, 1976, 2014, 1837, 1795, 1964, 1751, 1795, 1841, 1673, 1912, 1926, 1922, 1905, 1946, 1936, 1850, 2015, 2116, 1992, 2225, 2046, 2133, 2306, 2232, 2110, 2357, 2255, 2135, 2221, 2161, 2292, 2288, 2149, 2108, 2338, 2229, 2233, 2303, 2197, 2406, 2329, 2431, 2554, 2603, 2655, 2636, 2591, 2651, 2604, 2661, 2633, 2581, 2559, 2559, 2528, 2570, 2436, 2662, 2665, 2617, 2674, 2584, 2366, 2542, 2798, 2657, 2731, 2779, 2056, 1987, 2016, 1949, 1985, 1984, 1899, 1998, 1991, 1970, 1931, 1993, 1986, 1939, 1898, 2032, 2025, 1916, 1949, 1940, 2099, 2096, 2254, 2205, 2070, 2291, 2262, 2168, 1988, 2270, 2206, 2163, 2241, 2352, 2279, 2289, 2225, 2240, 2199, 2179, 2315, 2220, 2286, 2183, 2260, 2361, 2470, 2250, 2286, 2432, 2328, 2357, 2304, 2312, 2249, 2255, 2217, 2295, 2207, 2167, 2221, 2278, 2326, 2257, 2354, 2278, 2376, 2258, 2392, 2356, 2507, 2505, 5028, 5378, 5000, 5186, 5415, 4808, 4756, 4738, 4721, 4661, 4728, 4342, 4431, 4283, 4201, 4205, 4185, 4240, 5380, 5026, 5470, 5107, 5644, 5535, 5004, 5088, 5287, 4878, 4926, 4817, 4829, 4889, 4690, 4749, 4974, 4670, 4724, 4750, 4783, 4792, 4649, 4830, 4936, 4886, 4880, 4830, 4425, 4738, 2338, 2358, 2430, 1965, 2038, 2146, 2187, 2307, 2205, 3933, 3467, 3984, 3441, 3871, 3363, 3990, 3602, 3836, 3517, 3879, 3672, 3571, 3642, 3460, 3800, 3642, 3842, 3448, 3602, 3746, 3778, 3787, 3934, 4230, 4322, 4353, 4208, 4482, 4247, 3951, 3913, 4253, 3968, 4135, 3853, 4069, 4089, 4121, 4017, 4067, 3844, 4198, 4419, 3991, 4662, 4475, 3721, 4352, 3245, 3654, 3916, 3548, 3404, 3621, 3174, 3267, 3696, 3676, 3430, 3378, 3805, 3284, 3423, 3297, 3509, 3181, 3338, 3582, 3785, 3594, 3274, 3837, 3716, 3349, 3377, 3428, 3509, 3470, 3320, 3304, 3840, 3317, 3400, 3447, 3623, 3373, 3536, 3341, 3344, 3720, 3354, 3639, 3749, 3669, 3480, 3268, 3544, 3506, 3285, 3283, 3528, 3580, 3628, 3586, 3660, 3521, 3700, 3604, 3291, 3411, 3352, 3563, 3205, 3400, 3523, 3517, 3353, 3416, 3617, 3720, 3443, 3562, 3338, 3446, 3161, 3468, 3312, 3277, 3158, 3245, 3175, 2909, 3090, 3149, 3234, 2994, 3177, 3243, 3181, 3240, 3423, 3343, 3366, 4111, 4479, 3982, 4037, 4236, 4372, 4317, 4053, 4184, 4244, 4225, 4181, 4133, 4071, 4092, 4022, 4358, 4227, 4013, 4143, 4074, 4288, 3123, 4438, 4247, 3252, 3298, 3539, 3168, 3543, 3218, 3322, 3280, 3027, 3212, 3502, 3104, 3428, 3374, 3347, 3245, 3238, 3377, 3558, 3356, 3512, 3614, 3922, 3624, 3464, 3668, 3776, 3408, 3537, 3593, 3628, 3667, 3664, 3809, 3716, 3490, 3614, 3597, 3498, 3376, 3383, 3196, 3523, 3576, 3710, 3853, 3732, 3328, 3255, 3095, 3597, 3313, 3172, 3243, 3226, 2809, 3149, 3081, 3259, 3053, 3362, 3209, 3299, 3209, 3020, 3178, 3133, 2965, 3580, 3720, 3629, 4109, 4143, 4271, 4212, 4168, 4162, 4177, 4035, 4095, 4143, 4238, 4104, 4177, 4047, 4242, 4121, 4096, 4139, 4068, 4135, 4182, 4254, 4106, 4036, 2876, 2881, 3081, 3002, 2984, 2952, 2827, 2880, 3007, 2686, 2813, 2939, 3024, 2731, 3111, 3140, 3218, 3217, 2864, 3091, 2925, 2976, 2970, 2969, 3641, 3661, 3824, 3777, 4103, 3991, 3644, 4050, 3922, 3636, 3848, 4130, 3704, 3815, 3999, 3993, 3749, 3980, 4062, 4386, 3623, 4034, 4400, 2029, 4125, 2001, 2041, 2036, 2002, 2026, 1979, 2020, 1855, 1916, 1878, 1882, 2012, 2053, 1963, 1988, 1870, 2052, 1942, 2006, 1888, 1914, 1964, 2842, 1943, 2838, 3028, 2972, 3178, 2896, 2850, 2945, 2584, 2809, 2890, 2832, 2907, 2669, 2910, 2504, 2765, 2881, 2821, 2759, 2845, 3031, 2980, 2969, 3081, 2983, 2817, 2867, 2910, 2731, 2901, 2891, 2901, 2895, 2928, 2662, 2938, 2678, 2877, 3162, 2951, 3105, 3130, 3351, 3216, 3369, 3448, 3999, 3175, 3834, 4197, 3509, 3696, 3408, 3776, 3442, 4025, 3848, 3819, 3717, 3634, 3892, 3829, 3606, 3472, 3822, 3816, 3903, 3917, 3663, 3994, 3924, 4037, 3687, 3744, 3864, 3921, 3910, 3845, 3807, 4141, 3769, 4099, 3803, 4155, 3978, 3981, 4063, 4091, 3918, 4117, 3990, 3935, 3850, 3540, 3779, 3344, 3354, 3588, 3115, 3705, 3830, 4326, 4262, 3704, 3763, 3523, 3422, 3470, 3474, 3640, 4296, 3905, 4473, 4202, 4434, 4164, 4666, 4253, 4515, 4777, 4754, 4431, 4815, 4212, 4252, 4894, 4677, 4667, 4298, 4553, 4580, 4486, 4694, 4609, 3122, 4510, 2929, 2991, 2987, 2792, 2647, 2862, 2966, 2767, 2991, 2813, 2628, 2586, 2842, 2725, 2435, 2682, 2909, 3303, 2788, 3196, 3018, 3387, 3032, 4778, 4805, 4912, 4854, 4756, 4856, 4719, 4509, 4766, 4628, 4368, 4370, 4676, 4517, 4447, 4477, 4557, 4603, 4679, 4566, 4624, 4635, 4649, 4748, 4489, 4367, 4363, 4022, 4322, 4004, 4404, 4479, 4137, 4251, 4023, 4332, 4634, 4409, 4223, 4327, 4439, 4495, 3981, 4897, 4281, 4369, 4133, 4162, 4861, 5198, 4332, 4773, 4602, 4329, 4409, 4772, 4796, 4364, 4804, 4797, 5019, 4987, 4184, 4851, 4620, 4653, 4776, 4081, 5168, 4610, 5012, 4906, 3968, 4433, 4033, 4330, 4286, 3942, 4360, 4627, 3866, 4081, 3820, 4157, 4133, 4225, 4592, 3734, 4039, 4388, 3927, 4658, 4210, 4132, 2661, 3673, 3783, 2415, 2473, 2317, 2372, 2219, 2398, 2154, 2386, 2395, 2496, 2309, 2390, 2457, 2336, 2320, 2583, 2465, 2329, 2693, 2383, 2662, 2574, 2603, 2603, 2641, 2584, 2463, 2694, 2778, 2560, 2630, 2658, 2671, 2477, 2632, 2920, 2842, 2843, 2633, 2719, 2910, 2828, 2669, 2840, 2682, 2807, 2876, 2247, 2192, 2175, 2266, 2279, 2215, 2202, 2176, 2236, 2287, 2363, 2330, 2355, 2398, 2276, 2379, 2445, 2307, 2399, 2452, 2230, 2474, 2527, 2543, 2667, 2776, 2860, 2893, 2546, 2659, 2693, 2657, 2612, 2551, 2370, 2321, 2701, 2701, 2691, 2646, 2836, 2807, 2871, 2800, 3106, 2864, 3177, 2946, 2747, 2821, 2693, 2347, 2668, 2819, 2696, 2673, 2799, 2673, 2844, 2903, 2687, 2494, 2970, 2644, 2949, 2810, 2855, 2976, 3033, 2868, 2985, 2991, 2589, 2447, 2652, 2596, 2329, 2405, 2321, 2270, 2271, 2212, 2293, 2220, 2427, 2372, 2308, 2358, 2412, 2354, 2251, 2209, 2606, 2505, 2550, 2898, 3138, 3230, 3115, 3110, 2912, 3169, 2930, 3107, 3010, 3161, 2971, 2944, 2945, 2812, 2543, 2683, 3012, 2873, 3000, 2761, 2897, 2721, 2967, 2532, 2702, 2698, 2901, 2656, 2775, 2510, 2628, 2656, 2499, 2432, 2365, 2437, 2474, 2493, 2423, 2481, 2127, 2340, 2293, 2264, 2124, 2188, 2128, 2516, 2777, 2782, 2914, 2639, 2744, 2568, 2567, 2679, 2574, 2716, 2692, 2706, 2452, 2572, 2393, 2542, 2689, 2485, 2397, 2673, 2579, 2352, 2655, 2127, 2507, 2099, 2201, 1897, 2048, 1748, 1865, 1784, 1735, 1741, 2002, 1726, 1939, 1961, 1757, 2223, 2163, 1955, 2118, 2308, 2078, 2183, 2627, 2440, 2733, 2621, 2320, 2691, 2335, 2292, 2473, 2318, 2407, 2457, 2430, 2611, 2404, 2492, 2615, 2393, 2574, 2649, 2348, 2464, 2651, 2705, 2768, 2499, 2928, 2954, 2973, 2916, 2989, 2951, 2834, 2937, 2895, 2936, 2938, 2874, 2866, 2850, 2843, 2913, 2771, 2908, 2798, 2759, 2961, 2990, 2935, 2635, 3015, 2677, 2578, 2622, 2593, 2551, 2538, 2511, 2624, 2393, 2756, 2741, 2668, 2570, 2535, 2423, 2659, 2645, 2610, 2566, 2693, 2637, 2776, 2940, 2742, 2773, 2956, 2966, 2781, 2598, 2653, 2664, 2367, 2485, 2464, 2399, 2757, 2820, 2931, 2797, 2616, 2688, 2704, 2651, 2660, 2765, 2819, 2358, 2890, 2469, 2445, 2377, 2400, 2391, 2378, 2461, 2225, 2254, 2315, 2279, 2521, 2487, 2450, 2449, 2465, 2491, 2497, 2506, 2494, 2565, 2654, 2517, 2646, 2579, 2494, 2425, 2381, 2403, 2520, 2521, 2546, 2516, 2525, 2461, 2405, 2461, 2417, 2388, 2420, 2391, 2576, 2403, 2408, 2412, 2536, 2385, 2493, 2392, 2412, 2590, 2387, 2563, 2484, 2526, 2392, 2595, 2404, 2442, 2375, 2521, 2509, 2417, 2477, 2456, 2566, 2530, 2741, 2623, 2690, 2538, 3972, 3515, 4100, 3910, 4316, 4174, 4375, 2892, 3261, 2802, 2924, 3192, 2935, 3069, 2689, 2967, 3085, 3113, 2953, 3026, 3185, 3150, 3248, 2964, 3185, 3191, 3137, 3243, 3441, 3275, 2368, 3370, 2225, 2245, 2174, 2144, 2175, 2171, 2148, 2227, 2106, 2187, 2129, 2133, 1993, 2156, 2176, 2268, 2186, 2251, 2132, 2196, 2371, 2393, 2253, 2965, 3114, 3227, 3091, 3277, 3347, 3149, 3372, 3164, 3198, 3069, 3119, 3323, 3102, 3175, 3096, 3112, 3178, 3256, 3205, 3231, 3223, 3265, 3481, 3810, 3923, 3969, 3945, 3806, 4064, 3733, 3908, 3723, 4200, 3890, 3972, 3750, 4104, 4093, 3859, 4070, 3846, 3982, 3921, 3941, 3969, 4046, 4065, 2266, 2245, 2270, 2229, 2144, 2284, 2226, 2276, 2179, 2301, 2253, 2313, 2251, 2243, 2266, 2184, 2155, 2184, 2170, 2260, 2468, 2296, 2420, 2576, 2307, 2211, 2243, 2218, 2225, 2235, 2036, 2108, 2114, 2174, 2169, 2135, 2059, 2180, 2169, 2281, 2134, 2209, 2027, 2125, 2017, 2175, 2245, 2331, 4246, 4255, 4006, 3995, 3869, 4045, 3838, 4095, 4292, 4003, 4464, 3722, 3730, 4177, 3868, 4289, 4367, 3977, 3830, 4343, 4206, 4363, 4446, 2455, 4230, 2297, 2423, 2361, 2367, 2036, 2332, 2230, 2280, 2330, 2283, 2377, 2534, 2394, 2484, 2407, 2415, 2557, 2455, 2704, 2490, 2659, 2695, 2558, 2760, 2592, 2626, 2715, 2541, 2364, 2402, 2442, 2497, 2380, 2492, 2407, 2399, 2790, 2428, 2281, 2446, 2488, 2450, 2485, 2498, 2552, 2809, 2843, 4020, 3620, 3690, 3810, 3844, 3577, 4037, 3799, 3857, 4001, 3677, 3903, 3607, 3715, 3809, 3731, 3623, 4027, 3426, 3920, 3927, 3699, 4036, 3773, 3362, 3531, 3127, 3472, 3375, 3280, 3314, 3058, 3220, 3032, 3298, 2863, 3578, 3629, 3358, 3078, 3350, 3254, 3165, 3470, 3328, 3430, 3386, 3206, 3253, 3253, 3496, 3610, 3664, 3858, 3728, 3904, 3818, 3780, 3761, 3667, 3664, 3835, 3869, 3833, 3709, 3806, 3763, 3701, 3750, 3840, 3828, 3867, 2798, 2580, 2475, 2442, 2799, 2453, 2485, 2616, 2607, 2562, 2815, 2533, 2563, 2458, 2423, 2556, 2474, 2403, 2597, 2537, 2759, 2820, 2686, 3093, 2985, 2824, 3291, 3167, 2880, 2980, 3587, 3219, 3070, 2923, 3326, 3284, 2902, 3158, 2983, 3020, 3002, 2938, 2696, 2780, 3239, 3332, 3303, 3275, 3785, 4114, 3352, 3740, 3762, 3940, 4234, 3876, 3621, 3797, 4165, 3636, 3892, 3762, 3742, 3682, 3544, 3479, 3717, 3664, 3799, 4029, 4058, 4012, 3600, 3520, 3643, 3436, 3659, 3713, 3582, 3737, 3758, 3525, 3645, 3774, 3489, 3475, 3546, 3553, 3641, 3557, 3434, 3428, 3690, 3680, 3853, 3875, 4186, 3975, 3865, 3759, 4365, 4078, 3858, 3996, 3817, 4139, 1983, 2209, 2235, 2131, 2190, 2213, 2360, 2039, 2178, 2128, 2206, 2122, 2219, 2229, 2254, 3720, 3717, 3821, 4174, 3850, 4515, 4573, 4236, 4243, 4213, 3934, 4067, 4483, 4163, 3910, 4409, 4474, 4536, 4366, 4535, 4868, 4476, 4324, 2248, 4543, 2379, 2293, 2267, 2266, 2089, 2153, 2138, 2020, 2135, 2125, 2114, 1863, 2240, 2179, 2252, 2080, 2311, 2198, 2356, 2215, 2434, 2291, 2455, 4347, 4087, 4084, 3610, 3822, 3667, 3405, 3832, 3828, 3557, 3866, 4018, 4193, 3778, 3664, 4255, 3965, 4459, 3771, 3883, 3648, 3894, 3646, 4556, 3583, 4079, 4332, 3817, 4136, 3858, 3759, 3712, 3611, 4032, 3880, 4257, 4198, 4385, 4125, 4318, 4504, 4244, 4194, 4522, 4022, 4364, 4266, 3902, 4113, 4396, 4021, 3996, 4015, 3917, 3830, 4297, 3995, 4027, 4013, 4030, 4062, 3982, 3978, 3776, 3777, 4222, 4084, 3849, 4157, 4226, 4547, 4483, 2847, 2939, 2837, 2911, 2560, 2635, 2636, 2543, 2526, 2508, 2521, 2597, 2536, 2750, 2719, 2862, 2761, 2701, 2724, 2555, 2789, 2863, 2842, 2608, 4071, 4158, 4259, 4385, 4295, 3978, 4283, 4114, 3968, 3800, 4080, 3694, 4353, 4761, 4675, 4447, 4301, 4262, 4341, 4116, 4525, 4537, 4835, 4545, 2041, 2242, 2202, 2263, 2221, 2372, 2296, 2074, 2263, 2264, 2312, 2190, 2389, 2301, 2149, 2341, 2421, 2177, 2121, 2247, 2361, 2405, 2513, 2422, 3652, 3913, 3318, 3262, 3794, 3619, 3548, 3453, 4014, 4036, 3719, 3692, 4175, 4308, 3863, 3737, 4123, 3920, 3831, 3446, 4167, 4552, 4119, 4086, 5092, 4905, 4741, 4627, 4458, 4762, 4638, 4025, 4448, 4411, 4452, 4391, 4301, 4709, 4245, 4400, 4764, 4661, 4418, 4563, 4456, 4807, 4433, 4501, 3577, 3995, 4035, 3689, 3477, 3721, 3907, 3677, 3463, 3309, 3894, 3453, 3869, 3571, 3429, 3419, 2950, 3686, 3491, 4314, 3623, 4185, 4486, 3766, 4312, 4365, 4141, 4294, 4416, 4400, 4196, 4240, 4366, 4359, 4148, 4414, 4273, 4384, 4211, 4265, 4355, 4590, 4186, 4470, 4592, 4481, 4799, 4533, 4370, 4037, 4399, 4409, 4302, 3915, 4323, 4195, 3999, 4261, 4434, 4552, 4145, 4287, 4430, 4116, 4517, 4300, 4392, 4432, 4597, 4189, 4499, 4611, 3916, 3864, 3971, 3803, 3797, 4357, 4265, 4326, 3942, 4049, 4195, 4041, 3942, 3875, 3925, 3807, 3899, 4180, 4134, 4265, 4051, 4198, 4102, 3872, 4082, 3712, 3503, 3658, 4163, 4122, 3943, 3968, 4327, 4136, 4008, 3927, 4301, 4468, 3921, 3966, 4564, 4331, 4238, 4443, 3851, 4311, 4504, 4023, 4869, 4493, 3985, 4156, 4146, 3898, 3848, 4361, 3664, 4121, 4464, 4391, 4250, 4457, 4512, 4537, 4237, 4744, 4936, 4439, 4602, 5244, 4942, 4829, 3948]\n"
          ]
        }
      ],
      "source": [
        "a = []\n",
        "path = '/content/drive/MyDrive/Thesis_Project/DATA/RandomDownsample_Folder'\n",
        "h = listdir('/content/drive/MyDrive/Thesis_Project/DATA/RandomDownsample_Folder')\n",
        "\n",
        "for i in h :\n",
        "  ab_path = path +'/'+ i\n",
        "  a.append(len(np.array(o3d.io.read_point_cloud(ab_path).points)))\n",
        "\n",
        "print(a)"
      ]
    },
    {
      "cell_type": "code",
      "execution_count": null,
      "metadata": {
        "id": "nOXOT31vmgzr"
      },
      "outputs": [],
      "source": [
        "a = []\n",
        "path = '/content/drive/MyDrive/Thesis_Project/DATA/RandomDownsample_Folder'\n",
        "h = listdir('/content/drive/MyDrive/Thesis_Project/DATA/RandomDownsample_Folder')\n",
        "\n",
        "for i in h :\n",
        "  ab_path = path +'/'+ i\n",
        "  a.append(len(np.array(o3d.io.read_point_cloud(ab_path).points)))\n",
        "\n",
        "print(a)\n",
        "max = a[0]\n",
        "min = a[0]\n",
        "\n",
        "for i in range(1, len(a)):\n",
        "    \n",
        "    if max < a[i]:\n",
        "        max = a[i]\n",
        "\n",
        "    if min > a[i]:\n",
        "        min = a[i]\n",
        "print(max)\n",
        "print(min)"
      ]
    },
    {
      "cell_type": "code",
      "execution_count": null,
      "metadata": {
        "id": "-cVykNEJnHVW"
      },
      "outputs": [],
      "source": [
        ""
      ]
    },
    {
      "cell_type": "code",
      "execution_count": null,
      "metadata": {
        "colab": {
          "base_uri": "https://localhost:8080/"
        },
        "id": "370Bh3nenHnw",
        "outputId": "1ab417ed-c309-4297-a6c2-bdac04948ee3"
      },
      "outputs": [
        {
          "name": "stdout",
          "output_type": "stream",
          "text": [
            "[4031, 3454, 3879, 4283, 3980, 3602, 3920, 4184, 4031, 3751, 4046, 4497, 4117, 3649, 4577, 3584, 3813, 3379, 3609, 3298, 3518, 3534, 3227, 3677, 3734, 3548, 3942, 3534, 3528, 3861, 3902, 3897, 3708, 3897, 3868, 4095, 3965, 4200, 3757, 3828, 3514, 3513, 3703, 3516, 3462, 3095, 3403, 3581, 3507, 3586, 3608, 3792, 3563, 3659, 3561, 3708, 3686, 3638, 3606, 3510, 3671, 3462, 3756, 4272, 3540, 3969, 4083, 3871, 3711, 3222, 4043, 3651, 3441, 3459, 3830, 3670, 3672, 4098, 3534, 3769, 3625, 3951, 3450, 3943, 3908, 3432, 3786, 3572, 3544, 3568, 3826, 3574, 3562, 3749, 3627, 3670, 3680, 3566, 3967, 3612, 3859, 3867, 3794, 3705, 3600, 3539, 3824, 3999, 4281, 4229, 3321, 3127, 3129, 3136, 3189, 3289, 3392, 3392, 3132, 3198, 3056, 3472, 2708, 3112, 2993, 2827, 3446, 3074, 3016, 2873, 3372, 3110, 3288, 3241, 4677, 4580, 4428, 4342, 4663, 4803, 4489, 3781, 3635, 4162, 3743, 3796, 3716, 4058, 3470, 3620, 4126, 3745, 3982, 3570, 3995, 4050, 4216, 3881, 3539, 3656, 3449, 3759, 3683, 3696, 3743, 3773, 3745, 3921, 3114, 3779, 3742, 3877, 3873, 3474, 3794, 3952, 3823, 4356, 3443, 3867, 4215, 3986, 3374, 3220, 3113, 3257, 2898, 3116, 3211, 3320, 3388, 3442, 3437, 3369, 3455, 3305, 3438, 3371, 3395, 3416, 3308, 3349, 3418, 3772, 3505, 3748, 3393, 3502, 3474, 3528, 3589, 3474, 3578, 3523, 3597, 3636, 3580, 3525, 3863, 3791, 3660, 3794, 3746, 3344, 3429, 3475, 3879, 3862, 3860, 4041, 3716, 4027, 3569, 3956, 3854, 3844, 3968, 3832, 3695, 3556, 3776, 3656, 3484, 3655, 3625, 3587, 3614, 3650, 3567, 4034, 3401, 3851, 3995, 4093, 4067, 3918, 3866, 3923, 3956, 3951, 3928, 3960, 3894, 4115, 3865, 3784, 3605, 3636, 3725, 3424, 3725, 3545, 3460, 3539, 3941, 3892, 4017, 3648, 3932, 3452, 3438, 3408, 3370, 3299, 3595, 3591, 3171, 3319, 3111, 3420, 3363, 3390, 3375, 3770, 3600, 3289, 3373, 3930, 3661, 3575, 3491, 3581, 2286, 2220, 2302, 2233, 2281, 2261, 2276, 2271, 2317, 2246, 2233, 2343, 2217, 2322, 2317, 2354, 2270, 2329, 2321, 2352, 2409, 2401, 2363, 2457, 2366, 2370, 2535, 2478, 2439, 2444, 2474, 2409, 2496, 2490, 2419, 2359, 2513, 2425, 2455, 2441, 2416, 2512, 2560, 2550, 2654, 2525, 2697, 1848, 2699, 1896, 1916, 2055, 1949, 2086, 2029, 2021, 2061, 2116, 2124, 2062, 1962, 2027, 2086, 1983, 2207, 2105, 2256, 2180, 2121, 2281, 2189, 2184, 2908, 2966, 2973, 3025, 2788, 2792, 2633, 2789, 2801, 2964, 2829, 2826, 3012, 2771, 2852, 2725, 2880, 2870, 2751, 2813, 2848, 3083, 3071, 3125, 2118, 1996, 2051, 2045, 1976, 2014, 1837, 1795, 1964, 1751, 1795, 1841, 1673, 1912, 1926, 1922, 1905, 1946, 1936, 1850, 2015, 2116, 1992, 2225, 2046, 2133, 2306, 2232, 2110, 2357, 2255, 2135, 2221, 2161, 2292, 2288, 2149, 2108, 2338, 2229, 2233, 2303, 2197, 2406, 2329, 2431, 2554, 2603, 2655, 2636, 2591, 2651, 2604, 2661, 2633, 2581, 2559, 2559, 2528, 2570, 2436, 2662, 2665, 2617, 2674, 2584, 2366, 2542, 2798, 2657, 2731, 2779, 2056, 1987, 2016, 1949, 1985, 1984, 1899, 1998, 1991, 1970, 1931, 1993, 1986, 1939, 1898, 2032, 2025, 1916, 1949, 1940, 2099, 2096, 2254, 2205, 2070, 2291, 2262, 2168, 1988, 2270, 2206, 2163, 2241, 2352, 2279, 2289, 2225, 2240, 2199, 2179, 2315, 2220, 2286, 2183, 2260, 2361, 2470, 2250, 2286, 2432, 2328, 2357, 2304, 2312, 2249, 2255, 2217, 2295, 2207, 2167, 2221, 2278, 2326, 2257, 2354, 2278, 2376, 2258, 2392, 2356, 2507, 2505, 5028, 5378, 5000, 5186, 5415, 4808, 4756, 4738, 4721, 4661, 4728, 4342, 4431, 4283, 4201, 4205, 4185, 4240, 5380, 5026, 5470, 5107, 5644, 5535, 5004, 5088, 5287, 4878, 4926, 4817, 4829, 4889, 4690, 4749, 4974, 4670, 4724, 4750, 4783, 4792, 4649, 4830, 4936, 4886, 4880, 4830, 4425, 4738, 2338, 2358, 2430, 1965, 2038, 2146, 2187, 2307, 2205, 3933, 3467, 3984, 3441, 3871, 3363, 3990, 3602, 3836, 3517, 3879, 3672, 3571, 3642, 3460, 3800, 3642, 3842, 3448, 3602, 3746, 3778, 3787, 3934, 4230, 4322, 4353, 4208, 4482, 4247, 3951, 3913, 4253, 3968, 4135, 3853, 4069, 4089, 4121, 4017, 4067, 3844, 4198, 4419, 3991, 4662, 4475, 3721, 4352, 3245, 3654, 3916, 3548, 3404, 3621, 3174, 3267, 3696, 3676, 3430, 3378, 3805, 3284, 3423, 3297, 3509, 3181, 3338, 3582, 3785, 3594, 3274, 3837, 3716, 3349, 3377, 3428, 3509, 3470, 3320, 3304, 3840, 3317, 3400, 3447, 3623, 3373, 3536, 3341, 3344, 3720, 3354, 3639, 3749, 3669, 3480, 3268, 3544, 3506, 3285, 3283, 3528, 3580, 3628, 3586, 3660, 3521, 3700, 3604, 3291, 3411, 3352, 3563, 3205, 3400, 3523, 3517, 3353, 3416, 3617, 3720, 3443, 3562, 3338, 3446, 3161, 3468, 3312, 3277, 3158, 3245, 3175, 2909, 3090, 3149, 3234, 2994, 3177, 3243, 3181, 3240, 3423, 3343, 3366, 4111, 4479, 3982, 4037, 4236, 4372, 4317, 4053, 4184, 4244, 4225, 4181, 4133, 4071, 4092, 4022, 4358, 4227, 4013, 4143, 4074, 4288, 3123, 4438, 4247, 3252, 3298, 3539, 3168, 3543, 3218, 3322, 3280, 3027, 3212, 3502, 3104, 3428, 3374, 3347, 3245, 3238, 3377, 3558, 3356, 3512, 3614, 3922, 3624, 3464, 3668, 3776, 3408, 3537, 3593, 3628, 3667, 3664, 3809, 3716, 3490, 3614, 3597, 3498, 3376, 3383, 3196, 3523, 3576, 3710, 3853, 3732, 3328, 3255, 3095, 3597, 3313, 3172, 3243, 3226, 2809, 3149, 3081, 3259, 3053, 3362, 3209, 3299, 3209, 3020, 3178, 3133, 2965, 3580, 3720, 3629, 4109, 4143, 4271, 4212, 4168, 4162, 4177, 4035, 4095, 4143, 4238, 4104, 4177, 4047, 4242, 4121, 4096, 4139, 4068, 4135, 4182, 4254, 4106, 4036, 2876, 2881, 3081, 3002, 2984, 2952, 2827, 2880, 3007, 2686, 2813, 2939, 3024, 2731, 3111, 3140, 3218, 3217, 2864, 3091, 2925, 2976, 2970, 2969, 3641, 3661, 3824, 3777, 4103, 3991, 3644, 4050, 3922, 3636, 3848, 4130, 3704, 3815, 3999, 3993, 3749, 3980, 4062, 4386, 3623, 4034, 4400, 2029, 4125, 2001, 2041, 2036, 2002, 2026, 1979, 2020, 1855, 1916, 1878, 1882, 2012, 2053, 1963, 1988, 1870, 2052, 1942, 2006, 1888, 1914, 1964, 2842, 1943, 2838, 3028, 2972, 3178, 2896, 2850, 2945, 2584, 2809, 2890, 2832, 2907, 2669, 2910, 2504, 2765, 2881, 2821, 2759, 2845, 3031, 2980, 2969, 3081, 2983, 2817, 2867, 2910, 2731, 2901, 2891, 2901, 2895, 2928, 2662, 2938, 2678, 2877, 3162, 2951, 3105, 3130, 3351, 3216, 3369, 3448, 3999, 3175, 3834, 4197, 3509, 3696, 3408, 3776, 3442, 4025, 3848, 3819, 3717, 3634, 3892, 3829, 3606, 3472, 3822, 3816, 3903, 3917, 3663, 3994, 3924, 4037, 3687, 3744, 3864, 3921, 3910, 3845, 3807, 4141, 3769, 4099, 3803, 4155, 3978, 3981, 4063, 4091, 3918, 4117, 3990, 3935, 3850, 3540, 3779, 3344, 3354, 3588, 3115, 3705, 3830, 4326, 4262, 3704, 3763, 3523, 3422, 3470, 3474, 3640, 4296, 3905, 4473, 4202, 4434, 4164, 4666, 4253, 4515, 4777, 4754, 4431, 4815, 4212, 4252, 4894, 4677, 4667, 4298, 4553, 4580, 4486, 4694, 4609, 3122, 4510, 2929, 2991, 2987, 2792, 2647, 2862, 2966, 2767, 2991, 2813, 2628, 2586, 2842, 2725, 2435, 2682, 2909, 3303, 2788, 3196, 3018, 3387, 3032, 4778, 4805, 4912, 4854, 4756, 4856, 4719, 4509, 4766, 4628, 4368, 4370, 4676, 4517, 4447, 4477, 4557, 4603, 4679, 4566, 4624, 4635, 4649, 4748, 4489, 4367, 4363, 4022, 4322, 4004, 4404, 4479, 4137, 4251, 4023, 4332, 4634, 4409, 4223, 4327, 4439, 4495, 3981, 4897, 4281, 4369, 4133, 4162, 4861, 5198, 4332, 4773, 4602, 4329, 4409, 4772, 4796, 4364, 4804, 4797, 5019, 4987, 4184, 4851, 4620, 4653, 4776, 4081, 5168, 4610, 5012, 4906, 3968, 4433, 4033, 4330, 4286, 3942, 4360, 4627, 3866, 4081, 3820, 4157, 4133, 4225, 4592, 3734, 4039, 4388, 3927, 4658, 4210, 4132, 2661, 3673, 3783, 2415, 2473, 2317, 2372, 2219, 2398, 2154, 2386, 2395, 2496, 2309, 2390, 2457, 2336, 2320, 2583, 2465, 2329, 2693, 2383, 2662, 2574, 2603, 2603, 2641, 2584, 2463, 2694, 2778, 2560, 2630, 2658, 2671, 2477, 2632, 2920, 2842, 2843, 2633, 2719, 2910, 2828, 2669, 2840, 2682, 2807, 2876, 2247, 2192, 2175, 2266, 2279, 2215, 2202, 2176, 2236, 2287, 2363, 2330, 2355, 2398, 2276, 2379, 2445, 2307, 2399, 2452, 2230, 2474, 2527, 2543, 2667, 2776, 2860, 2893, 2546, 2659, 2693, 2657, 2612, 2551, 2370, 2321, 2701, 2701, 2691, 2646, 2836, 2807, 2871, 2800, 3106, 2864, 3177, 2946, 2747, 2821, 2693, 2347, 2668, 2819, 2696, 2673, 2799, 2673, 2844, 2903, 2687, 2494, 2970, 2644, 2949, 2810, 2855, 2976, 3033, 2868, 2985, 2991, 2589, 2447, 2652, 2596, 2329, 2405, 2321, 2270, 2271, 2212, 2293, 2220, 2427, 2372, 2308, 2358, 2412, 2354, 2251, 2209, 2606, 2505, 2550, 2898, 3138, 3230, 3115, 3110, 2912, 3169, 2930, 3107, 3010, 3161, 2971, 2944, 2945, 2812, 2543, 2683, 3012, 2873, 3000, 2761, 2897, 2721, 2967, 2532, 2702, 2698, 2901, 2656, 2775, 2510, 2628, 2656, 2499, 2432, 2365, 2437, 2474, 2493, 2423, 2481, 2127, 2340, 2293, 2264, 2124, 2188, 2128, 2516, 2777, 2782, 2914, 2639, 2744, 2568, 2567, 2679, 2574, 2716, 2692, 2706, 2452, 2572, 2393, 2542, 2689, 2485, 2397, 2673, 2579, 2352, 2655, 2127, 2507, 2099, 2201, 1897, 2048, 1748, 1865, 1784, 1735, 1741, 2002, 1726, 1939, 1961, 1757, 2223, 2163, 1955, 2118, 2308, 2078, 2183, 2627, 2440, 2733, 2621, 2320, 2691, 2335, 2292, 2473, 2318, 2407, 2457, 2430, 2611, 2404, 2492, 2615, 2393, 2574, 2649, 2348, 2464, 2651, 2705, 2768, 2499, 2928, 2954, 2973, 2916, 2989, 2951, 2834, 2937, 2895, 2936, 2938, 2874, 2866, 2850, 2843, 2913, 2771, 2908, 2798, 2759, 2961, 2990, 2935, 2635, 3015, 2677, 2578, 2622, 2593, 2551, 2538, 2511, 2624, 2393, 2756, 2741, 2668, 2570, 2535, 2423, 2659, 2645, 2610, 2566, 2693, 2637, 2776, 2940, 2742, 2773, 2956, 2966, 2781, 2598, 2653, 2664, 2367, 2485, 2464, 2399, 2757, 2820, 2931, 2797, 2616, 2688, 2704, 2651, 2660, 2765, 2819, 2358, 2890, 2469, 2445, 2377, 2400, 2391, 2378, 2461, 2225, 2254, 2315, 2279, 2521, 2487, 2450, 2449, 2465, 2491, 2497, 2506, 2494, 2565, 2654, 2517, 2646, 2579, 2494, 2425, 2381, 2403, 2520, 2521, 2546, 2516, 2525, 2461, 2405, 2461, 2417, 2388, 2420, 2391, 2576, 2403, 2408, 2412, 2536, 2385, 2493, 2392, 2412, 2590, 2387, 2563, 2484, 2526, 2392, 2595, 2404, 2442, 2375, 2521, 2509, 2417, 2477, 2456, 2566, 2530, 2741, 2623, 2690, 2538, 3972, 3515, 4100, 3910, 4316, 4174, 4375, 2892, 3261, 2802, 2924, 3192, 2935, 3069, 2689, 2967, 3085, 3113, 2953, 3026, 3185, 3150, 3248, 2964, 3185, 3191, 3137, 3243, 3441, 3275, 2368, 3370, 2225, 2245, 2174, 2144, 2175, 2171, 2148, 2227, 2106, 2187, 2129, 2133, 1993, 2156, 2176, 2268, 2186, 2251, 2132, 2196, 2371, 2393, 2253, 2965, 3114, 3227, 3091, 3277, 3347, 3149, 3372, 3164, 3198, 3069, 3119, 3323, 3102, 3175, 3096, 3112, 3178, 3256, 3205, 3231, 3223, 3265, 3481, 3810, 3923, 3969, 3945, 3806, 4064, 3733, 3908, 3723, 4200, 3890, 3972, 3750, 4104, 4093, 3859, 4070, 3846, 3982, 3921, 3941, 3969, 4046, 4065, 2266, 2245, 2270, 2229, 2144, 2284, 2226, 2276, 2179, 2301, 2253, 2313, 2251, 2243, 2266, 2184, 2155, 2184, 2170, 2260, 2468, 2296, 2420, 2576, 2307, 2211, 2243, 2218, 2225, 2235, 2036, 2108, 2114, 2174, 2169, 2135, 2059, 2180, 2169, 2281, 2134, 2209, 2027, 2125, 2017, 2175, 2245, 2331, 4246, 4255, 4006, 3995, 3869, 4045, 3838, 4095, 4292, 4003, 4464, 3722, 3730, 4177, 3868, 4289, 4367, 3977, 3830, 4343, 4206, 4363, 4446, 2455, 4230, 2297, 2423, 2361, 2367, 2036, 2332, 2230, 2280, 2330, 2283, 2377, 2534, 2394, 2484, 2407, 2415, 2557, 2455, 2704, 2490, 2659, 2695, 2558, 2760, 2592, 2626, 2715, 2541, 2364, 2402, 2442, 2497, 2380, 2492, 2407, 2399, 2790, 2428, 2281, 2446, 2488, 2450, 2485, 2498, 2552, 2809, 2843, 4020, 3620, 3690, 3810, 3844, 3577, 4037, 3799, 3857, 4001, 3677, 3903, 3607, 3715, 3809, 3731, 3623, 4027, 3426, 3920, 3927, 3699, 4036, 3773, 3362, 3531, 3127, 3472, 3375, 3280, 3314, 3058, 3220, 3032, 3298, 2863, 3578, 3629, 3358, 3078, 3350, 3254, 3165, 3470, 3328, 3430, 3386, 3206, 3253, 3253, 3496, 3610, 3664, 3858, 3728, 3904, 3818, 3780, 3761, 3667, 3664, 3835, 3869, 3833, 3709, 3806, 3763, 3701, 3750, 3840, 3828, 3867, 2798, 2580, 2475, 2442, 2799, 2453, 2485, 2616, 2607, 2562, 2815, 2533, 2563, 2458, 2423, 2556, 2474, 2403, 2597, 2537, 2759, 2820, 2686, 3093, 2985, 2824, 3291, 3167, 2880, 2980, 3587, 3219, 3070, 2923, 3326, 3284, 2902, 3158, 2983, 3020, 3002, 2938, 2696, 2780, 3239, 3332, 3303, 3275, 3785, 4114, 3352, 3740, 3762, 3940, 4234, 3876, 3621, 3797, 4165, 3636, 3892, 3762, 3742, 3682, 3544, 3479, 3717, 3664, 3799, 4029, 4058, 4012, 3600, 3520, 3643, 3436, 3659, 3713, 3582, 3737, 3758, 3525, 3645, 3774, 3489, 3475, 3546, 3553, 3641, 3557, 3434, 3428, 3690, 3680, 3853, 3875, 4186, 3975, 3865, 3759, 4365, 4078, 3858, 3996, 3817, 4139, 1983, 2209, 2235, 2131, 2190, 2213, 2360, 2039, 2178, 2128, 2206, 2122, 2219, 2229, 2254, 3720, 3717, 3821, 4174, 3850, 4515, 4573, 4236, 4243, 4213, 3934, 4067, 4483, 4163, 3910, 4409, 4474, 4536, 4366, 4535, 4868, 4476, 4324, 2248, 4543, 2379, 2293, 2267, 2266, 2089, 2153, 2138, 2020, 2135, 2125, 2114, 1863, 2240, 2179, 2252, 2080, 2311, 2198, 2356, 2215, 2434, 2291, 2455, 4347, 4087, 4084, 3610, 3822, 3667, 3405, 3832, 3828, 3557, 3866, 4018, 4193, 3778, 3664, 4255, 3965, 4459, 3771, 3883, 3648, 3894, 3646, 4556, 3583, 4079, 4332, 3817, 4136, 3858, 3759, 3712, 3611, 4032, 3880, 4257, 4198, 4385, 4125, 4318, 4504, 4244, 4194, 4522, 4022, 4364, 4266, 3902, 4113, 4396, 4021, 3996, 4015, 3917, 3830, 4297, 3995, 4027, 4013, 4030, 4062, 3982, 3978, 3776, 3777, 4222, 4084, 3849, 4157, 4226, 4547, 4483, 2847, 2939, 2837, 2911, 2560, 2635, 2636, 2543, 2526, 2508, 2521, 2597, 2536, 2750, 2719, 2862, 2761, 2701, 2724, 2555, 2789, 2863, 2842, 2608, 4071, 4158, 4259, 4385, 4295, 3978, 4283, 4114, 3968, 3800, 4080, 3694, 4353, 4761, 4675, 4447, 4301, 4262, 4341, 4116, 4525, 4537, 4835, 4545, 2041, 2242, 2202, 2263, 2221, 2372, 2296, 2074, 2263, 2264, 2312, 2190, 2389, 2301, 2149, 2341, 2421, 2177, 2121, 2247, 2361, 2405, 2513, 2422, 3652, 3913, 3318, 3262, 3794, 3619, 3548, 3453, 4014, 4036, 3719, 3692, 4175, 4308, 3863, 3737, 4123, 3920, 3831, 3446, 4167, 4552, 4119, 4086, 5092, 4905, 4741, 4627, 4458, 4762, 4638, 4025, 4448, 4411, 4452, 4391, 4301, 4709, 4245, 4400, 4764, 4661, 4418, 4563, 4456, 4807, 4433, 4501, 3577, 3995, 4035, 3689, 3477, 3721, 3907, 3677, 3463, 3309, 3894, 3453, 3869, 3571, 3429, 3419, 2950, 3686, 3491, 4314, 3623, 4185, 4486, 3766, 4312, 4365, 4141, 4294, 4416, 4400, 4196, 4240, 4366, 4359, 4148, 4414, 4273, 4384, 4211, 4265, 4355, 4590, 4186, 4470, 4592, 4481, 4799, 4533, 4370, 4037, 4399, 4409, 4302, 3915, 4323, 4195, 3999, 4261, 4434, 4552, 4145, 4287, 4430, 4116, 4517, 4300, 4392, 4432, 4597, 4189, 4499, 4611, 3916, 3864, 3971, 3803, 3797, 4357, 4265, 4326, 3942, 4049, 4195, 4041, 3942, 3875, 3925, 3807, 3899, 4180, 4134, 4265, 4051, 4198, 4102, 3872, 4082, 3712, 3503, 3658, 4163, 4122, 3943, 3968, 4327, 4136, 4008, 3927, 4301, 4468, 3921, 3966, 4564, 4331, 4238, 4443, 3851, 4311, 4504, 4023, 4869, 4493, 3985, 4156, 4146, 3898, 3848, 4361, 3664, 4121, 4464, 4391, 4250, 4457, 4512, 4537, 4237, 4744, 4936, 4439, 4602, 5244, 4942, 4829, 3948]\n",
            "5644\n",
            "1673\n"
          ]
        }
      ],
      "source": [
        "a = []\n",
        "path = '/content/drive/MyDrive/Thesis_Project/DATA/RandomDownsample_Folder'\n",
        "h = listdir('/content/drive/MyDrive/Thesis_Project/DATA/RandomDownsample_Folder')\n",
        "\n",
        "for i in h :\n",
        "  ab_path = path +'/'+ i\n",
        "  a.append(len(np.array(o3d.io.read_point_cloud(ab_path).points)))\n",
        "\n",
        "print(a)\n",
        "max = a[0]\n",
        "min = a[0]\n",
        "\n",
        "for i in range(1, len(a)):\n",
        "    \n",
        "    if max < a[i]:\n",
        "        max = a[i]\n",
        "\n",
        "    if min > a[i]:\n",
        "        min = a[i]\n",
        "print(max)\n",
        "print(min)"
      ]
    },
    {
      "cell_type": "code",
      "execution_count": null,
      "metadata": {
        "colab": {
          "base_uri": "https://localhost:8080/"
        },
        "id": "hcmLZhrfnH_r",
        "outputId": "e680d521-b3d9-4320-9986-d1cfaafe0638"
      },
      "outputs": [
        {
          "name": "stdout",
          "output_type": "stream",
          "text": [
            "[16124, 13818, 15516, 17134, 15920, 14410, 15680, 16738, 16126, 15006, 16184, 17990, 16470, 14598, 18308, 14338, 15254, 13518, 14438, 13194, 14074, 14136, 12908, 14708, 14936, 14194, 15770, 14138, 14114, 15444, 15610, 15590, 14832, 15588, 15474, 16380, 15860, 16800, 15030, 15312, 14056, 14054, 14812, 14064, 13848, 12380, 13612, 14324, 14028, 14344, 14434, 15168, 14252, 14636, 14246, 14834, 14744, 14552, 14426, 14042, 14686, 13850, 15024, 17090, 14160, 15876, 16334, 15486, 14844, 12890, 16172, 14606, 13764, 13838, 15322, 14680, 14690, 16392, 14136, 15076, 14502, 15806, 13802, 15772, 15632, 13730, 15146, 14290, 14178, 14274, 15306, 14298, 14248, 14996, 14508, 14680, 14722, 14264, 15870, 14448, 15436, 15470, 15176, 14822, 14400, 14158, 15296, 15998, 17126, 16918, 13284, 12508, 12518, 12544, 12756, 13156, 13568, 13568, 12528, 12792, 12224, 13890, 10832, 12450, 11972, 11310, 13784, 12296, 12066, 11492, 13490, 12442, 13152, 12966, 18710, 18322, 17714, 17368, 18654, 19212, 17958, 15124, 14542, 16648, 14972, 15186, 14866, 16234, 13882, 14480, 16504, 14980, 15930, 14280, 15982, 16200, 16866, 15524, 14156, 14624, 13798, 15036, 14734, 14784, 14972, 15094, 14980, 15686, 12456, 15118, 14968, 15508, 15494, 13896, 15178, 15810, 15292, 17424, 13774, 15470, 16862, 15944, 13496, 12882, 12452, 13028, 11592, 12464, 12844, 13282, 13554, 13768, 13748, 13476, 13822, 13222, 13752, 13486, 13582, 13664, 13232, 13396, 13672, 15090, 14022, 14994, 13572, 14008, 13896, 14114, 14356, 13898, 14312, 14092, 14388, 14544, 14320, 14102, 15454, 15164, 14640, 15178, 14986, 13376, 13716, 13902, 15518, 15450, 15440, 16164, 14864, 16108, 14278, 15824, 15418, 15378, 15872, 15330, 14782, 14226, 15104, 14624, 13936, 14620, 14500, 14348, 14458, 14602, 14270, 16138, 13606, 15406, 15982, 16372, 16268, 15674, 15466, 15692, 15824, 15806, 15714, 15842, 15578, 16462, 15462, 15136, 14420, 14546, 14902, 13698, 14902, 14180, 13840, 14158, 15766, 15568, 16070, 14592, 15730, 13808, 13752, 13632, 13480, 13196, 14382, 14364, 12684, 13276, 12444, 13680, 13452, 13560, 13502, 15082, 14400, 13158, 13494, 15720, 14646, 14302, 13966, 14324, 9146, 8882, 9210, 8932, 9124, 9046, 9104, 9084, 9268, 8984, 8932, 9374, 8868, 9288, 9268, 9418, 9080, 9316, 9284, 9408, 9638, 9604, 9454, 9830, 9464, 9482, 10140, 9912, 9756, 9776, 9896, 9636, 9986, 9960, 9676, 9438, 10054, 9700, 9822, 9766, 9664, 10050, 10240, 10202, 10616, 10102, 10790, 7392, 10798, 7586, 7666, 8220, 7798, 8344, 8118, 8086, 8244, 8464, 8496, 8248, 7850, 8108, 8344, 7934, 8830, 8422, 9024, 8720, 8486, 9126, 8756, 8738, 11632, 11864, 11894, 12100, 11154, 11168, 10532, 11158, 11204, 11858, 11316, 11306, 12048, 11084, 11408, 10900, 11520, 11480, 11006, 11252, 11392, 12332, 12286, 12500, 8474, 7984, 8206, 8182, 7906, 8058, 7348, 7182, 7856, 7004, 7182, 7366, 6692, 7650, 7704, 7688, 7622, 7786, 7744, 7402, 8060, 8466, 7970, 8900, 8184, 8532, 9224, 8928, 8440, 9428, 9022, 8540, 8886, 8646, 9170, 9152, 8596, 8432, 9354, 8918, 8932, 9214, 8790, 9624, 9316, 9724, 10218, 10414, 10620, 10546, 10364, 10606, 10418, 10646, 10532, 10324, 10236, 10238, 10114, 10282, 9746, 10650, 10662, 10470, 10696, 10338, 9466, 10170, 11194, 10628, 10924, 11116, 8224, 7948, 8066, 7798, 7940, 7936, 7598, 7994, 7966, 7880, 7726, 7972, 7946, 7758, 7592, 8130, 8102, 7666, 7798, 7762, 8398, 8386, 9016, 8822, 8282, 9166, 9050, 8674, 7952, 9082, 8824, 8652, 8966, 9408, 9116, 9156, 8900, 8960, 8796, 8718, 9262, 8882, 9144, 8734, 9040, 9446, 9880, 9000, 9144, 9728, 9314, 9428, 9216, 9250, 8996, 9020, 8868, 9182, 8828, 8668, 8884, 9112, 9304, 9030, 9416, 9114, 9506, 9034, 9568, 9426, 10030, 10022, 20114, 21514, 20002, 20746, 21662, 19232, 19026, 18954, 18884, 18644, 18914, 17368, 17724, 17132, 16804, 16822, 16742, 16960, 21520, 20104, 21880, 20428, 22576, 22140, 20016, 20354, 21150, 19514, 19704, 19270, 19316, 19556, 18762, 18996, 19896, 18682, 18896, 19000, 19134, 19168, 18596, 19322, 19744, 19546, 19522, 19322, 17702, 18954, 9352, 9434, 9720, 7862, 8152, 8586, 8750, 9230, 8820, 15732, 13870, 15936, 13766, 15484, 13452, 15962, 14408, 15346, 14070, 15518, 14688, 14286, 14568, 13842, 15202, 14570, 15368, 13792, 14410, 14986, 15112, 15148, 15738, 16922, 17288, 17414, 16834, 17930, 16988, 15806, 15652, 17012, 15874, 16540, 15414, 16278, 16358, 16486, 16070, 16270, 15376, 16794, 17678, 15964, 18650, 17900, 14884, 17410, 12980, 14618, 15664, 14194, 13618, 14484, 12698, 13070, 14786, 14706, 13722, 13514, 15220, 13136, 13692, 13188, 14038, 12726, 13354, 14328, 15142, 14378, 13098, 15350, 14866, 13396, 13508, 13714, 14036, 13880, 13282, 13216, 15360, 13270, 13602, 13790, 14494, 13492, 14144, 13366, 13376, 14880, 13418, 14556, 14998, 14678, 13922, 13072, 14178, 14024, 13142, 13134, 14114, 14320, 14512, 14346, 14642, 14086, 14802, 14416, 13164, 13646, 13410, 14252, 12822, 13600, 14092, 14068, 13412, 13666, 14470, 14880, 13772, 14250, 13354, 13784, 12646, 13872, 13248, 13110, 12634, 12980, 12702, 11636, 12362, 12598, 12938, 11978, 12710, 12972, 12726, 12960, 13692, 13372, 13464, 16446, 17916, 15928, 16148, 16944, 17490, 17268, 16214, 16736, 16978, 16900, 16726, 16534, 16286, 16368, 16090, 17432, 16910, 16054, 16572, 16298, 17152, 12492, 17754, 16988, 13008, 13194, 14158, 12672, 14172, 12874, 13288, 13122, 12110, 12848, 14008, 12416, 13712, 13498, 13388, 12980, 12954, 13508, 14232, 13424, 14048, 14456, 15690, 14498, 13856, 14674, 15106, 13632, 14148, 14372, 14512, 14670, 14656, 15238, 14866, 13960, 14458, 14388, 13992, 13506, 13532, 12786, 14092, 14306, 14840, 15412, 14928, 13312, 13020, 12380, 14388, 13252, 12690, 12972, 12906, 11238, 12596, 12326, 13036, 12214, 13450, 12836, 13196, 12836, 12080, 12714, 12532, 11860, 14322, 14880, 14516, 16436, 16574, 17086, 16848, 16674, 16650, 16710, 16142, 16382, 16574, 16952, 16416, 16708, 16190, 16968, 16486, 16384, 16558, 16274, 16542, 16730, 17016, 16424, 16144, 11504, 11524, 12324, 12008, 11936, 11808, 11310, 11522, 12028, 10744, 11254, 11756, 12096, 10924, 12444, 12562, 12874, 12870, 11458, 12366, 11700, 11904, 11880, 11878, 14566, 14644, 15298, 15110, 16414, 15966, 14576, 16200, 15690, 14546, 15392, 16520, 14816, 15260, 15998, 15974, 14996, 15920, 16248, 17544, 14492, 16136, 17600, 8116, 16502, 8004, 8164, 8144, 8010, 8104, 7918, 8080, 7422, 7666, 7512, 7530, 8050, 8214, 7852, 7954, 7480, 8208, 7770, 8024, 7552, 7658, 7858, 11370, 7774, 11352, 12112, 11890, 12714, 11584, 11402, 11780, 10338, 11236, 11562, 11328, 11630, 10678, 11642, 10016, 11060, 11526, 11284, 11036, 11382, 12124, 11920, 11876, 12326, 11934, 11270, 11470, 11640, 10926, 11604, 11566, 11604, 11582, 11712, 10648, 11752, 10714, 11508, 12648, 11806, 12422, 12520, 13406, 12866, 13476, 13792, 15998, 12700, 15338, 16790, 14038, 14784, 13634, 15104, 13768, 16102, 15394, 15276, 14868, 14538, 15568, 15318, 14424, 13888, 15288, 15264, 15612, 15670, 14654, 15978, 15696, 16150, 14748, 14978, 15456, 15686, 15642, 15382, 15228, 16566, 15078, 16396, 15214, 16620, 15912, 15924, 16254, 16364, 15672, 16470, 15960, 15742, 15402, 14162, 15116, 13376, 13418, 14354, 12460, 14820, 15322, 17304, 17050, 14816, 15054, 14092, 13688, 13882, 13896, 14562, 17186, 15622, 17892, 16808, 17738, 16658, 18664, 17012, 18060, 19110, 19016, 17726, 19260, 16850, 17010, 19576, 18708, 18670, 17194, 18214, 18322, 17944, 18776, 18436, 12488, 18042, 11716, 11964, 11950, 11170, 10590, 11448, 11864, 11068, 11964, 11254, 10512, 10344, 11368, 10902, 9740, 10728, 11636, 13214, 11152, 12786, 12072, 13548, 12128, 19112, 19222, 19650, 19416, 19024, 19426, 18876, 18036, 19066, 18514, 17474, 17480, 18706, 18070, 17788, 17908, 18230, 18414, 18716, 18264, 18498, 18540, 18598, 18992, 17956, 17470, 17452, 16090, 17288, 16018, 17616, 17918, 16550, 17004, 16092, 17328, 18538, 17636, 16894, 17310, 17756, 17980, 15926, 19588, 17124, 17478, 16532, 16650, 19446, 20792, 17330, 19092, 18408, 17316, 17638, 19090, 19184, 17458, 19216, 19188, 20078, 19948, 16738, 19406, 18482, 18614, 19106, 16326, 20674, 18442, 20048, 19626, 15872, 17734, 16132, 17320, 17146, 15770, 17440, 18510, 15464, 16326, 15280, 16628, 16534, 16902, 18368, 14936, 16158, 17554, 15708, 18634, 16842, 16530, 10646, 14692, 15134, 9660, 9894, 9270, 9488, 8876, 9592, 8618, 9544, 9582, 9984, 9238, 9562, 9830, 9346, 9280, 10332, 9862, 9316, 10774, 9532, 10648, 10296, 10412, 10414, 10566, 10338, 9852, 10776, 11114, 10242, 10522, 10632, 10684, 9910, 10530, 11680, 11368, 11374, 10534, 10876, 11642, 11314, 10678, 11362, 10730, 11230, 11504, 8988, 8768, 8700, 9064, 9118, 8862, 8808, 8704, 8946, 9150, 9452, 9320, 9422, 9592, 9106, 9516, 9780, 9228, 9596, 9808, 8920, 9898, 10110, 10174, 10670, 11104, 11440, 11572, 10184, 10636, 10774, 10628, 10450, 10204, 9482, 9284, 10804, 10804, 10764, 10586, 11344, 11230, 11486, 11202, 12424, 11456, 12710, 11784, 10988, 11284, 10774, 9388, 10674, 11276, 10786, 10692, 11198, 10694, 11378, 11614, 10750, 9978, 11880, 10576, 11796, 11240, 11420, 11906, 12132, 11472, 11942, 11966, 10356, 9788, 10608, 10384, 9316, 9620, 9286, 9080, 9086, 8848, 9172, 8882, 9708, 9490, 9232, 9434, 9650, 9418, 9004, 8838, 10426, 10020, 10202, 11594, 12554, 12922, 12462, 12440, 11648, 12676, 11720, 12430, 12042, 12644, 11886, 11778, 11782, 11250, 10172, 10734, 12048, 11492, 12000, 11044, 11590, 10884, 11870, 10130, 10808, 10792, 11604, 10624, 11102, 10042, 10514, 10626, 9996, 9730, 9462, 9748, 9898, 9972, 9694, 9924, 8508, 9360, 9174, 9058, 8498, 8754, 8514, 10066, 11108, 11130, 11658, 10558, 10976, 10274, 10268, 10718, 10296, 10866, 10770, 10826, 9810, 10290, 9572, 10170, 10758, 9942, 9588, 10694, 10318, 9410, 10620, 8510, 10030, 8398, 8806, 7590, 8194, 6994, 7462, 7138, 6940, 6966, 8008, 6906, 7758, 7844, 7030, 8892, 8652, 7822, 8472, 9234, 8312, 8732, 10510, 9760, 10934, 10484, 9280, 10766, 9342, 9168, 9894, 9274, 9628, 9828, 9720, 10444, 9616, 9968, 10462, 9572, 10296, 10598, 9392, 9856, 10606, 10822, 11074, 9998, 11712, 11816, 11894, 11666, 11956, 11806, 11336, 11748, 11582, 11744, 11752, 11496, 11464, 11400, 11374, 11652, 11086, 11634, 11192, 11036, 11844, 11960, 11740, 10540, 12062, 10710, 10314, 10490, 10374, 10206, 10152, 10046, 10498, 9574, 11026, 10966, 10674, 10280, 10142, 9692, 10638, 10582, 10442, 10264, 10774, 10550, 11106, 11760, 10968, 11094, 11826, 11864, 11124, 10394, 10612, 10656, 9470, 9942, 9858, 9598, 11030, 11282, 11726, 11188, 10466, 10754, 10816, 10606, 10640, 11062, 11276, 9434, 11562, 9876, 9780, 9510, 9602, 9564, 9514, 9846, 8900, 9016, 9262, 9118, 10084, 9948, 9800, 9798, 9862, 9964, 9988, 10026, 9976, 10262, 10616, 10070, 10586, 10316, 9976, 9700, 9524, 9614, 10080, 10086, 10184, 10066, 10102, 9844, 9622, 9844, 9670, 9554, 9680, 9564, 10306, 9614, 9634, 9650, 10144, 9542, 9972, 9570, 9648, 10360, 9548, 10254, 9936, 10104, 9570, 10380, 9618, 9770, 9502, 10086, 10036, 9670, 9908, 9826, 10264, 10120, 10964, 10494, 10760, 10152, 15890, 14060, 16402, 15640, 17266, 16698, 17500, 11570, 13044, 11208, 11696, 12770, 11740, 12278, 10758, 11868, 12340, 12454, 11812, 12106, 12742, 12602, 12994, 11858, 12742, 12766, 12548, 12972, 13764, 13102, 9474, 13480, 8902, 8982, 8698, 8578, 8702, 8686, 8594, 8908, 8426, 8748, 8518, 8534, 7974, 8626, 8704, 9074, 8744, 9006, 8530, 8784, 9486, 9574, 9014, 11860, 12458, 12910, 12364, 13108, 13388, 12596, 13490, 12656, 12792, 12276, 12478, 13292, 12408, 12702, 12386, 12448, 12714, 13026, 12822, 12924, 12892, 13062, 13926, 15242, 15694, 15878, 15780, 15224, 16258, 14934, 15634, 14892, 16802, 15562, 15890, 15002, 16418, 16372, 15438, 16282, 15386, 15928, 15684, 15764, 15878, 16186, 16262, 9064, 8980, 9082, 8918, 8576, 9136, 8904, 9104, 8718, 9206, 9012, 9254, 9006, 8974, 9066, 8736, 8620, 8738, 8682, 9042, 9872, 9184, 9680, 10304, 9228, 8844, 8972, 8874, 8900, 8942, 8144, 8434, 8456, 8698, 8676, 8540, 8236, 8720, 8676, 9124, 8536, 8838, 8110, 8502, 8068, 8702, 8982, 9324, 16984, 17020, 16024, 15980, 15478, 16180, 15352, 16380, 17168, 16012, 17858, 14888, 14922, 16710, 15474, 17156, 17468, 15908, 15322, 17372, 16826, 17454, 17786, 9822, 16920, 9188, 9692, 9446, 9470, 8146, 9330, 8920, 9120, 9320, 9134, 9510, 10136, 9578, 9936, 9630, 9660, 10228, 9822, 10818, 9962, 10638, 10780, 10232, 11040, 10368, 10506, 10862, 10166, 9458, 9610, 9770, 9988, 9522, 9970, 9630, 9596, 11162, 9712, 9124, 9784, 9952, 9802, 9942, 9994, 10210, 11238, 11372, 16082, 14482, 14760, 15240, 15378, 14308, 16148, 15198, 15428, 16004, 14708, 15614, 14428, 14862, 15238, 14924, 14492, 16110, 13706, 15682, 15708, 14796, 16144, 15092, 13450, 14126, 12508, 13888, 13502, 13120, 13258, 12232, 12882, 12128, 13192, 11452, 14312, 14516, 13434, 12312, 13402, 13018, 12662, 13882, 13314, 13722, 13544, 12824, 13012, 13012, 13984, 14442, 14656, 15432, 14912, 15616, 15274, 15120, 15044, 14670, 14658, 15340, 15478, 15334, 14838, 15226, 15054, 14806, 15000, 15362, 15314, 15470, 11194, 10320, 9902, 9768, 11198, 9814, 9942, 10466, 10430, 10250, 11262, 10132, 10252, 9832, 9692, 10226, 9896, 9612, 10388, 10150, 11038, 11282, 10744, 12372, 11940, 11298, 13166, 12668, 11522, 11922, 14348, 12878, 12280, 11694, 13306, 13138, 11610, 12634, 11932, 12082, 12008, 11752, 10784, 11120, 12956, 13328, 13212, 13102, 15140, 16458, 13408, 14962, 15048, 15762, 16936, 15506, 14486, 15188, 16660, 14544, 15568, 15050, 14968, 14728, 14178, 13916, 14868, 14658, 15196, 16116, 16234, 16050, 14402, 14082, 14572, 13746, 14636, 14854, 14330, 14948, 15034, 14102, 14582, 15098, 13956, 13902, 14186, 14214, 14566, 14230, 13738, 13712, 14762, 14720, 15414, 15500, 16744, 15902, 15460, 15038, 17460, 16312, 15432, 15984, 15268, 16558, 7932, 8838, 8940, 8526, 8762, 8854, 9442, 8156, 8714, 8512, 8824, 8490, 8876, 8916, 9018, 14880, 14870, 15286, 16696, 15400, 18062, 18292, 16946, 16974, 16852, 15738, 16268, 17932, 16654, 15640, 17636, 17898, 18144, 17464, 18142, 19472, 17904, 17298, 8994, 18172, 9518, 9172, 9068, 9064, 8358, 8612, 8552, 8082, 8542, 8502, 8456, 7454, 8960, 8716, 9008, 8322, 9246, 8794, 9424, 8862, 9738, 9166, 9820, 17390, 16350, 16336, 14440, 15288, 14668, 13620, 15328, 15312, 14228, 15464, 16072, 16772, 15112, 14658, 17020, 15862, 17836, 15086, 15534, 14594, 15576, 14584, 18226, 14334, 16316, 17330, 15268, 16544, 15432, 15036, 14850, 14446, 16128, 15520, 17028, 16792, 17540, 16502, 17274, 18018, 16976, 16776, 18090, 16088, 17456, 17064, 15610, 16454, 17584, 16084, 15984, 16060, 15670, 15320, 17190, 15980, 16110, 16052, 16120, 16250, 15930, 15912, 15104, 15108, 16888, 16336, 15398, 16628, 16906, 18188, 17932, 11390, 11756, 11350, 11646, 10240, 10540, 10546, 10172, 10106, 10034, 10084, 10388, 10144, 11002, 10878, 11448, 11046, 10804, 10898, 10220, 11156, 11452, 11370, 10432, 16284, 16632, 17036, 17540, 17182, 15912, 17132, 16458, 15874, 15202, 16320, 14778, 17414, 19046, 18702, 17790, 17206, 17050, 17364, 16464, 18102, 18148, 19342, 18180, 8164, 8968, 8810, 9054, 8886, 9488, 9186, 8298, 9054, 9056, 9248, 8760, 9556, 9204, 8596, 9366, 9686, 8708, 8486, 8988, 9444, 9622, 10052, 9690, 14608, 15652, 13274, 13048, 15178, 14478, 14194, 13812, 16056, 16144, 14876, 14768, 16700, 17232, 15454, 14948, 16494, 15680, 15324, 13786, 16670, 18210, 16476, 16344, 20368, 19622, 18964, 18508, 17832, 19050, 18552, 16102, 17792, 17644, 17810, 17566, 17204, 18838, 16982, 17600, 19056, 18646, 17674, 18254, 17824, 19228, 17734, 18006, 14308, 15980, 16140, 14758, 13908, 14884, 15628, 14710, 13854, 13236, 15578, 13814, 15478, 14284, 13718, 13678, 11800, 14744, 13966, 17258, 14494, 16740, 17946, 15064, 17248, 17460, 16566, 17176, 17666, 17602, 16784, 16962, 17466, 17438, 16594, 17656, 17092, 17536, 16846, 17060, 17422, 18362, 16746, 17882, 18368, 17926, 19198, 18134, 17480, 16150, 17596, 17638, 17208, 15660, 17292, 16780, 15998, 17046, 17736, 18210, 16582, 17148, 17720, 16464, 18068, 17200, 17568, 17730, 18388, 16758, 17998, 18444, 15666, 15458, 15886, 15214, 15188, 17428, 17062, 17304, 15768, 16196, 16780, 16164, 15768, 15500, 15700, 15228, 15596, 16720, 16536, 17062, 16206, 16794, 16410, 15488, 16328, 14850, 14014, 14632, 16654, 16490, 15772, 15874, 17308, 16546, 16034, 15710, 17206, 17874, 15686, 15864, 18256, 17324, 16952, 17772, 15406, 17244, 18016, 16094, 19476, 17974, 15940, 16626, 16586, 15594, 15392, 17444, 14656, 16486, 17856, 17566, 17000, 17830, 18050, 18148, 16950, 18976, 19746, 17758, 18410, 20978, 19768, 19316, 15794]\n",
            "22576\n",
            "6692\n"
          ]
        }
      ],
      "source": [
        "a = []\n",
        "path = '/content/drive/MyDrive/Thesis_Project/DATA/Jitter_Folder'\n",
        "h = listdir('/content/drive/MyDrive/Thesis_Project/DATA/Jitter_Folder')\n",
        "\n",
        "for i in h :\n",
        "  ab_path = path +'/'+ i\n",
        "  a.append(len(np.array(o3d.io.read_point_cloud(ab_path).points)))\n",
        "\n",
        "print(a)\n",
        "max = a[0]\n",
        "min = a[0]\n",
        "\n",
        "for i in range(1, len(a)):\n",
        "    \n",
        "    if max < a[i]:\n",
        "        max = a[i]\n",
        "\n",
        "    if min > a[i]:\n",
        "        min = a[i]\n",
        "print(max)\n",
        "print(min)"
      ]
    },
    {
      "cell_type": "code",
      "execution_count": null,
      "metadata": {
        "colab": {
          "base_uri": "https://localhost:8080/"
        },
        "id": "8Blbe6v3nIRD",
        "outputId": "3a60624c-a20e-4ffd-d82a-c47786f0560f"
      },
      "outputs": [
        {
          "name": "stdout",
          "output_type": "stream",
          "text": [
            "[6677, 7164, 7164, 7164, 7571, 7571, 7571, 7189, 7189, 7189, 6549, 6549, 6549, 7675, 7675, 7675, 7433, 7433, 7433, 6698, 6698, 6698, 6754, 6754, 6754, 6857, 6857, 6857, 7018, 7018, 7018, 6940, 6940, 6940, 6641, 6641, 6641, 6608, 6608, 6608, 7680, 7680, 7680, 6635, 6635, 6635, 6801, 6801, 6801, 6895, 6895, 6895, 7247, 7247, 7247, 6746, 6746, 6746, 7072, 7072, 7072, 6683, 6683, 6683, 6688, 6688, 6688, 7440, 7440, 7440, 6709, 6709, 6709, 7278, 7278, 7278, 7499, 7499, 7499, 7339, 7339, 7339, 6961, 6961, 6961, 6536, 6536, 6536, 7089, 7089, 7089, 7012, 7012, 7012, 6571, 6571, 6571, 6567, 6567, 6567, 7057, 7057, 7057, 7160, 7160, 7160, 7256, 7256, 7256, 7173, 7173, 7173, 7321, 7321, 7321, 7043, 7043, 7043, 7401, 7401, 7401, 7208, 7208, 7208, 6582, 6582, 6582, 6823, 6823, 6823, 6705, 6705, 6705, 7126, 7126, 7126, 6411, 6411, 6411, 6800, 6800, 6800, 7046, 7046, 7046, 7034, 7034, 7034, 6706, 6706, 6706, 6833, 6833, 6833, 7235, 7235, 7235, 7440, 7440, 7440, 6886, 6886, 6886, 7125, 7125, 7125, 6677, 6677, 6677, 6892, 6892, 6892, 6323, 6323, 6323, 6936, 6936, 6936, 6624, 6624, 6624, 6555, 6555, 6555, 6317, 6317, 6317, 6490, 6490, 6490, 6351, 6351, 6351, 5818, 5818, 5818, 6181, 6181, 6181, 6299, 6299, 6299, 6469, 6469, 6469, 5989, 5989, 5989, 6355, 6355, 6355, 6486, 6486, 6486, 6363, 6363, 6363, 6480, 6480, 6480, 6846, 6846, 6846, 6686, 6686, 6686, 6732, 6732, 6732, 8223, 8223, 8223, 8958, 8958, 8958, 7964, 7964, 7964, 8074, 8074, 8074, 8472, 8472, 8472, 8745, 8745, 8745, 8634, 8634, 8634, 8107, 8107, 8107, 8368, 8368, 8368, 8489, 8489, 8489, 8450, 8450, 8450, 8363, 8363, 8363, 8267, 8267, 8267, 8143, 8143, 8143, 8184, 8184, 8184, 8045, 8045, 8045, 8716, 8716, 8716, 8455, 8455, 8455, 8027, 8027, 8027, 8286, 8286, 8286, 8149, 8149, 8149, 8576, 8576, 8576, 6246, 6246, 6246, 8877, 8877, 8877, 8494, 8494, 8494, 6504, 6504, 6504, 6597, 6597, 6597, 7079, 7079, 7079, 6336, 6336, 6336, 7086, 7086, 7086, 6437, 6437, 6437, 6644, 6644, 6644, 6561, 6561, 6561, 6055, 6055, 6055, 6424, 6424, 6424, 7004, 7004, 7004, 6208, 6208, 6208, 6856, 6856, 6856, 6749, 6749, 6749, 6694, 6694, 6694, 6490, 6490, 6490, 6477, 6477, 6477, 6754, 6754, 6754, 7116, 7116, 7116, 6712, 6712, 6712, 7024, 7024, 7024, 7228, 7228, 7228, 7845, 7845, 7845, 7249, 7249, 7249, 6928, 6928, 6928, 7337, 7337, 7337, 7553, 7553, 7553, 6816, 6816, 6816, 7074, 7074, 7074, 7186, 7186, 7186, 7256, 7256, 7256, 7335, 7335, 7335, 7328, 7328, 7328, 7619, 7619, 7619, 7433, 7433, 7433, 6980, 6980, 6980, 7229, 7229, 7229, 7194, 7194, 7194, 6996, 6996, 6996, 6753, 6753, 6753, 6766, 6766, 6766, 6393, 6393, 6393, 7046, 7046, 7046, 7153, 7153, 7153, 7420, 7420, 7420, 7706, 7706, 7706, 7464, 7464, 7464, 6656, 6656, 6656, 6510, 6510, 6510, 6190, 6190, 6190, 7194, 7194, 7194, 6626, 6626, 6626, 6345, 6345, 6345, 6486, 6486, 6486, 6453, 6453, 6453, 5619, 5619, 5619, 6298, 6298, 6298, 6163, 6163, 6163, 6518, 6518, 6518, 6107, 6107, 6107, 6725, 6725, 6725, 6418, 6418, 6418, 6598, 6598, 6598, 6418, 6418, 6418, 6040, 6040, 6040, 6357, 6357, 6357, 6266, 6266, 6266, 5930, 5930, 5930, 7161, 7161, 7161, 7440, 7440, 7440, 7258, 7258, 7258, 8218, 8218, 8218, 8287, 8287, 8287, 8543, 8543, 8543, 8424, 8424, 8424, 8337, 8337, 8337, 8325, 8325, 8325, 8355, 8355, 8355, 8071, 8071, 8071, 8191, 8191, 8191, 8287, 8287, 8287, 8476, 8476, 8476, 8208, 8208, 8208, 8354, 8354, 8354, 8095, 8095, 8095, 8484, 8484, 8484, 8243, 8243, 8243, 8192, 8192, 8192, 8279, 8279, 8279, 8137, 8137, 8137, 8271, 8271, 8271, 8365, 8365, 8365, 8508, 8508, 8508, 8212, 8212, 8212, 8072, 8072, 8072, 5752, 5752, 5752, 5762, 5762, 5762, 6162, 6162, 6162, 6004, 6004, 6004, 5968, 5968, 5968, 5904, 5904, 5904, 5655, 5655, 5655, 5761, 5761, 5761, 6014, 6014, 6014, 5372, 5372, 5372, 5627, 5627, 5627, 5878, 5878, 5878, 6048, 6048, 6048, 5462, 5462, 5462, 6222, 6222, 6222, 6281, 6281, 6281, 6437, 6437, 6437, 6435, 6435, 6435, 5729, 5729, 5729, 6183, 6183, 6183, 5850, 5850, 5850, 5952, 5952, 5952, 5940, 5940, 5940, 5939, 5939, 5939, 7283, 7283, 7283, 7322, 7322, 7322, 7649, 7649, 7649, 7555, 7555, 7555, 8207, 8207, 8207, 7983, 7983, 7983, 7288, 7288, 7288, 8100, 8100, 8100, 7845, 7845, 7845, 7273, 7273, 7273, 7696, 7696, 7696, 8260, 8260, 8260, 7408, 7408, 7408, 7630, 7630, 7630, 7999, 7999, 7999, 7987, 7987, 7987, 7498, 7498, 7498, 7960, 7960, 7960, 8124, 8124, 8124, 8772, 8772, 8772, 7246, 7246, 7246, 8068, 8068, 8068, 8800, 8800, 8800, 4058, 4058, 4058, 8251, 8251, 8251, 4002, 4002, 4002, 4082, 4082, 4082, 4072, 4072, 4072, 4005, 4005, 4005, 4052, 4052, 4052, 3959, 3959, 3959, 4040, 4040, 4040, 3711, 3711, 3711, 3833, 3833, 3833, 3756, 3756, 3756, 3765, 3765, 3765, 4025, 4025, 4025, 4107, 4107, 4107, 3926, 3926, 3926, 3977, 3977, 3977, 3740, 3740, 3740, 4104, 4104, 4104, 3885, 3885, 3885, 4012, 4012, 4012, 3776, 3776, 3776, 3829, 3829, 3829, 3929, 3929, 3929, 5685, 5685, 5685, 3887, 3887, 3887, 5676, 5676, 5676, 6056, 6056, 6056, 5945, 5945, 5945, 6357, 6357, 6357, 5792, 5792, 5792, 5701, 5701, 5701, 5890, 5890, 5890, 5169, 5169, 5169, 5618, 5618, 5618, 5781, 5781, 5781, 5664, 5664, 5664, 5815, 5815, 5815, 5339, 5339, 5339, 5821, 5821, 5821, 5008, 5008, 5008, 5530, 5530, 5530, 5763, 5763, 5763, 5642, 5642, 5642, 5518, 5518, 5518, 5691, 5691, 5691, 6062, 6062, 6062, 5960, 5960, 5960, 5938, 5938, 5938, 6163, 6163, 6163, 5967, 5967, 5967, 5635, 5635, 5635, 5735, 5735, 5735, 5820, 5820, 5820, 5463, 5463, 5463, 5802, 5802, 5802, 5783, 5783, 5783, 5802, 5802, 5802, 5791, 5791, 5791, 5856, 5856, 5856, 5324, 5324, 5324, 5876, 5876, 5876, 5357, 5357, 5357, 5754, 5754, 5754, 6324, 6324, 6324, 5903, 5903, 5903, 6211, 6211, 6211, 6260, 6260, 6260, 6703, 6703, 6703, 6433, 6433, 6433, 6738, 6738, 6738, 6896, 6896, 6896, 7999, 7999, 7999, 6350, 6350, 6350, 7669, 7669, 7669, 8395, 8395, 8395, 7019, 7019, 7019, 7392, 7392, 7392, 6817, 6817, 6817, 7552, 7552, 7552, 6884, 6884, 6884, 8051, 8051, 8051, 7697, 7697, 7697, 7638, 7638, 7638, 7434, 7434, 7434, 7269, 7269, 7269, 7784, 7784, 7784, 7659, 7659, 7659, 7212, 7212, 7212, 6944, 6944, 6944, 4818, 4818, 4993, 4993, 4993, 4980, 4980, 4980, 4838, 4838, 4838, 4719, 4719, 4719, 5027, 5027, 5027, 4850, 4850, 4850, 4911, 4911, 4911, 4883, 4883, 4883, 4832, 4832, 4832, 5025, 5025, 5025, 5120, 5120, 5120, 5101, 5101, 5101, 5308, 5308, 5308, 5051, 5051, 5051, 5395, 5395, 5395, 3696, 3696, 3696, 5399, 5399, 5399, 3793, 3793, 3793, 3833, 3833, 3833, 4110, 4110, 4110, 3899, 3899, 3899, 4172, 4172, 4172, 4059, 4059, 4059, 4043, 4043, 4043, 4122, 4122, 4122, 4232, 4232, 4232, 4248, 4248, 4248, 4124, 4124, 4124, 3925, 3925, 3925, 4054, 4054, 4054, 4172, 4172, 4172, 3967, 3967, 3967, 4415, 4415, 4415, 4211, 4211, 4211, 4512, 4512, 4512, 4360, 4360, 4360, 4243, 4243, 4243, 4563, 4563, 4563, 4378, 4378, 4378, 4369, 4369, 4369, 5816, 5816, 5816, 5932, 5932, 5932, 5947, 5947, 5947, 6050, 6050, 6050, 5577, 5577, 5577, 5584, 5584, 5584, 5266, 5266, 5266, 5579, 5579, 5579, 5602, 5602, 5602, 5929, 5929, 5929, 5658, 5658, 5658, 5653, 5653, 5653, 6024, 6024, 6024, 5542, 5542, 5542, 5704, 5704, 5704, 5450, 5450, 5450, 5760, 5760, 5760, 5740, 5740, 5740, 5503, 5503, 5503, 5626, 5626, 5626, 5696, 5696, 5696, 6166, 6166, 6166, 6143, 6143, 6143, 6250, 6250, 6250, 4237, 4237, 4237, 3992, 3992, 3992, 4103, 4103, 4103, 4091, 4091, 4091, 3953, 3953, 3953, 4029, 4029, 4029, 3674, 3674, 3674, 3591, 3591, 3591, 3928, 3928, 3928, 3502, 3502, 3502, 3591, 3591, 3591, 3683, 3683, 3683, 3346, 3346, 3346, 3825, 3825, 3825, 3852, 3852, 3852, 3844, 3844, 3844, 3811, 3811, 3811, 3893, 3893, 3893, 3872, 3872, 3872, 3701, 3701, 3701, 4030, 4030, 4030, 4233, 4233, 4233, 3985, 3985, 3985, 4450, 4450, 4450, 4092, 4092, 4092, 4266, 4266, 4266, 4612, 4612, 4612, 4464, 4464, 4464, 4220, 4220, 4220, 4714, 4714, 4714, 4511, 4511, 4511, 4270, 4270, 4270, 4443, 4443, 4443, 4323, 4323, 4323, 4585, 4585, 4585, 4576, 4576, 4576, 4298, 4298, 4298, 4216, 4216, 4216, 4677, 4677, 4677, 4459, 4459, 4459, 4466, 4466, 4466, 4607, 4607, 4607, 4395, 4395, 4395, 4812, 4812, 4812, 4658, 4658, 4658, 4862, 4862, 4862, 5109, 5109, 5109, 5207, 5207, 5207, 5310, 5310, 5310, 5273, 5273, 5273, 5182, 5182, 5182, 5303, 5303, 5303, 5209, 5209, 5209, 5323, 5323, 5323, 5266, 5266, 5266, 5162, 5162, 5162, 5118, 5118, 5118, 5119, 5119, 5119, 5057, 5057, 5057, 5141, 5141, 5141, 4873, 4873, 4873, 5325, 5325, 5325, 5331, 5331, 5331, 5235, 5235, 5235, 5348, 5348, 5348, 5169, 5169, 5169, 4733, 4733, 4733, 5085, 5085, 5085, 5597, 5597, 5597, 5314, 5314, 5314, 5462, 5462, 5462, 5558, 5558, 5558, 4112, 4112, 4112, 3974, 3974, 3974, 4033, 4033, 4033, 3899, 3899, 3899, 3970, 3970, 3970, 3968, 3968, 3968, 3799, 3799, 3799, 3997, 3997, 3997, 3983, 3983, 3983, 3940, 3940, 3940, 3863, 3863, 3863, 3986, 3986, 3986, 3973, 3973, 3973, 3879, 3879, 3879, 3796, 3796, 3796, 4065, 4065, 4065, 4051, 4051, 4051, 3833, 3833, 3833, 3899, 3899, 3899, 3881, 3881, 3881, 4199, 4199, 4199, 4193, 4193, 4193, 4508, 4508, 4508, 4411, 4411, 4411, 4141, 4141, 4141, 4583, 4583, 4583, 4525, 4525, 4525, 4337, 4337, 4337, 3976, 3976, 3976, 4541, 4541, 4541, 4412, 4412, 4412, 4326, 4326, 4326, 4483, 4483, 4483, 4704, 4704, 4704, 4558, 4558, 4558, 4578, 4578, 4578, 4450, 4450, 4450, 4480, 4480, 4480, 4398, 4398, 4398, 4359, 4359, 4359, 4631, 4631, 4631, 4441, 4441, 4441, 4572, 4572, 4572, 4367, 4367, 4367, 4520, 4520, 4520, 4723, 4723, 4723, 4940, 4940, 4940, 4500, 4500, 4500, 4572, 4572, 4572, 4864, 4864, 4864, 4657, 4657, 4657, 4714, 4714, 4714, 4608, 4608, 4608, 4625, 4625, 4625, 4498, 4498, 4498, 4510, 4510, 4510, 4434, 4434, 4434, 4591, 4591, 4591, 4414, 4414, 4414, 4334, 4334, 4334, 4442, 4442, 4442, 4556, 4556, 4556, 4652, 4652, 4652, 4515, 4515, 4515, 4708, 4708, 4708, 4557, 4557, 4557, 4753, 4753, 4753, 4517, 4517, 4517, 4784, 4784, 4784, 4713, 4713, 4713, 5015, 5015, 5015, 5011, 5011, 5011, 10057, 10057, 10057, 10757, 10757, 10757, 10001, 10001, 10001, 10373, 10373, 10373, 10831, 10831, 10831, 9616, 9616, 9616, 9513, 9513, 9513, 9477, 9477, 9477, 9442, 9442, 9442, 9322, 9322, 9322, 9457, 9457, 9457, 8684, 8684, 8684, 8862, 8862, 8862, 8566, 8566, 8566, 8402, 8402, 8402, 8411, 8411, 8411, 8371, 8371, 8371, 8480, 8480, 8480, 10760, 10760, 10760, 10052, 10052, 10052, 10940, 10940, 10940, 10214, 10214, 10214, 11288, 11288, 11288, 11070, 11070, 11070, 10008, 10008, 10008, 10177, 10177, 10177, 10575, 10575, 10575, 9757, 9757, 9757, 9852, 9852, 9852, 9635, 9635, 9635, 9658, 9658, 9658, 9778, 9778, 9778, 9381, 9381, 9381, 9498, 9498, 9498, 9948, 9948, 9948, 9341, 9341, 9341, 9448, 9448, 9448, 9500, 9500, 9500, 9567, 9567, 9567, 9584, 9584, 9584, 9298, 9298, 9298, 9661, 9661, 9661, 9872, 9872, 9872, 9773, 9773, 9773, 9761, 9761, 9761, 9661, 9661, 9661, 8851, 8851, 8851, 9477, 9477, 9477, 4676, 4676, 4676, 4717, 4717, 4717, 4860, 4860, 4860, 3931, 3931, 3931, 4076, 4076, 4076, 4293, 4293, 4293, 4375, 4375, 4375, 4615, 4615, 4615, 4410, 4410, 4410, 7866, 7866, 7866, 6935, 6935, 6935, 7968, 7968, 7968, 6883, 6883, 6883, 7742, 7742, 7742, 6726, 6726, 6726, 7981, 7981, 7981, 7204, 7204, 7204, 7673, 7673, 7673, 7035, 7035, 7035, 7759, 7759, 7759, 7344, 7344, 7344, 7143, 7143, 7143, 7284, 7284, 7284, 6921, 6921, 6921, 7601, 7601, 7601, 7285, 7285, 7285, 7684, 7684, 7684, 6896, 6896, 6896, 7205, 7205, 7205, 7493, 7493, 7493, 7556, 7556, 7556, 7574, 7574, 7574, 7869, 7869, 7869, 8461, 8461, 8461, 8644, 8644, 8644, 8707, 8707, 8707, 8417, 8417, 8417, 8965, 8965, 8965, 8494, 8494, 8494, 7903, 7903, 7903, 7826, 7826, 7826, 8506, 8506, 8506, 7937, 7937, 7937, 8270, 8270, 8270, 7707, 7707, 7707, 8139, 8139, 8139, 8179, 8179, 8179, 8243, 8243, 8243, 8035, 8035, 8035, 8135, 8135, 8135, 7688, 7688, 7688, 8397, 8397, 8397, 8839, 8839, 8839, 7982, 7982, 7982, 9325, 9325, 9325, 8950, 8950, 8950, 7442, 7442, 7442, 8705, 8705, 8705, 6490, 6490, 6490, 7309, 7309, 7309, 7832, 7832, 7832, 7097, 7097, 7097, 6809, 6809, 6809, 7242, 7242, 7242, 6349, 6349, 6349, 6535, 6535, 6535, 7393, 7393, 7393, 7353, 7353, 7353, 6861, 6861, 6861, 6757, 6757, 6757, 7610, 7610, 7610, 6568, 6568, 6568, 6846, 6846, 6846, 6594, 6594, 6594, 7019, 7019, 7019, 6363, 6363, 6363, 6677, 6677, 8062, 8062, 8062, 6909, 6909, 6909, 7758, 7758, 7758, 8567, 8567, 8567, 7960, 7960, 7960, 7205, 7205, 7205, 7840, 7840, 7840, 8369, 8369, 8369, 8063, 8063, 8063, 7503, 7503, 7503, 8092, 8092, 8092, 8995, 8995, 8995, 8235, 8235, 8235, 7299, 7299, 7299, 9154, 9154, 9154, 7169, 7169, 7169, 7627, 7627, 7627, 6759, 6759, 6759, 7219, 7219, 7219, 6597, 6597, 6597, 7037, 7037, 7037, 7068, 7068, 7068, 6454, 6454, 6454, 7354, 7354, 7354, 7468, 7468, 7468, 7097, 7097, 7097, 7885, 7885, 7885, 7069, 7069, 7069, 7057, 7057, 7057, 7722, 7722, 7722, 7805, 7805, 7805, 7795, 7795, 7795, 7416, 7416, 7416, 7794, 7794, 7794, 7737, 7737, 7737, 8190, 8190, 8190, 7930, 7930, 7930, 8400, 8400, 8400, 7515, 7515, 7515, 7656, 7656, 7656, 7028, 7028, 7028, 7027, 7027, 7027, 7406, 7406, 7406, 7032, 7032, 7032, 6924, 6924, 6924, 6190, 6190, 6190, 6806, 6806, 6806, 7162, 7162, 7162, 7014, 7014, 7014, 7172, 7172, 7172, 7217, 7217, 7217, 7584, 7584, 7584, 7126, 7126, 7126, 7318, 7318, 7318, 7123, 7123, 7123, 7417, 7417, 7417, 7372, 7372, 7372, 7276, 7276, 7276, 7213, 7213, 7213, 7021, 7021, 7021, 7343, 7343, 7343, 6925, 6925, 6925, 7512, 7512, 7512, 8545, 8545, 8545, 7080, 7080, 7080, 7938, 7938, 7938, 8167, 8167, 8167, 7743, 7743, 7743, 7422, 7422, 7422, 6445, 6445, 6445, 8086, 8086, 8086, 7303, 7303, 7303, 6882, 6882, 6882, 6919, 6919, 6919, 7661, 7661, 7661, 7340, 7340, 7340, 7345, 7345, 7345, 8196, 8196, 8196, 7068, 7068, 7068, 7538, 7538, 7538, 7251, 7251, 7251, 7903, 7903, 7903, 6901, 6901, 6901, 7886, 7886, 7886, 7816, 7816, 7816, 6865, 6865, 6865, 7573, 7573, 7573, 7145, 7145, 7145, 7089, 7089, 7089, 7137, 7137, 7137, 7653, 7653, 7653, 7149, 7149, 7149, 7124, 7124, 7124, 7498, 7498, 7498, 7254, 7254, 7254, 7340, 7340, 7340, 7361, 7361, 7361, 7132, 7132, 7132, 7935, 7935, 7935, 7224, 7224, 7224, 7718, 7718, 7718, 7735, 7735, 7735, 7588, 7588, 7588, 7411, 7411, 7411, 7200, 7200, 7200, 7079, 7079, 7079, 7648, 7648, 7648, 7999, 7999, 7999, 8563, 8563, 8563, 8459, 8459, 8459, 6642, 6642, 6642, 6254, 6254, 6254, 6259, 6259, 6259, 6272, 6272, 6272, 6378, 6378, 6378, 6578, 6578, 6578, 6784, 6784, 6784, 6784, 6784, 6784, 6264, 6264, 6264, 6396, 6396, 6396, 6112, 6112, 6112, 6945, 6945, 6945, 5416, 5416, 5416, 6225, 6225, 6225, 5986, 5986, 5986, 5655, 5655, 5655, 6892, 6892, 6892, 6148, 6148, 6148, 6033, 6033, 6033, 5746, 5746, 5746, 6745, 6745, 6745, 6221, 6221, 6221, 6576, 6576, 6576, 6483, 6483, 6483, 9355, 9355, 9355, 9161, 9161, 9161, 8857, 8857, 8857, 8684, 8684, 8684, 9327, 9327, 9327, 9606, 9606, 9606, 8979, 8979, 8979, 7562, 7562, 7562, 7271, 7271, 7271, 8324, 8324, 8324, 7486, 7486, 7486, 7593, 7593, 7593, 7433, 7433, 7433, 8117, 8117, 8117, 6941, 6941, 6941, 7240, 7240, 7240, 8252, 8252, 8252, 7490, 7490, 7490, 7965, 7965, 7965, 7140, 7140, 7140, 7991, 7991, 7991, 8100, 8100, 8100, 8433, 8433, 8433, 7762, 7762, 7762, 7078, 7078, 7078, 7312, 7312, 7312, 6899, 6899, 6899, 7518, 7518, 7518, 7367, 7367, 7367, 7392, 7392, 7392, 7486, 7486, 7486, 7547, 7547, 7547, 7490, 7490, 7490, 7843, 7843, 7843, 6228, 6228, 6228, 7559, 7559, 7559, 7484, 7484, 7484, 7754, 7754, 7754, 7747, 7747, 7747, 6948, 6948, 6948, 7589, 7589, 7589, 7905, 7905, 7905, 7646, 7646, 7646, 8712, 8712, 8712, 6887, 6887, 6887, 7735, 7735, 7735, 8431, 8431, 8431, 7972, 7972, 7972, 6748, 6748, 6748, 6441, 6441, 6441, 6226, 6226, 6226, 6514, 6514, 6514, 5796, 5796, 5796, 6232, 6232, 6232, 6422, 6422, 6422, 6641, 6641, 6641, 6777, 6777, 6777, 6884, 6884, 6884, 6874, 6874, 6874, 6738, 6738, 6738, 6911, 6911, 6911, 6611, 6611, 6611, 6876, 6876, 6876, 6743, 6743, 6743, 6791, 6791, 6791, 6832, 6832, 6832, 6616, 6616, 6616, 6698, 6698, 6698, 6836, 6836, 6836, 7545, 7545, 7545, 7011, 7011, 7011, 7497, 7497, 7497, 6786, 6786, 6786, 7004, 7004, 7004, 6948, 6948, 6948, 7057, 7057, 7057, 7178, 7178, 7178, 6949, 6949, 6949, 7156, 7156, 7156, 7046, 7046, 7046, 7194, 7194, 7194, 7272, 7272, 7272, 7160, 7160, 7160, 7051, 7051, 7051, 7727, 7727, 7727, 7582, 7582, 7582, 7320, 7320, 7320, 7589, 7589, 7589, 7493, 7493, 7493, 6688, 6688, 6688, 6858, 6858, 6858, 6951, 6951, 6951, 7759, 7759, 7759, 7725, 7725, 7725, 7720, 7720, 7720, 8082, 8082, 8082, 7432, 7432, 7432, 8054, 8054, 8054, 7139, 7139, 7139, 7912, 7912, 7912, 7709, 7709, 7709, 7689, 7689, 7689, 7936, 7936, 7936, 7665, 7665, 7665, 7391, 7391, 7391, 7113, 7113, 7113, 7552, 7552, 7552, 7312, 7312, 7312, 6968, 6968, 6968, 7310, 7310, 7310, 7250, 7250, 7250, 7174, 7174, 7174, 7229, 7229, 7229, 7301, 7301, 7301, 7135, 7135, 7135, 8069, 8069, 8069, 6803, 6803, 6803, 7703, 7703, 7703, 7991, 7991, 7991, 8186, 8186, 8186, 8134, 8134, 8134, 7837, 7837, 7837, 7733, 7733, 7733, 7846, 7846, 7846, 7912, 7912, 7912, 7903, 7903, 7903, 7857, 7857, 7857, 7921, 7921, 7921, 7789, 7789, 7789, 8231, 8231, 8231, 7731, 7731, 7731, 7568, 7568, 7568, 7210, 7210, 7210, 7273, 7273, 7273, 7451, 7451, 7451, 6849, 6849, 6849, 7451, 7451, 7451, 7090, 7090, 7090, 6920, 6920, 6920, 7079, 7079, 7079, 7883, 7883, 7883, 7784, 7784, 7784, 8035, 8035, 8035, 7296, 7296, 7296, 7865, 7865, 7865, 6904, 6904, 6904, 6876, 6876, 6876, 6816, 6816, 6816, 6740, 6740, 6740, 6598, 6598, 6598, 7191, 7191, 7191, 7182, 7182, 7182, 6342, 6342, 6342, 6638, 6638, 6638, 6222, 6222, 6222, 6840, 6840, 6840, 6726, 6726, 6726, 6780, 6780, 6780, 6751, 6751, 6751, 7541, 7541, 7541, 7200, 7200, 7200, 6579, 6579, 6579, 6747, 6747, 6747, 7860, 7860, 7860, 7323, 7323, 7323, 7151, 7151, 7151, 6983, 6983, 6983, 7162, 7162, 7162, 4573, 4573, 4573, 4441, 4441, 4441, 4605, 4605, 4605, 4466, 4466, 4466, 4562, 4562, 4562, 4523, 4523, 4523, 4552, 4552, 4552, 4542, 4542, 4542, 4634, 4634, 4634, 4492, 4492, 4492, 4466, 4466, 4466, 4687, 4687, 4687, 4434, 4434, 4434, 4644, 4644, 4644, 4634, 4634, 4634, 4709, 4709, 4709, 4540, 4540, 4540, 4658, 4658, 4658, 4642, 4642, 4642, 4704, 4704, 4704, 4819, 4819, 4819, 4802, 4802, 4802, 4727, 4727, 4727, 4915, 4915, 4915, 4732, 4732, 4732, 4741, 4741, 4741, 5070, 5070, 5070, 4956, 4956, 4956, 4878, 4878, 4878, 4888, 4888, 4888, 4948, 4948, 4948, 4818, 6646, 6204, 6204, 6204, 6351, 6351, 6351, 6193, 6193, 6193, 6224, 6224, 6224, 6357, 6357, 6357, 6513, 6513, 6513, 6411, 6411, 6411, 6462, 6462, 6462, 6446, 6446, 6446, 6531, 6531, 6531, 6963, 6963, 6963, 7621, 7621, 7621, 7847, 7847, 7847, 7939, 7939, 7939, 7890, 7890, 7890, 7612, 7612, 7612, 8129, 8129, 8129, 7467, 7467, 7467, 7817, 7817, 7817, 7446, 7446, 7446, 8401, 8401, 8401, 7781, 7781, 7781, 7945, 7945, 7945, 7501, 7501, 7501, 8209, 8209, 8209, 8186, 8186, 8186, 7719, 7719, 7719, 8141, 8141, 8141, 7693, 7693, 7693, 7964, 7964, 7964, 7842, 7842, 7842, 7882, 7882, 7882, 7939, 7939, 7939, 8093, 8093, 8093, 8131, 8131, 8131, 4532, 4532, 4532, 4490, 4490, 4490, 4541, 4541, 4541, 4459, 4459, 4459, 4288, 4288, 4288, 4568, 4568, 4568, 4452, 4452, 4452, 4552, 4552, 4552, 4359, 4359, 4359, 4603, 4603, 4603, 4506, 4506, 4506, 4627, 4627, 4627, 4503, 4503, 4503, 4487, 4487, 4487, 4533, 4533, 4533, 4368, 4368, 4368, 4310, 4310, 4310, 4369, 4369, 4369, 4341, 4341, 4341, 4521, 4521, 4521, 4936, 4936, 4936, 4592, 4592, 4592, 4840, 4840, 4840, 5152, 5152, 5152, 4614, 4614, 4614, 4422, 4422, 4422, 4486, 4486, 4486, 4437, 4437, 4437, 4450, 4450, 4450, 4471, 4471, 4471, 4072, 4072, 4072, 4217, 4217, 4217, 4228, 4228, 4228, 4349, 4349, 4349, 4338, 4338, 4338, 4270, 4270, 4270, 4118, 4118, 4118, 4360, 4360, 4360, 4338, 4338, 4338, 4562, 4562, 4562, 4268, 4268, 4268, 4419, 4419, 4419, 4055, 4055, 4055, 4251, 4251, 4251, 4034, 4034, 4034, 4351, 4351, 4351, 4491, 4491, 4491, 4662, 4662, 4662, 8492, 8492, 8492, 8510, 8510, 8510, 8012, 8012, 8012, 7990, 7990, 7990, 7739, 7739, 7739, 8090, 8090, 8090, 7676, 7676, 7676, 8190, 8190, 8190, 8584, 8584, 8584, 8006, 8006, 8006, 8929, 8929, 8929, 7444, 7444, 7444, 7461, 7461, 7461, 8355, 8355, 8355, 7737, 7737, 7737, 8578, 8578, 8578, 8734, 8734, 8734, 7954, 7954, 7954, 7661, 7661, 7661, 8686, 8686, 8686, 8413, 8413, 8413, 8727, 8727, 8727, 8893, 8893, 8893, 4911, 4911, 4911, 8460, 8460, 8460, 4594, 4594, 4594, 4846, 4846, 4846, 4723, 4723, 4723, 4735, 4735, 4735, 4073, 4073, 4073, 4665, 4665, 4665, 4460, 4460, 4460, 4560, 4560, 4560, 4660, 4660, 4660, 4567, 4567, 4567, 4755, 4755, 4755, 5068, 5068, 5068, 4789, 4789, 4789, 4968, 4968, 4968, 4815, 4815, 4815, 4830, 4830, 4830, 5114, 5114, 5114, 4911, 4911, 4911, 5409, 5409, 5409, 4981, 4981, 4981, 5319, 5319, 5319, 5390, 5390, 5390, 5116, 5116, 5116, 5520, 5520, 5520, 5184, 5184, 5184, 5253, 5253, 5253, 5431, 5431, 5431, 5083, 5083, 5083, 4729, 4729, 4729, 4805, 4805, 4805, 4885, 4885, 4885, 4994, 4994, 4994, 4761, 4761, 4761, 4985, 4985, 4985, 4815, 4815, 4815, 4798, 4798, 4798, 5581, 5581, 5581, 4856, 4856, 4856, 4562, 4562, 4562, 4892, 4892, 4892, 4976, 4976, 4976, 4901, 4901, 4901, 4971, 4971, 4971, 4997, 4997, 4997, 5105, 5105, 5105, 5619, 5619, 5619, 5686, 5686, 5686, 8041, 8041, 8041, 7241, 7241, 7241, 7380, 7380, 7380, 7620, 7620, 7620, 7689, 7689, 7689, 7154, 7154, 7154, 8074, 8074, 8074, 7599, 7599, 7599, 7714, 7714, 7714, 8002, 8002, 8002, 7354, 7354, 7354, 7807, 7807, 7807, 7214, 7214, 7214, 7431, 7431, 7431, 7619, 7619, 7619, 7462, 7462, 7462, 7246, 7246, 7246, 8055, 8055, 8055, 6853, 6853, 6853, 7841, 7841, 7841, 7854, 7854, 7854, 7398, 7398, 7398, 8072, 8072, 8072, 7546, 7546, 7546, 6725, 6725, 6725, 7063, 7063, 7063, 6254, 6254, 6254, 6944, 6944, 6944, 6751, 6751, 6751, 6560, 6560, 6560, 6629, 6629, 6629, 6116, 6116, 6116, 6441, 6441, 6441, 6064, 6064, 6064, 6596, 6596, 6596, 5726, 5726, 5726, 7156, 7156, 7156, 7258, 7258, 7258, 6717, 6717, 6717, 6156, 6156, 6156, 6701, 6701, 6701, 6509, 6509, 6509, 6331, 6331, 6331, 6941, 6941, 6941, 6657, 6657, 6657, 6861, 6861, 6861, 6772, 6772, 6772, 6412, 6412, 6412, 6506, 6506, 6506, 6506, 6506, 6506, 6992, 6992, 6992, 7221, 7221, 7221, 7328, 7328, 7328, 7716, 7716, 7716, 7456, 7456, 7456, 7808, 7808, 7808, 7637, 7637, 7637, 7560, 7560, 7560, 7522, 7522, 7522, 7335, 7335, 7335, 7329, 7329, 7329, 7670, 7670, 7670, 7739, 7739, 7739, 7667, 7667, 7667, 7419, 7419, 7419, 7613, 7613, 7613, 7527, 7527, 7527, 7403, 7403, 7403, 7500, 7500, 7500, 7681, 7681, 7681, 7657, 7657, 7657, 7735, 7735, 7735, 5597, 5597, 5597, 5160, 5160, 5160, 4951, 4951, 4951, 4884, 4884, 4884, 5599, 5599, 5599, 4907, 4907, 4907, 4971, 4971, 4971, 5233, 5233, 5233, 5215, 5215, 5215, 5125, 5125, 5125, 5631, 5631, 5631, 5066, 5066, 5066, 5126, 5126, 5126, 4916, 4916, 4916, 4846, 4846, 4846, 5113, 5113, 5113, 4948, 4948, 4948, 4806, 4806, 4806, 5194, 5194, 5194, 5075, 5075, 5075, 5519, 5519, 5519, 5641, 5641, 5641, 5372, 5372, 5372, 6186, 6186, 6186, 5970, 5970, 5970, 5649, 5649, 5649, 6583, 6583, 6583, 6334, 6334, 6334, 5761, 5761, 5761, 5961, 5961, 5961, 7174, 7174, 7174, 6439, 6439, 6439, 6140, 6140, 6140, 5847, 5847, 5847, 6653, 6653, 6653, 6569, 6569, 6569, 5805, 5805, 5805, 6317, 6317, 6317, 5966, 5966, 5966, 6041, 6041, 6041, 6004, 6004, 6004, 5876, 5876, 5876, 5392, 5392, 5392, 5560, 5560, 5560, 6478, 6478, 6478, 6664, 6664, 6664, 6606, 6606, 6606, 6551, 6551, 6551, 7570, 7570, 7570, 8229, 8229, 8229, 6704, 6704, 6704, 7481, 7481, 7481, 7524, 7524, 7524, 7881, 7881, 7881, 8468, 8468, 8468, 7753, 7753, 7753, 7243, 7243, 7243, 7594, 7594, 7594, 8330, 8330, 8330, 7272, 7272, 7272, 7784, 7784, 7784, 7525, 7525, 7525, 7484, 7484, 7484, 7364, 7364, 7364, 7089, 7089, 7089, 6958, 6958, 6958, 7434, 7434, 7434, 7329, 7329, 7329, 7598, 7598, 7598, 8058, 8058, 8058, 8117, 8117, 8117, 8025, 8025, 8025, 7201, 7201, 7201, 7041, 7041, 7041, 7286, 7286, 7286, 6873, 6873, 6873, 7318, 7318, 7318, 7427, 7427, 7427, 7165, 7165, 7165, 7474, 7474, 7474, 7517, 7517, 7517, 7051, 7051, 7051, 7291, 7291, 7291, 7549, 7549, 7549, 6978, 6978, 6978, 6951, 6951, 6951, 7093, 7093, 7093, 7107, 7107, 7107, 7283, 7283, 7283, 7115, 7115, 7115, 6869, 6869, 6869, 6856, 6856, 6856, 7381, 7381, 7381, 7360, 7360, 7360, 7707, 7707, 7707, 7750, 7750, 7750, 8372, 8372, 8372, 7951, 7951, 7951, 7730, 7730, 7730, 7519, 7519, 7519, 8730, 8730, 8730, 8156, 8156, 8156, 7716, 7716, 7716, 7992, 7992, 7992, 7634, 7634, 7634, 8279, 8279, 8279, 5101, 5101, 5797, 5797, 5797, 6277, 6277, 6277, 6461, 6461, 6461, 6231, 6231, 6231, 6220, 6220, 6220, 5824, 5824, 5824, 6338, 6338, 6338, 5860, 5860, 5860, 6215, 6215, 6215, 6021, 6021, 6021, 6322, 6322, 6322, 5943, 5943, 5943, 5889, 5889, 5889, 5891, 5891, 5891, 5625, 5625, 5625, 5086, 5086, 5086, 5367, 5367, 5367, 6024, 6024, 6024, 5746, 5746, 5746, 6000, 6000, 6000, 5522, 5522, 5522, 5795, 5795, 5795, 5442, 5442, 5442, 5935, 5935, 5935, 5065, 5065, 5065, 5404, 5404, 5404, 5396, 5396, 5396, 5802, 5802, 5802, 5312, 5312, 5312, 5551, 5551, 5551, 5021, 5021, 5021, 5257, 5257, 5257, 5313, 5313, 5313, 4998, 4998, 4998, 4865, 4865, 4865, 4731, 4731, 4731, 4874, 4874, 4874, 4949, 4949, 4949, 4986, 4986, 4986, 4847, 4847, 4847, 4962, 4962, 4962, 4254, 4254, 4254, 4680, 4680, 4680, 4587, 4587, 4587, 4529, 4529, 4529, 4249, 4249, 4249, 4377, 4377, 4377, 4257, 4257, 4257, 5033, 5033, 5033, 5554, 5554, 5554, 5565, 5565, 5565, 5829, 5829, 5829, 5279, 5279, 5279, 5488, 5488, 5488, 5137, 5137, 5137, 5134, 5134, 5134, 5359, 5359, 5359, 5148, 5148, 5148, 5433, 5433, 5433, 5385, 5385, 5385, 5413, 5413, 5413, 4905, 4905, 4905, 5145, 5145, 5145, 4786, 4786, 4786, 5085, 5085, 5085, 5379, 5379, 5379, 4971, 4971, 4971, 4794, 4794, 4794, 5347, 5347, 5347, 5159, 5159, 5159, 4705, 4705, 4705, 5310, 5310, 5310, 4255, 4255, 4255, 5015, 5015, 5015, 4199, 4199, 4199, 4403, 4403, 4403, 3795, 3795, 3795, 4097, 4097, 4097, 3497, 3497, 3497, 3731, 3731, 3731, 3569, 3569, 3569, 3470, 3470, 3470, 3483, 3483, 3483, 4004, 4004, 4004, 3453, 3453, 3453, 3879, 3879, 3879, 3922, 3922, 3922, 3515, 3515, 3515, 4446, 4446, 4446, 4326, 4326, 4326, 3911, 3911, 3911, 4236, 4236, 4236, 4617, 4617, 4617, 4156, 4156, 4156, 4366, 4366, 4366, 5255, 5255, 5255, 4880, 4880, 4880, 5467, 5467, 5467, 5242, 5242, 5242, 4640, 4640, 4640, 5383, 5383, 5383, 4671, 4671, 4671, 4584, 4584, 4584, 4947, 4947, 4947, 4637, 4637, 4637, 4814, 4814, 4814, 4914, 4914, 4914, 4860, 4860, 4860, 5222, 5222, 5222, 4808, 4808, 4808, 4984, 4984, 4984, 5231, 5231, 5231, 4786, 4786, 4786, 5148, 5148, 5148, 5299, 5299, 5299, 4696, 4696, 4696, 4928, 4928, 4928, 5303, 5303, 5303, 5411, 5411, 5411, 5537, 5537, 5537, 4999, 4999, 4999, 5856, 5856, 5856, 5908, 5908, 5908, 5947, 5947, 5947, 5833, 5833, 5833, 5978, 5978, 5978, 5903, 5903, 5903, 5668, 5668, 5668, 5874, 5874, 5874, 5791, 5791, 5791, 5872, 5872, 5872, 5876, 5876, 5876, 5748, 5748, 5748, 5732, 5732, 5732, 5700, 5700, 5700, 5687, 5687, 5687, 5826, 5826, 5826, 5543, 5543, 5543, 5817, 5817, 5817, 5596, 5596, 5596, 5518, 5518, 5518, 5922, 5922, 5922, 5980, 5980, 5980, 5870, 5870, 5870, 5270, 5270, 5270, 6031, 6031, 6031, 5355, 5355, 5355, 5157, 5157, 5157, 5245, 5245, 5245, 5187, 5187, 5187, 5103, 5103, 5103, 5076, 5076, 5076, 5023, 5023, 5023, 5249, 5249, 5249, 4787, 4787, 4787, 5513, 5513, 5513, 5483, 5483, 5483, 5337, 5337, 5337, 5140, 5140, 5140, 5071, 5071, 5071, 4846, 4846, 4846, 5319, 5319, 5319, 5291, 5291, 5291, 5221, 5221, 5221, 5132, 5132, 5132, 5387, 5387, 5387, 5275, 5275, 5275, 5553, 5553, 5553, 5880, 5880, 5880, 5484, 5484, 5484, 5547, 5547, 5547, 5913, 5913, 5913, 5932, 5932, 5932, 5562, 5562, 5562, 5197, 5197, 5197, 5306, 5306, 5306, 5328, 5328, 5328, 4735, 4735, 4735, 4971, 4971, 4971, 4929, 4929, 4929, 4799, 4799, 4799, 5515, 5515, 5515, 5641, 5641, 5641, 5863, 5863, 5863, 5594, 5594, 5594, 5233, 5233, 5233, 5377, 5377, 5377, 5408, 5408, 5408, 5303, 5303, 5303, 5320, 5320, 5320, 5531, 5531, 5531, 5638, 5638, 5638, 4717, 4717, 4717, 5781, 5781, 5781, 4938, 4938, 4938, 4890, 4890, 4890, 4755, 4755, 4755, 4801, 4801, 4801, 4782, 4782, 4782, 4757, 4757, 4757, 4923, 4923, 4923, 4450, 4450, 4450, 4508, 4508, 4508, 4631, 4631, 4631, 4559, 4559, 4559, 5042, 5042, 5042, 4974, 4974, 4974, 4900, 4900, 4900, 4899, 4899, 4899, 4931, 4931, 4931, 4982, 4982, 4982, 4994, 4994, 4994, 5013, 5013, 5013, 4988, 4988, 4988, 5131, 5131, 5131, 5308, 5308, 5308, 5035, 5035, 5035, 5293, 5293, 5293, 5158, 5158, 5158, 4988, 4988, 4988, 4850, 4850, 4850, 4762, 4762, 4762, 4807, 4807, 4807, 5040, 5040, 5040, 5043, 5043, 5043, 5092, 5092, 5092, 5033, 5033, 5033, 5051, 5051, 5051, 4922, 4922, 4922, 4811, 4811, 4811, 4922, 4922, 4922, 4835, 4835, 4835, 4777, 4777, 4777, 4840, 4840, 4840, 4782, 4782, 4782, 5153, 5153, 5153, 4807, 4807, 4807, 4817, 4817, 4817, 4825, 4825, 4825, 5072, 5072, 5072, 4771, 4771, 4771, 4986, 4986, 4986, 4785, 4785, 4785, 4824, 4824, 4824, 5180, 5180, 5180, 4774, 4774, 4774, 5127, 5127, 5127, 4968, 4968, 4968, 5052, 5052, 5052, 4785, 4785, 4785, 5190, 5190, 5190, 4809, 4809, 4809, 4885, 4885, 4885, 4751, 4751, 4751, 5043, 5043, 5043, 5018, 5018, 5018, 4835, 4835, 4835, 4954, 4954, 4954, 4913, 4913, 4913, 5132, 5132, 5132, 5060, 5060, 5060, 5482, 5482, 5482, 5247, 5247, 5247, 5380, 5380, 5380, 5076, 5076, 5076, 7945, 7945, 7945, 7030, 7030, 7030, 8201, 8201, 8201, 7820, 7820, 7820, 8633, 8633, 8633, 8349, 8349, 8349, 8750, 8750, 8750, 5785, 5785, 5785, 6522, 6522, 6522, 5604, 5604, 5604, 5848, 5848, 5848, 6385, 6385, 6385, 5870, 5870, 5870, 6139, 6139, 6139, 5379, 5379, 5379, 5934, 5934, 5934, 6170, 6170, 6170, 6227, 6227, 6227, 5906, 5906, 5906, 6053, 6053, 6053, 6371, 6371, 6371, 6301, 6301, 6301, 6497, 6497, 6497, 5929, 5929, 5929, 6371, 6371, 6371, 6383, 6383, 6383, 6274, 6274, 6274, 6486, 6486, 6486, 6882, 6882, 6882, 6551, 6551, 6551, 4737, 4737, 4737, 6740, 6740, 6740, 4451, 4451, 4451, 4491, 4491, 4491, 4349, 4349, 4349, 4289, 4289, 4289, 4351, 4351, 4351, 4343, 4343, 4343, 4297, 4297, 4297, 4454, 4454, 4454, 4213, 4213, 4213, 4374, 4374, 4374, 4259, 4259, 4259, 4267, 4267, 4267, 3987, 3987, 3987, 4313, 4313, 4313, 4352, 4352, 4352, 4537, 4537, 4537, 4372, 4372, 4372, 4503, 4503, 4503, 4265, 4265, 4265, 4392, 4392, 4392, 4743, 4743, 4743, 4787, 4787, 4787, 4507, 4507, 4507, 5930, 5930, 5930, 6229, 6229, 6229, 6455, 6455, 6455, 6182, 6182, 6182, 6554, 6554, 6554, 6694, 6694, 6694, 6298, 6298, 6298, 6745, 6745, 6745, 6328, 6328, 6328, 6396, 6396, 6396, 6138, 6138, 6138, 6239, 6239, 6239, 6646, 6646, 7644, 7644, 7644, 7632, 7632, 7632, 7806, 7806, 7806, 7835, 7835, 7835, 7327, 7327, 7327, 7989, 7989, 7989, 7848, 7848, 7848, 8075, 8075, 8075, 7374, 7374, 7374, 7489, 7489, 7489, 7728, 7728, 7728, 7843, 7843, 7843, 7821, 7821, 7821, 7691, 7691, 7691, 7614, 7614, 7614, 8283, 8283, 8283, 7539, 7539, 7539, 8198, 8198, 8198, 7607, 7607, 7607, 8310, 8310, 8310, 7956, 7956, 7956, 7962, 7962, 7962, 8127, 8127, 8127, 8182, 8182, 8182, 7836, 7836, 7836, 8235, 8235, 8235, 7980, 7980, 7980, 7871, 7871, 7871, 7701, 7701, 7701, 7081, 7081, 7081, 7558, 7558, 7558, 6688, 6688, 6688, 6709, 6709, 6709, 7177, 7177, 7177, 6230, 6230, 6230, 7410, 7410, 7410, 7661, 7661, 7661, 8652, 8652, 8652, 8525, 8525, 8525, 7408, 7408, 7408, 7527, 7527, 7527, 7046, 7046, 7046, 6844, 6844, 6844, 6941, 6941, 6941, 6948, 6948, 6948, 7281, 7281, 7281, 8593, 8593, 8593, 7811, 7811, 7811, 8946, 8946, 8946, 8404, 8404, 8404, 8869, 8869, 8869, 8329, 8329, 8329, 9332, 9332, 9332, 8506, 8506, 8506, 9030, 9030, 9030, 9555, 9555, 9555, 9508, 9508, 9508, 8863, 8863, 8863, 9630, 9630, 9630, 8425, 8425, 8425, 8505, 8505, 8505, 9788, 9788, 9788, 9354, 9354, 9354, 9335, 9335, 9335, 8597, 8597, 8597, 9107, 9107, 9107, 9161, 9161, 9161, 8972, 8972, 8972, 9388, 9388, 9388, 9218, 9218, 9218, 6244, 6244, 6244, 9021, 9021, 9021, 5858, 5858, 5858, 5982, 5982, 5982, 5975, 5975, 5975, 5585, 5585, 5585, 5295, 5295, 5295, 5724, 5724, 5724, 5932, 5932, 5932, 5534, 5534, 5534, 5982, 5982, 5982, 5627, 5627, 5627, 5256, 5256, 5256, 5172, 5172, 5172, 5684, 5684, 5684, 5451, 5451, 5451, 4870, 4870, 4870, 5364, 5364, 5364, 5818, 5818, 5818, 6607, 6607, 6607, 5576, 5576, 5576, 6393, 6393, 6393, 6036, 6036, 6036, 6774, 6774, 6774, 6064, 6064, 6064, 9556, 9556, 9556, 9611, 9611, 9611, 9825, 9825, 9825, 9708, 9708, 9708, 9512, 9512, 9512, 9713, 9713, 9713, 9438, 9438, 9438, 9018, 9018, 9018, 9533, 9533, 9533, 9257, 9257, 9257, 8737, 8737, 8737, 8740, 8740, 8740, 9353, 9353, 9353, 9035, 9035, 9035, 8894, 8894, 8894, 8954, 8954, 8954, 9115, 9115, 9115, 9207, 9207, 9207, 9358, 9358, 9358, 9132, 9132, 9132, 9249, 9249, 9249, 9270, 9270, 9270, 9299, 9299, 9299, 9496, 9496, 9496, 8978, 8978, 8978, 8735, 8735, 8735, 8726, 8726, 8726, 8045, 8045, 8045, 8644, 8644, 8644, 8009, 8009, 8009, 8808, 8808, 8808, 8959, 8959, 8959, 8275, 8275, 8275, 8502, 8502, 8502, 8046, 8046, 8046, 8664, 8664, 8664, 9269, 9269, 9269, 8818, 8818, 8818, 8447, 8447, 8447, 8655, 8655, 8655, 8878, 8878, 8878, 8990, 8990, 8990, 7963, 7963, 7963, 9794, 9794, 9794, 8562, 8562, 8562, 8739, 8739, 8739, 8266, 8266, 8266, 8325, 8325, 8325, 9723, 9723, 9723, 10396, 10396, 10396, 8665, 8665, 8665, 9546, 9546, 9546, 9204, 9204, 9204, 8658, 8658, 8658, 8819, 8819, 8819, 9545, 9545, 9545, 9592, 9592, 9592, 8729, 8729, 8729, 9608, 9608, 9608, 9594, 9594, 9594, 10039, 10039, 10039, 9974, 9974, 9974, 8369, 8369, 8369, 9703, 9703, 9703, 9241, 9241, 9241, 9307, 9307, 9307, 9553, 9553, 9553, 8163, 8163, 8163, 10337, 10337, 10337, 9221, 9221, 9221, 10024, 10024, 10024, 9813, 9813, 9813, 7936, 7936, 7936, 8867, 8867, 8867, 8066, 8066, 8066, 8660, 8660, 8660, 8573, 8573, 8573, 7885, 7885, 7885, 8720, 8720, 8720, 9255, 9255, 9255, 7732, 7732, 7732, 8163, 8163, 8163, 7640, 7640, 7640, 8314, 8314, 8314, 8267, 8267, 8267, 8451, 8451, 8451, 9184, 9184, 9184, 7468, 7468, 7468, 8079, 8079, 8079, 8777, 8777, 8777, 7854, 7854, 7854, 9317, 9317, 9317, 8421, 8421, 8421, 8265, 8265, 8265, 5323, 5323, 5323, 7346, 7346, 7346, 7567, 7567, 7567, 4830, 4830, 4830, 4947, 4947, 4947, 4635, 4635, 4635, 4744, 4744, 4744, 4438, 4438, 4438, 4796, 4796, 4796, 4309, 4309, 4309, 4772, 4772, 4772, 4791, 4791, 4791, 4992, 4992, 4992, 4619, 4619, 4619, 4781, 4781, 4781, 4915, 4915, 4915, 4673, 4673, 4673, 4640, 4640, 4640, 5166, 5166, 5166, 4931, 4931, 4931, 4658, 4658, 4658, 5387, 5387, 5387, 4766, 4766, 4766, 5324, 5324, 5324, 5148, 5148, 5148, 5206, 5206, 5206, 5207, 5207, 5207, 5283, 5283, 5283, 5169, 5169, 5169, 4926, 4926, 4926, 5388, 5388, 5388, 5557, 5557, 5557, 5121, 5121, 5121, 5261, 5261, 5261, 5316, 5316, 5316, 5342, 5342, 5342, 4955, 4955, 4955, 5265, 5265, 5265, 5840, 5840, 5840, 5684, 5684, 5684, 5687, 5687, 5687, 5267, 5267, 5267, 5438, 5438, 5438, 5821, 5821, 5821, 5657, 5657, 5657, 5339, 5339, 5339, 5681, 5681, 5681, 5365, 5365, 5365, 5615, 5615, 5615, 5752, 5752, 5752, 4494, 4494, 4494, 4384, 4384, 4384, 4350, 4350, 4350, 4532, 4532, 4532, 4559, 4559, 4559, 4431, 4431, 4431, 4404, 4404, 4404, 4352, 4352, 4352, 4473, 4473, 4473, 4575, 4575, 4575, 4726, 4726, 4726, 4660, 4660, 4660, 4711, 4711, 4711, 4796, 4796, 4796, 4553, 4553, 4553, 4758, 4758, 4758, 4890, 4890, 4890, 4614, 4614, 4614, 4798, 4798, 4798, 4904, 4904, 4904, 4460, 4460, 4460, 4949, 4949, 4949, 5055, 5055, 5055, 5087, 5087, 5087, 5335, 5335, 5335, 5552, 5552, 5552, 5720, 5720, 5720, 5786, 5786, 5786, 5092, 5092, 5092, 5318, 5318, 5318, 5387, 5387, 5387, 5314, 5314, 5314, 5225, 5225, 5225, 5102, 5102, 5102, 4741, 4741, 4741, 4642, 4642, 4642, 5402, 5402, 5402, 5402, 5402, 5402, 5382, 5382, 5382, 5293, 5293, 5293, 5672, 5672, 5672, 5615, 5615, 5615, 5743, 5743, 5743, 5601, 5601, 5601, 6212, 6212, 6212, 5728, 5728, 5728, 6355, 6355, 6355, 5892, 5892, 5892, 5494, 5494, 5494, 5642, 5642, 5642, 5387, 5387, 5387, 4694, 4694, 4694, 5337, 5337, 5337, 5638, 5638, 5638, 5393, 5393, 5393, 5346, 5346, 5346, 5599, 5599, 5599, 5347, 5347, 5347, 5689, 5689, 5689, 5807, 5807, 5807, 5375, 5375, 5375, 4989, 4989, 4989, 5940, 5940, 5940, 5288, 5288, 5288, 5898, 5898, 5898, 5620, 5620, 5620, 5710, 5710, 5710, 5953, 5953, 5953, 6066, 6066, 6066, 5736, 5736, 5736, 5971, 5971, 5971, 5983, 5983, 5983, 5178, 5178, 5178, 4894, 4894, 4894, 5304, 5304, 5304, 5192, 5192, 5192, 4658, 4658, 4658, 4810, 4810, 4810, 4643, 4643, 4643, 4540, 4540, 4540, 4543, 4543, 4543, 4424, 4424, 4424, 4586, 4586, 4586, 4441, 4441, 4441, 4854, 4854, 4854, 4745, 4745, 4745, 4616, 4616, 4616, 4717, 4717, 4717, 4825, 4825, 4825, 4709, 4709, 4709, 4502, 4502, 4502, 4419, 4419, 4419, 5213, 5213, 5213, 5010, 5010, 5010, 5101, 7220, 7644, 7644, 7644, 7334, 7334, 7334, 6810, 6810, 6810, 7664, 7664, 7664, 7656, 7656, 7656, 7114, 7114, 7114, 7732, 7732, 7732, 8036, 8036, 8036, 8386, 8386, 8386, 7556, 7556, 7556, 7329, 7329, 7329, 8510, 8510, 8510, 7931, 7931, 7931, 8918, 8918, 8918, 7543, 7543, 7543, 7767, 7767, 7767, 7297, 7297, 7297, 7788, 7788, 7788, 7292, 7292, 7292, 9113, 9113, 9113, 7167, 7167, 7167, 8158, 8158, 8158, 8665, 8665, 8665, 7634, 7634, 7634, 8272, 8272, 8272, 7716, 7716, 7716, 7518, 7518, 7518, 7425, 7425, 7425, 7223, 7223, 7223, 8064, 8064, 8064, 7760, 7760, 7760, 8514, 8514, 8514, 8396, 8396, 8396, 8770, 8770, 8770, 8251, 8251, 8251, 8637, 8637, 8637, 9009, 9009, 9009, 8488, 8488, 8488, 8388, 8388, 8388, 9045, 9045, 9045, 8044, 8044, 8044, 8728, 8728, 8728, 8532, 8532, 8532, 7805, 7805, 7805, 8227, 8227, 8227, 8792, 8792, 8792, 8042, 8042, 8042, 7992, 7992, 7992, 8030, 8030, 8030, 7835, 7835, 7835, 7660, 7660, 7660, 8595, 8595, 8595, 7990, 7990, 7990, 8055, 8055, 8055, 8026, 8026, 8026, 8060, 8060, 8060, 8125, 8125, 8125, 7965, 7965, 7965, 7956, 7956, 7956, 7552, 7552, 7552, 7554, 7554, 7554, 8444, 8444, 8444, 8168, 8168, 8168, 7699, 7699, 7699, 8314, 8314, 8314, 8453, 8453, 8453, 9094, 9094, 9094, 8966, 8966, 8966, 5695, 5695, 5695, 5878, 5878, 5878, 5675, 5675, 5675, 5823, 5823, 5823, 5120, 5120, 5120, 5270, 5270, 5270, 5273, 5273, 5273, 5086, 5086, 5086, 5053, 5053, 5053, 5017, 5017, 5017, 5042, 5042, 5042, 5194, 5194, 5194, 5072, 5072, 5072, 5501, 5501, 5501, 5439, 5439, 5439, 5724, 5724, 5724, 5523, 5523, 5523, 5402, 5402, 5402, 5449, 5449, 5449, 5110, 5110, 5110, 5578, 5578, 5578, 5726, 5726, 5726, 5685, 5685, 5685, 5216, 5216, 5216, 8142, 8142, 8142, 8316, 8316, 8316, 8518, 8518, 8518, 8770, 8770, 8770, 8591, 8591, 8591, 7956, 7956, 7956, 8566, 8566, 8566, 8229, 8229, 8229, 7937, 7937, 7937, 7601, 7601, 7601, 8160, 8160, 8160, 7389, 7389, 7389, 8707, 8707, 8707, 9523, 9523, 9523, 9351, 9351, 9351, 8895, 8895, 8895, 8603, 8603, 8603, 8525, 8525, 8525, 8682, 8682, 8682, 8232, 8232, 8232, 9051, 9051, 9051, 9074, 9074, 9074, 9671, 9671, 9671, 9090, 9090, 9090, 4082, 4082, 4082, 4484, 4484, 4484, 4405, 4405, 4405, 4527, 4527, 4527, 4443, 4443, 4443, 4744, 4744, 4744, 4593, 4593, 4593, 4149, 4149, 4149, 4527, 4527, 4527, 4528, 4528, 4528, 4624, 4624, 4624, 4380, 4380, 4380, 4778, 4778, 4778, 4602, 4602, 4602, 4298, 4298, 4298, 4683, 4683, 4683, 4843, 4843, 4843, 4354, 4354, 4354, 4243, 4243, 4243, 4494, 4494, 4494, 4722, 4722, 4722, 4811, 4811, 4811, 5026, 5026, 5026, 4845, 4845, 4845, 7304, 7304, 7304, 7826, 7826, 7826, 6637, 6637, 6637, 6524, 6524, 6524, 7589, 7589, 7589, 7239, 7239, 7239, 7097, 7097, 7097, 6906, 6906, 6906, 8028, 8028, 8028, 8072, 8072, 8072, 7438, 7438, 7438, 7384, 7384, 7384, 8350, 8350, 8350, 8616, 8616, 8616, 7727, 7727, 7727, 7474, 7474, 7474, 8247, 8247, 8247, 7840, 7840, 7840, 7662, 7662, 7662, 6893, 6893, 6893, 8335, 8335, 8335, 9105, 9105, 9105, 8238, 8238, 8238, 8172, 8172, 8172, 10184, 10184, 10184, 9811, 9811, 9811, 9482, 9482, 9482, 9254, 9254, 9254, 8916, 8916, 8916, 9525, 9525, 9525, 9276, 9276, 9276, 8051, 8051, 8051, 8896, 8896, 8896, 8822, 8822, 8822, 8905, 8905, 8905, 8783, 8783, 8783, 8602, 8602, 8602, 9419, 9419, 9419, 8491, 8491, 8491, 8800, 8800, 8800, 9528, 9528, 9528, 9323, 9323, 9323, 8837, 8837, 8837, 9127, 9127, 9127, 8912, 8912, 8912, 9614, 9614, 9614, 8867, 8867, 8867, 9003, 9003, 9003, 7154, 7154, 7154, 7990, 7990, 7990, 8070, 8070, 8070, 7379, 7379, 7379, 6954, 6954, 6954, 7442, 7442, 7442, 7814, 7814, 7814, 7355, 7355, 7355, 6927, 6927, 6927, 6618, 6618, 6618, 7789, 7789, 7789, 6907, 6907, 6907, 7739, 7739, 7739, 7142, 7142, 7142, 6859, 6859, 6859, 6839, 6839, 6839, 5900, 5900, 5900, 7372, 7372, 7372, 6983, 6983, 6983, 8629, 8629, 8629, 7247, 7247, 7247, 8370, 8370, 8370, 8973, 8973, 8973, 7532, 7532, 7532, 8624, 8624, 8624, 8730, 8730, 8730, 8283, 8283, 8283, 8588, 8588, 8588, 8833, 8833, 8833, 8801, 8801, 8801, 8392, 8392, 8392, 8481, 8481, 8481, 8733, 8733, 8733, 8719, 8719, 8719, 8297, 8297, 8297, 8828, 8828, 8828, 8546, 8546, 8546, 8768, 8768, 8768, 8423, 8423, 8423, 8530, 8530, 8530, 8711, 8711, 8711, 9181, 9181, 9181, 8373, 8373, 8373, 8941, 8941, 8941, 9184, 9184, 9184, 8963, 8963, 8963, 9599, 9599, 9599, 9067, 9067, 9067, 8740, 8740, 8740, 8075, 8075, 8075, 8798, 8798, 8798, 8819, 8819, 8819, 8604, 8604, 8604, 7830, 7830, 7830, 8646, 8646, 8646, 8390, 8390, 8390, 7999, 7999, 7999, 8523, 8523, 8523, 8868, 8868, 8868, 9105, 9105, 9105, 8291, 8291, 8291, 8574, 8574, 8574, 8860, 8860, 8860, 8232, 8232, 8232, 9034, 9034, 9034, 8600, 8600, 8600, 8784, 8784, 8784, 8865, 8865, 8865, 9194, 9194, 9194, 8379, 8379, 8379, 8999, 8999, 8999, 9222, 9222, 9222, 7833, 7833, 7833, 7729, 7729, 7729, 7943, 7943, 7943, 7607, 7607, 7607, 7594, 7594, 7594, 8714, 8714, 8714, 8531, 8531, 8531, 8652, 8652, 8652, 7884, 7884, 7884, 8098, 8098, 8098, 8390, 8390, 8390, 8082, 8082, 8082, 7884, 7884, 7884, 7750, 7750, 7750, 7850, 7850, 7850, 7614, 7614, 7614, 7798, 7798, 7798, 8360, 8360, 8360, 8268, 8268, 8268, 8531, 8531, 8531, 8103, 8103, 8103, 8397, 8397, 8397, 8205, 8205, 8205, 7744, 7744, 7744, 8164, 8164, 8164, 7425, 7425, 7425, 7007, 7007, 7007, 7316, 7316, 7316, 8327, 8327, 8327, 8245, 8245, 8245, 7886, 7886, 7886, 7937, 7937, 7937, 8654, 8654, 8654, 8273, 8273, 8273, 8017, 8017, 8017, 7855, 7855, 7855, 8603, 8603, 8603, 8937, 8937, 8937, 7843, 7843, 7843, 7932, 7932, 7932, 9128, 9128, 9128, 8662, 8662, 8662, 8476, 8476, 8476, 8886, 8886, 8886, 7703, 7703, 7703, 8622, 8622, 8622, 9008, 9008, 9008, 8047, 8047, 8047, 9738, 9738, 9738, 8987, 8987, 8987, 7970, 7970, 7970, 8313, 8313, 8313, 8293, 8293, 8293, 7797, 7797, 7797, 7696, 7696, 7696, 8722, 8722, 8722, 7328, 7328, 7328, 8243, 8243, 8243, 8928, 8928, 8928, 8783, 8783, 8783, 8500, 8500, 8500, 8915, 8915, 8915, 9025, 9025, 9025, 9074, 9074, 9074, 8475, 8475, 8475, 9488, 9488, 9488, 9873, 9873, 9873, 8879, 8879, 8879, 9205, 9205, 9205, 10489, 10489, 10489, 9884, 9884, 9884, 9658, 9658, 9658, 7897, 7897, 7897, 3966, 3966, 3966, 4419, 4419, 4419, 4470, 4470, 4470, 4263, 4263, 4263, 4381, 4381, 4381, 4427, 4427, 4427, 4721, 4721, 4721, 4078, 4078, 4078, 4357, 4357, 4357, 4256, 4256, 4256, 4412, 4412, 4412, 4245, 4245, 4245, 4438, 4438, 4438, 4458, 4458, 4458, 4509, 4509, 4509, 7440, 7440, 7440, 7435, 7435, 7435, 7643, 7643, 7643, 8348, 8348, 8348, 7700, 7700, 7700, 9031, 9031, 9031, 9146, 9146, 9146, 8473, 8473, 8473, 8487, 8487, 8487, 8426, 8426, 8426, 7869, 7869, 7869, 8134, 8134, 8134, 8966, 8966, 8966, 8327, 8327, 8327, 7820, 7820, 7820, 8818, 8818, 8818, 8949, 8949, 8949, 9072, 9072, 9072, 8732, 8732, 8732, 9071, 9071, 9071, 9736, 9736, 9736, 8952, 8952, 8952, 8649, 8649, 8649, 4497, 4497, 4497, 9086, 9086, 9086, 4759, 4759, 4759, 4586, 4586, 4586, 4534, 4534, 4534, 4532, 4532, 4532, 4179, 4179, 4179, 4306, 4306, 4306, 4276, 4276, 4276, 4041, 4041, 4041, 4271, 4271, 4271, 4251, 4251, 4251, 4228, 4228, 4228, 3727, 3727, 3727, 4480, 4480, 4480, 4358, 4358, 4358, 4504, 4504, 4504, 4161, 4161, 4161, 4623, 4623, 4623, 4397, 4397, 4397, 4712, 4712, 4712, 4431, 4431, 4431, 4869, 4869, 4869, 4583, 4583, 4583, 4910, 4910, 4910, 8695, 8695, 8695, 8175, 8175, 8175, 8168, 8168, 8168, 7220, 7220]\n",
            "11288\n",
            "3346\n"
          ]
        }
      ],
      "source": [
        "a = []\n",
        "path = '/content/drive/MyDrive/Thesis_Project/DATA/Rotate_Folder'\n",
        "h = listdir('/content/drive/MyDrive/Thesis_Project/DATA/Rotate_Folder')\n",
        "\n",
        "for i in h :\n",
        "  ab_path = path +'/'+ i\n",
        "  a.append(len(np.array(o3d.io.read_point_cloud(ab_path).points)))\n",
        "\n",
        "print(a)\n",
        "max = a[0]\n",
        "min = a[0]\n",
        "\n",
        "for i in range(1, len(a)):\n",
        "    \n",
        "    if max < a[i]:\n",
        "        max = a[i]\n",
        "\n",
        "    if min > a[i]:\n",
        "        min = a[i]\n",
        "print(max)\n",
        "print(min)"
      ]
    },
    {
      "cell_type": "code",
      "execution_count": null,
      "metadata": {
        "colab": {
          "base_uri": "https://localhost:8080/"
        },
        "id": "JVYr_wzDnIdO",
        "outputId": "75bc1e7d-da83-459f-992c-5b3d28088825"
      },
      "outputs": [
        {
          "name": "stdout",
          "output_type": "stream",
          "text": [
            "[4031, 3455, 3879, 4284, 3980, 3603, 3920, 4185, 4032, 3752, 4046, 4498, 4118, 3650, 4577, 3585, 3814, 3380, 3610, 3299, 3519, 3534, 3227, 3677, 3734, 3549, 3943, 3535, 3529, 3861, 3903, 3898, 3708, 3897, 3869, 4095, 3965, 4200, 3758, 3828, 3514, 3514, 3703, 3516, 3462, 3095, 3403, 3581, 3507, 3586, 3609, 3792, 3563, 3659, 3562, 3709, 3686, 3638, 3607, 3511, 3672, 3463, 3756, 4273, 3540, 3969, 4084, 3872, 3711, 3223, 4043, 3652, 3441, 3460, 3831, 3670, 3673, 4098, 3534, 3769, 3626, 3952, 3451, 3943, 3908, 3433, 3787, 3573, 3545, 3569, 3827, 3575, 3562, 3749, 3627, 3670, 3681, 3566, 3968, 3612, 3859, 3868, 3794, 3706, 3600, 3540, 3824, 4000, 4282, 4230, 3321, 3127, 3130, 3136, 3189, 3289, 3392, 3392, 3132, 3198, 3056, 3473, 2708, 3113, 2993, 2828, 3446, 3074, 3017, 2873, 3373, 3111, 3288, 3242, 4678, 4581, 4429, 4342, 4664, 4803, 4490, 3781, 3636, 4162, 3743, 3797, 3717, 4059, 3471, 3620, 4126, 3745, 3983, 3570, 3996, 4050, 4217, 3881, 3539, 3656, 3450, 3759, 3684, 3696, 3743, 3774, 3745, 3922, 3114, 3780, 3742, 3877, 3874, 3474, 3795, 3953, 3823, 4356, 3444, 3868, 4216, 3986, 3374, 3221, 3113, 3257, 2898, 3116, 3211, 3321, 3389, 3442, 3437, 3369, 3456, 3306, 3438, 3372, 3396, 3416, 3308, 3349, 3418, 3773, 3506, 3749, 3393, 3502, 3474, 3529, 3589, 3475, 3578, 3523, 3597, 3636, 3580, 3526, 3864, 3791, 3660, 3795, 3747, 3344, 3429, 3476, 3880, 3863, 3860, 4041, 3716, 4027, 3570, 3956, 3855, 3845, 3968, 3833, 3696, 3557, 3776, 3656, 3484, 3655, 3625, 3587, 3615, 3651, 3568, 4035, 3402, 3852, 3996, 4093, 4067, 3919, 3867, 3923, 3956, 3952, 3929, 3961, 3895, 4116, 3866, 3784, 3605, 3637, 3726, 3425, 3726, 3545, 3460, 3540, 3942, 3892, 4018, 3648, 3933, 3452, 3438, 3408, 3370, 3299, 3596, 3591, 3171, 3319, 3111, 3420, 3363, 3390, 3376, 3771, 3600, 3290, 3374, 3930, 3662, 3576, 3492, 3581, 2287, 2221, 2303, 2233, 2281, 2262, 2276, 2271, 2317, 2246, 2233, 2344, 2217, 2322, 2317, 2355, 2270, 2329, 2321, 2352, 2410, 2401, 2364, 2458, 2366, 2371, 2535, 2478, 2439, 2444, 2474, 2409, 2497, 2490, 2419, 2360, 2514, 2425, 2456, 2442, 2416, 2513, 2560, 2551, 2654, 2526, 2698, 1848, 2700, 1897, 1917, 2055, 1950, 2086, 2030, 2022, 2061, 2116, 2124, 2062, 1963, 2027, 2086, 1984, 2208, 2106, 2256, 2180, 2122, 2282, 2189, 2185, 2908, 2966, 2974, 3025, 2789, 2792, 2633, 2790, 2801, 2965, 2829, 2827, 3012, 2771, 2852, 2725, 2880, 2870, 2752, 2813, 2848, 3083, 3072, 3125, 2119, 1996, 2052, 2046, 1977, 2015, 1837, 1796, 1964, 1751, 1796, 1842, 1673, 1913, 1926, 1922, 1906, 1947, 1936, 1851, 2015, 2117, 1993, 2225, 2046, 2133, 2306, 2232, 2110, 2357, 2256, 2135, 2222, 2162, 2293, 2288, 2149, 2108, 2339, 2230, 2233, 2304, 2198, 2406, 2329, 2431, 2555, 2604, 2655, 2637, 2591, 2652, 2605, 2662, 2633, 2581, 2559, 2560, 2529, 2571, 2437, 2663, 2666, 2618, 2674, 2585, 2367, 2543, 2799, 2657, 2731, 2779, 2056, 1987, 2017, 1950, 1985, 1984, 1900, 1999, 1992, 1970, 1932, 1993, 1987, 1940, 1898, 2033, 2026, 1917, 1950, 1941, 2100, 2097, 2254, 2206, 2071, 2292, 2263, 2169, 1988, 2271, 2206, 2163, 2242, 2352, 2279, 2289, 2225, 2240, 2199, 2180, 2316, 2221, 2286, 2184, 2260, 2362, 2470, 2250, 2286, 2432, 2329, 2357, 2304, 2313, 2249, 2255, 2217, 2296, 2207, 2167, 2221, 2278, 2326, 2258, 2354, 2279, 2377, 2259, 2392, 2357, 2508, 2506, 5029, 5379, 5001, 5187, 5416, 4808, 4757, 4739, 4721, 4661, 4729, 4342, 4431, 4283, 4201, 4206, 4186, 4240, 5380, 5026, 5470, 5107, 5644, 5535, 5004, 5089, 5288, 4879, 4926, 4818, 4829, 4889, 4691, 4749, 4974, 4671, 4724, 4750, 4784, 4792, 4649, 4831, 4936, 4887, 4881, 4831, 4426, 4739, 2338, 2359, 2430, 1966, 2038, 2147, 2188, 2308, 2205, 3933, 3468, 3984, 3442, 3871, 3363, 3991, 3602, 3837, 3518, 3880, 3672, 3572, 3642, 3461, 3801, 3643, 3842, 3448, 3603, 3747, 3778, 3787, 3935, 4231, 4322, 4354, 4209, 4483, 4247, 3952, 3913, 4253, 3969, 4135, 3854, 4070, 4090, 4122, 4018, 4068, 3844, 4199, 4420, 3991, 4663, 4475, 3721, 4353, 3245, 3655, 3916, 3549, 3405, 3621, 3175, 3268, 3697, 3677, 3431, 3379, 3805, 3284, 3423, 3297, 3510, 3182, 3339, 3582, 3786, 3595, 3275, 3838, 3717, 3349, 3377, 3429, 3509, 3470, 3321, 3304, 3840, 3318, 3401, 3448, 3624, 3373, 3536, 3342, 3344, 3720, 3355, 3639, 3750, 3670, 3481, 3268, 3545, 3506, 3286, 3284, 3529, 3580, 3628, 3587, 3661, 3522, 3701, 3604, 3291, 3412, 3353, 3563, 3206, 3400, 3523, 3517, 3353, 3417, 3618, 3720, 3443, 3563, 3339, 3446, 3162, 3468, 3312, 3278, 3159, 3245, 3176, 2909, 3091, 3150, 3235, 2995, 3178, 3243, 3182, 3240, 3423, 3343, 3366, 4112, 4479, 3982, 4037, 4236, 4373, 4317, 4054, 4184, 4245, 4225, 4182, 4134, 4072, 4092, 4023, 4358, 4228, 4014, 4143, 4075, 4288, 3123, 4439, 4247, 3252, 3299, 3540, 3168, 3543, 3219, 3322, 3281, 3028, 3212, 3502, 3104, 3428, 3375, 3347, 3245, 3239, 3377, 3558, 3356, 3512, 3614, 3923, 3625, 3464, 3669, 3777, 3408, 3537, 3593, 3628, 3668, 3664, 3810, 3717, 3490, 3615, 3597, 3498, 3377, 3383, 3197, 3523, 3577, 3710, 3853, 3732, 3328, 3255, 3095, 3597, 3313, 3173, 3243, 3227, 2810, 3149, 3082, 3259, 3054, 3363, 3209, 3299, 3209, 3020, 3179, 3133, 2965, 3581, 3720, 3629, 4109, 4144, 4272, 4212, 4169, 4163, 4178, 4036, 4096, 4144, 4238, 4104, 4177, 4048, 4242, 4122, 4096, 4140, 4069, 4136, 4183, 4254, 4106, 4036, 2876, 2881, 3081, 3002, 2984, 2952, 2828, 2881, 3007, 2686, 2814, 2939, 3024, 2731, 3111, 3141, 3219, 3218, 2865, 3092, 2925, 2976, 2970, 2970, 3642, 3661, 3825, 3778, 4104, 3992, 3644, 4050, 3923, 3637, 3848, 4130, 3704, 3815, 4000, 3994, 3749, 3980, 4062, 4386, 3623, 4034, 4400, 2029, 4126, 2001, 2041, 2036, 2003, 2026, 1980, 2020, 1856, 1917, 1878, 1883, 2013, 2054, 1963, 1989, 1870, 2052, 1943, 2006, 1888, 1915, 1965, 2843, 1944, 2838, 3028, 2973, 3179, 2896, 2851, 2945, 2585, 2809, 2891, 2832, 2908, 2670, 2911, 2504, 2765, 2882, 2821, 2759, 2846, 3031, 2980, 2969, 3082, 2984, 2818, 2868, 2910, 2732, 2901, 2892, 2901, 2896, 2928, 2662, 2938, 2679, 2877, 3162, 2952, 3106, 3130, 3352, 3217, 3369, 3448, 4000, 3175, 3835, 4198, 3510, 3696, 3409, 3776, 3442, 4026, 3849, 3819, 3717, 3635, 3892, 3830, 3606, 3472, 3822, 3816, 3903, 3918, 3664, 3995, 3924, 4038, 3687, 3745, 3864, 3922, 3911, 3846, 3807, 4142, 3770, 4099, 3804, 4155, 3978, 3981, 4064, 4091, 3918, 4118, 3990, 3936, 3851, 3541, 3779, 3344, 3355, 3589, 3115, 3705, 3831, 4326, 4263, 3704, 3764, 3523, 3422, 3471, 3474, 3641, 4297, 3906, 4473, 4202, 4435, 4165, 4666, 4253, 4515, 4778, 4754, 4432, 4815, 4213, 4253, 4894, 4677, 4668, 4299, 4554, 4581, 4486, 4694, 4609, 3122, 4511, 2929, 2991, 2988, 2793, 2648, 2862, 2966, 2767, 2991, 2814, 2628, 2586, 2842, 2726, 2435, 2682, 2909, 3304, 2788, 3197, 3018, 3387, 3032, 4778, 4806, 4913, 4854, 4756, 4857, 4719, 4509, 4767, 4629, 4369, 4370, 4677, 4518, 4447, 4477, 4558, 4604, 4679, 4566, 4625, 4635, 4650, 4748, 4489, 4368, 4363, 4023, 4322, 4005, 4404, 4480, 4138, 4251, 4023, 4332, 4635, 4409, 4224, 4328, 4439, 4495, 3982, 4897, 4281, 4370, 4133, 4163, 4862, 5198, 4333, 4773, 4602, 4329, 4410, 4773, 4796, 4365, 4804, 4797, 5020, 4987, 4185, 4852, 4621, 4654, 4777, 4082, 5169, 4611, 5012, 4907, 3968, 4434, 4033, 4330, 4287, 3943, 4360, 4628, 3866, 4082, 3820, 4157, 4134, 4226, 4592, 3734, 4040, 4389, 3927, 4659, 4211, 4133, 2662, 3673, 3784, 2415, 2474, 2318, 2372, 2219, 2398, 2155, 2386, 2396, 2496, 2310, 2391, 2458, 2337, 2320, 2583, 2466, 2329, 2694, 2383, 2662, 2574, 2603, 2604, 2642, 2585, 2463, 2694, 2779, 2561, 2631, 2658, 2671, 2478, 2633, 2920, 2842, 2844, 2634, 2719, 2911, 2829, 2670, 2841, 2683, 2808, 2876, 2247, 2192, 2175, 2266, 2280, 2216, 2202, 2176, 2237, 2288, 2363, 2330, 2356, 2398, 2277, 2379, 2445, 2307, 2399, 2452, 2230, 2475, 2528, 2544, 2668, 2776, 2860, 2893, 2546, 2659, 2694, 2657, 2613, 2551, 2371, 2321, 2701, 2701, 2691, 2647, 2836, 2808, 2872, 2801, 3106, 2864, 3178, 2946, 2747, 2821, 2694, 2347, 2669, 2819, 2697, 2673, 2800, 2674, 2845, 2904, 2688, 2495, 2970, 2644, 2949, 2810, 2855, 2977, 3033, 2868, 2986, 2992, 2589, 2447, 2652, 2596, 2329, 2405, 2322, 2270, 2272, 2212, 2293, 2221, 2427, 2373, 2308, 2359, 2413, 2355, 2251, 2210, 2607, 2505, 2551, 2899, 3139, 3231, 3116, 3110, 2912, 3169, 2930, 3108, 3011, 3161, 2972, 2945, 2946, 2813, 2543, 2684, 3012, 2873, 3000, 2761, 2898, 2721, 2968, 2533, 2702, 2698, 2901, 2656, 2776, 2511, 2629, 2657, 2499, 2433, 2366, 2437, 2475, 2493, 2424, 2481, 2127, 2340, 2294, 2265, 2125, 2189, 2129, 2517, 2777, 2783, 2915, 2640, 2744, 2569, 2567, 2680, 2574, 2717, 2693, 2707, 2453, 2573, 2393, 2543, 2690, 2486, 2397, 2674, 2580, 2353, 2655, 2128, 2508, 2100, 2202, 1898, 2049, 1749, 1866, 1785, 1735, 1742, 2002, 1727, 1940, 1961, 1758, 2223, 2163, 1956, 2118, 2309, 2078, 2183, 2628, 2440, 2734, 2621, 2320, 2692, 2336, 2292, 2474, 2319, 2407, 2457, 2430, 2611, 2404, 2492, 2616, 2393, 2574, 2650, 2348, 2464, 2652, 2706, 2769, 2500, 2928, 2954, 2974, 2917, 2989, 2952, 2834, 2937, 2896, 2936, 2938, 2874, 2866, 2850, 2844, 2913, 2772, 2909, 2798, 2759, 2961, 2990, 2935, 2635, 3016, 2678, 2579, 2623, 2594, 2552, 2538, 2512, 2625, 2394, 2757, 2742, 2669, 2570, 2536, 2423, 2660, 2646, 2611, 2566, 2694, 2638, 2777, 2940, 2742, 2774, 2957, 2966, 2781, 2599, 2653, 2664, 2368, 2486, 2465, 2400, 2758, 2821, 2932, 2797, 2617, 2689, 2704, 2652, 2660, 2766, 2819, 2359, 2891, 2469, 2445, 2378, 2401, 2391, 2379, 2462, 2225, 2254, 2316, 2280, 2521, 2487, 2450, 2450, 2466, 2491, 2497, 2507, 2494, 2566, 2654, 2518, 2647, 2579, 2494, 2425, 2381, 2404, 2520, 2522, 2546, 2517, 2526, 2461, 2406, 2461, 2418, 2389, 2420, 2391, 2577, 2404, 2409, 2413, 2536, 2386, 2493, 2393, 2412, 2590, 2387, 2564, 2484, 2526, 2393, 2595, 2405, 2443, 2376, 2522, 2509, 2418, 2477, 2457, 2566, 2530, 2741, 2624, 2690, 2538, 3973, 3515, 4101, 3910, 4317, 4175, 4375, 2893, 3261, 2802, 2924, 3193, 2935, 3070, 2690, 2967, 3085, 3114, 2953, 3027, 3186, 3151, 3249, 2965, 3186, 3192, 3137, 3243, 3441, 3276, 2369, 3370, 2226, 2246, 2175, 2145, 2176, 2172, 2149, 2227, 2107, 2187, 2130, 2134, 1994, 2157, 2176, 2269, 2186, 2252, 2133, 2196, 2372, 2394, 2254, 2965, 3115, 3228, 3091, 3277, 3347, 3149, 3373, 3164, 3198, 3069, 3120, 3323, 3102, 3176, 3097, 3112, 3179, 3257, 3206, 3231, 3223, 3266, 3482, 3811, 3924, 3970, 3945, 3806, 4065, 3734, 3909, 3723, 4201, 3891, 3973, 3751, 4105, 4093, 3860, 4071, 3847, 3982, 3921, 3941, 3970, 4047, 4066, 2266, 2245, 2271, 2230, 2144, 2284, 2226, 2276, 2180, 2302, 2253, 2314, 2252, 2244, 2267, 2184, 2155, 2185, 2171, 2261, 2468, 2296, 2420, 2576, 2307, 2211, 2243, 2219, 2225, 2236, 2036, 2109, 2114, 2175, 2169, 2135, 2059, 2180, 2169, 2281, 2134, 2210, 2028, 2126, 2017, 2176, 2246, 2331, 4246, 4255, 4006, 3995, 3870, 4045, 3838, 4095, 4292, 4003, 4465, 3722, 3731, 4178, 3869, 4289, 4367, 3977, 3831, 4343, 4207, 4364, 4447, 2456, 4230, 2297, 2423, 2362, 2368, 2037, 2333, 2230, 2280, 2330, 2284, 2378, 2534, 2395, 2484, 2408, 2415, 2557, 2456, 2705, 2491, 2660, 2695, 2558, 2760, 2592, 2627, 2716, 2542, 2365, 2403, 2443, 2497, 2381, 2493, 2408, 2399, 2791, 2428, 2281, 2446, 2488, 2451, 2486, 2499, 2553, 2810, 2843, 4021, 3621, 3690, 3810, 3845, 3577, 4037, 3800, 3857, 4001, 3677, 3904, 3607, 3716, 3810, 3731, 3623, 4028, 3427, 3921, 3927, 3699, 4036, 3773, 3363, 3532, 3127, 3472, 3376, 3280, 3315, 3058, 3221, 3032, 3298, 2863, 3578, 3629, 3359, 3078, 3351, 3255, 3166, 3471, 3329, 3431, 3386, 3206, 3253, 3253, 3496, 3611, 3664, 3858, 3728, 3904, 3819, 3780, 3761, 3668, 3665, 3835, 3870, 3834, 3710, 3807, 3764, 3702, 3750, 3841, 3829, 3868, 2799, 2580, 2476, 2442, 2800, 2454, 2486, 2617, 2608, 2563, 2816, 2533, 2563, 2458, 2423, 2557, 2474, 2403, 2597, 2538, 2760, 2821, 2686, 3093, 2985, 2825, 3292, 3167, 2881, 2981, 3587, 3220, 3070, 2924, 3327, 3285, 2903, 3159, 2983, 3021, 3002, 2938, 2696, 2780, 3239, 3332, 3303, 3276, 3785, 4115, 3352, 3741, 3762, 3941, 4234, 3877, 3622, 3797, 4165, 3636, 3892, 3763, 3742, 3682, 3545, 3479, 3717, 3665, 3799, 4029, 4059, 4013, 3601, 3521, 3643, 3437, 3659, 3714, 3583, 3737, 3759, 3526, 3646, 3775, 3489, 3476, 3547, 3554, 3642, 3558, 3435, 3428, 3691, 3680, 3854, 3875, 4186, 3976, 3865, 3760, 4365, 4078, 3858, 3996, 3817, 4140, 1983, 2210, 2235, 2132, 2191, 2214, 2361, 2039, 2179, 2128, 2206, 2123, 2219, 2229, 2255, 3720, 3718, 3822, 4174, 3850, 4516, 4573, 4237, 4244, 4213, 3935, 4067, 4483, 4164, 3910, 4409, 4475, 4536, 4366, 4536, 4868, 4476, 4325, 2249, 4543, 2380, 2293, 2267, 2266, 2090, 2153, 2138, 2021, 2136, 2126, 2114, 1864, 2240, 2179, 2252, 2081, 2312, 2199, 2356, 2216, 2435, 2292, 2455, 4348, 4088, 4084, 3610, 3822, 3667, 3405, 3832, 3828, 3557, 3866, 4018, 4193, 3778, 3665, 4255, 3966, 4459, 3772, 3884, 3649, 3894, 3646, 4557, 3584, 4079, 4333, 3817, 4136, 3858, 3759, 3713, 3612, 4032, 3880, 4257, 4198, 4385, 4126, 4319, 4505, 4244, 4194, 4523, 4022, 4364, 4266, 3903, 4114, 4396, 4021, 3996, 4015, 3918, 3830, 4298, 3995, 4028, 4013, 4030, 4063, 3983, 3978, 3776, 3777, 4222, 4084, 3850, 4157, 4227, 4547, 4483, 2848, 2939, 2838, 2912, 2560, 2635, 2637, 2543, 2527, 2509, 2521, 2597, 2536, 2751, 2720, 2862, 2762, 2701, 2725, 2555, 2789, 2863, 2843, 2608, 4071, 4158, 4259, 4385, 4296, 3978, 4283, 4115, 3969, 3801, 4080, 3695, 4354, 4762, 4676, 4448, 4302, 4263, 4341, 4116, 4526, 4537, 4836, 4545, 2041, 2242, 2203, 2264, 2222, 2372, 2297, 2075, 2264, 2264, 2312, 2190, 2389, 2301, 2149, 2342, 2422, 2177, 2122, 2247, 2361, 2406, 2513, 2423, 3652, 3913, 3319, 3262, 3795, 3620, 3549, 3453, 4014, 4036, 3719, 3692, 4175, 4308, 3864, 3737, 4124, 3920, 3831, 3447, 4168, 4553, 4119, 4086, 5092, 4906, 4741, 4627, 4458, 4763, 4638, 4026, 4448, 4411, 4453, 4392, 4301, 4710, 4246, 4400, 4764, 4662, 4419, 4564, 4456, 4807, 4434, 4502, 3577, 3995, 4035, 3690, 3477, 3721, 3907, 3678, 3464, 3309, 3895, 3454, 3870, 3571, 3430, 3420, 2950, 3686, 3492, 4315, 3624, 4185, 4487, 3766, 4312, 4365, 4142, 4294, 4417, 4401, 4196, 4241, 4367, 4360, 4149, 4414, 4273, 4384, 4212, 4265, 4356, 4591, 4187, 4471, 4592, 4482, 4800, 4534, 4370, 4038, 4399, 4410, 4302, 3915, 4323, 4195, 4000, 4262, 4434, 4553, 4146, 4287, 4430, 4116, 4517, 4300, 4392, 4433, 4597, 4190, 4500, 4611, 3917, 3865, 3972, 3804, 3797, 4357, 4266, 4326, 3942, 4049, 4195, 4041, 3942, 3875, 3925, 3807, 3899, 4180, 4134, 4266, 4052, 4199, 4103, 3872, 4082, 3713, 3504, 3658, 4164, 4123, 3943, 3969, 4327, 4137, 4009, 3928, 4302, 4469, 3922, 3966, 4564, 4331, 4238, 4443, 3852, 4311, 4504, 4024, 4869, 4494, 3985, 4157, 4147, 3899, 3848, 4361, 3664, 4122, 4464, 4392, 4250, 4458, 4513, 4537, 4238, 4744, 4937, 4440, 4603, 5245, 4942, 4829, 3949]\n",
            "5644\n",
            "1673\n"
          ]
        }
      ],
      "source": [
        "a = []\n",
        "path = '/content/drive/MyDrive/Thesis_Project/DATA/UniformDownsample_Folder'\n",
        "h = listdir('/content/drive/MyDrive/Thesis_Project/DATA/UniformDownsample_Folder')\n",
        "\n",
        "for i in h :\n",
        "  ab_path = path +'/'+ i\n",
        "  a.append(len(np.array(o3d.io.read_point_cloud(ab_path).points)))\n",
        "\n",
        "print(a)\n",
        "max = a[0]\n",
        "min = a[0]\n",
        "\n",
        "for i in range(1, len(a)):\n",
        "    \n",
        "    if max < a[i]:\n",
        "        max = a[i]\n",
        "\n",
        "    if min > a[i]:\n",
        "        min = a[i]\n",
        "print(max)\n",
        "print(min)"
      ]
    },
    {
      "cell_type": "code",
      "execution_count": null,
      "metadata": {
        "colab": {
          "base_uri": "https://localhost:8080/"
        },
        "id": "Wzaz3qx0pIyB",
        "outputId": "63ee8c50-ea95-49c0-c70f-06be4c794d50"
      },
      "outputs": [
        {
          "name": "stdout",
          "output_type": "stream",
          "text": [
            "[6677, 7164, 7164, 7164, 7571, 7571, 7571, 7189, 7189, 7189, 6549, 6549, 6549, 7675, 7675, 7675, 7433, 7433, 7433, 6698, 6698, 6698, 6754, 6754, 6754, 6857, 6857, 6857, 7018, 7018, 7018, 6940, 6940, 6940, 6641, 6641, 6641, 6608, 6608, 6608, 7680, 7680, 7680, 6635, 6635, 6635, 6801, 6801, 6801, 6895, 6895, 6895, 7247, 7247, 7247, 6746, 6746, 6746, 7072, 7072, 7072, 6683, 6683, 6683, 6688, 6688, 6688, 7440, 7440, 7440, 6709, 6709, 6709, 7278, 7278, 7278, 7499, 7499, 7499, 7339, 7339, 7339, 6961, 6961, 6961, 6536, 6536, 6536, 7089, 7089, 7089, 7012, 7012, 7012, 6571, 6571, 6571, 6567, 6567, 6567, 7057, 7057, 7057, 7160, 7160, 7160, 7256, 7256, 7256, 7173, 7173, 7173, 7321, 7321, 7321, 7043, 7043, 7043, 7401, 7401, 7401, 7208, 7208, 7208, 6582, 6582, 6582, 6823, 6823, 6823, 6705, 6705, 6705, 7126, 7126, 7126, 6411, 6411, 6411, 6800, 6800, 6800, 7046, 7046, 7046, 7034, 7034, 7034, 6706, 6706, 6706, 6833, 6833, 6833, 7235, 7235, 7235, 7440, 7440, 7440, 6886, 6886, 6886, 7125, 7125, 7125, 6677, 6677, 6677, 6892, 6892, 6892, 6323, 6323, 6323, 6936, 6936, 6936, 6624, 6624, 6624, 6555, 6555, 6555, 6317, 6317, 6317, 6490, 6490, 6490, 6351, 6351, 6351, 5818, 5818, 5818, 6181, 6181, 6181, 6299, 6299, 6299, 6469, 6469, 6469, 5989, 5989, 5989, 6355, 6355, 6355, 6486, 6486, 6486, 6363, 6363, 6363, 6480, 6480, 6480, 6846, 6846, 6846, 6686, 6686, 6686, 6732, 6732, 6732, 8223, 8223, 8223, 8958, 8958, 8958, 7964, 7964, 7964, 8074, 8074, 8074, 8472, 8472, 8472, 8745, 8745, 8745, 8634, 8634, 8634, 8107, 8107, 8107, 8368, 8368, 8368, 8489, 8489, 8489, 8450, 8450, 8450, 8363, 8363, 8363, 8267, 8267, 8267, 8143, 8143, 8143, 8184, 8184, 8184, 8045, 8045, 8045, 8716, 8716, 8716, 8455, 8455, 8455, 8027, 8027, 8027, 8286, 8286, 8286, 8149, 8149, 8149, 8576, 8576, 8576, 6246, 6246, 6246, 8877, 8877, 8877, 8494, 8494, 8494, 6504, 6504, 6504, 6597, 6597, 6597, 7079, 7079, 7079, 6336, 6336, 6336, 7086, 7086, 7086, 6437, 6437, 6437, 6644, 6644, 6644, 6561, 6561, 6561, 6055, 6055, 6055, 6424, 6424, 6424, 7004, 7004, 7004, 6208, 6208, 6208, 6856, 6856, 6856, 6749, 6749, 6749, 6694, 6694, 6694, 6490, 6490, 6490, 6477, 6477, 6477, 6754, 6754, 6754, 7116, 7116, 7116, 6712, 6712, 6712, 7024, 7024, 7024, 7228, 7228, 7228, 7845, 7845, 7845, 7249, 7249, 7249, 6928, 6928, 6928, 7337, 7337, 7337, 7553, 7553, 7553, 6816, 6816, 6816, 7074, 7074, 7074, 7186, 7186, 7186, 7256, 7256, 7256, 7335, 7335, 7335, 7328, 7328, 7328, 7619, 7619, 7619, 7433, 7433, 7433, 6980, 6980, 6980, 7229, 7229, 7229, 7194, 7194, 7194, 6996, 6996, 6996, 6753, 6753, 6753, 6766, 6766, 6766, 6393, 6393, 6393, 7046, 7046, 7046, 7153, 7153, 7153, 7420, 7420, 7420, 7706, 7706, 7706, 7464, 7464, 7464, 6656, 6656, 6656, 6510, 6510, 6510, 6190, 6190, 6190, 7194, 7194, 7194, 6626, 6626, 6626, 6345, 6345, 6345, 6486, 6486, 6486, 6453, 6453, 6453, 5619, 5619, 5619, 6298, 6298, 6298, 6163, 6163, 6163, 6518, 6518, 6518, 6107, 6107, 6107, 6725, 6725, 6725, 6418, 6418, 6418, 6598, 6598, 6598, 6418, 6418, 6418, 6040, 6040, 6040, 6357, 6357, 6357, 6266, 6266, 6266, 5930, 5930, 5930, 7161, 7161, 7161, 7440, 7440, 7440, 7258, 7258, 7258, 8218, 8218, 8218, 8287, 8287, 8287, 8543, 8543, 8543, 8424, 8424, 8424, 8337, 8337, 8337, 8325, 8325, 8325, 8355, 8355, 8355, 8071, 8071, 8071, 8191, 8191, 8191, 8287, 8287, 8287, 8476, 8476, 8476, 8208, 8208, 8208, 8354, 8354, 8354, 8095, 8095, 8095, 8484, 8484, 8484, 8243, 8243, 8243, 8192, 8192, 8192, 8279, 8279, 8279, 8137, 8137, 8137, 8271, 8271, 8271, 8365, 8365, 8365, 8508, 8508, 8508, 8212, 8212, 8212, 8072, 8072, 8072, 5752, 5752, 5752, 5762, 5762, 5762, 6162, 6162, 6162, 6004, 6004, 6004, 5968, 5968, 5968, 5904, 5904, 5904, 5655, 5655, 5655, 5761, 5761, 5761, 6014, 6014, 6014, 5372, 5372, 5372, 5627, 5627, 5627, 5878, 5878, 5878, 6048, 6048, 6048, 5462, 5462, 5462, 6222, 6222, 6222, 6281, 6281, 6281, 6437, 6437, 6437, 6435, 6435, 6435, 5729, 5729, 5729, 6183, 6183, 6183, 5850, 5850, 5850, 5952, 5952, 5952, 5940, 5940, 5940, 5939, 5939, 5939, 7283, 7283, 7283, 7322, 7322, 7322, 7649, 7649, 7649, 7555, 7555, 7555, 8207, 8207, 8207, 7983, 7983, 7983, 7288, 7288, 7288, 8100, 8100, 8100, 7845, 7845, 7845, 7273, 7273, 7273, 7696, 7696, 7696, 8260, 8260, 8260, 7408, 7408, 7408, 7630, 7630, 7630, 7999, 7999, 7999, 7987, 7987, 7987, 7498, 7498, 7498, 7960, 7960, 7960, 8124, 8124, 8124, 8772, 8772, 8772, 7246, 7246, 7246, 8068, 8068, 8068, 8800, 8800, 8800, 4058, 4058, 4058, 8251, 8251, 8251, 4002, 4002, 4002, 4082, 4082, 4082, 4072, 4072, 4072, 4005, 4005, 4005, 4052, 4052, 4052, 3959, 3959, 3959, 4040, 4040, 4040, 3711, 3711, 3711, 3833, 3833, 3833, 3756, 3756, 3756, 3765, 3765, 3765, 4025, 4025, 4025, 4107, 4107, 4107, 3926, 3926, 3926, 3977, 3977, 3977, 3740, 3740, 3740, 4104, 4104, 4104, 3885, 3885, 3885, 4012, 4012, 4012, 3776, 3776, 3776, 3829, 3829, 3829, 3929, 3929, 3929, 5685, 5685, 5685, 3887, 3887, 3887, 5676, 5676, 5676, 6056, 6056, 6056, 5945, 5945, 5945, 6357, 6357, 6357, 5792, 5792, 5792, 5701, 5701, 5701, 5890, 5890, 5890, 5169, 5169, 5169, 5618, 5618, 5618, 5781, 5781, 5781, 5664, 5664, 5664, 5815, 5815, 5815, 5339, 5339, 5339, 5821, 5821, 5821, 5008, 5008, 5008, 5530, 5530, 5530, 5763, 5763, 5763, 5642, 5642, 5642, 5518, 5518, 5518, 5691, 5691, 5691, 6062, 6062, 6062, 5960, 5960, 5960, 5938, 5938, 5938, 6163, 6163, 6163, 5967, 5967, 5967, 5635, 5635, 5635, 5735, 5735, 5735, 5820, 5820, 5820, 5463, 5463, 5463, 5802, 5802, 5802, 5783, 5783, 5783, 5802, 5802, 5802, 5791, 5791, 5791, 5856, 5856, 5856, 5324, 5324, 5324, 5876, 5876, 5876, 5357, 5357, 5357, 5754, 5754, 5754, 6324, 6324, 6324, 5903, 5903, 5903, 6211, 6211, 6211, 6260, 6260, 6260, 6703, 6703, 6703, 6433, 6433, 6433, 6738, 6738, 6738, 6896, 6896, 6896, 7999, 7999, 7999, 6350, 6350, 6350, 7669, 7669, 7669, 8395, 8395, 8395, 7019, 7019, 7019, 7392, 7392, 7392, 6817, 6817, 6817, 7552, 7552, 7552, 6884, 6884, 6884, 8051, 8051, 8051, 7697, 7697, 7697, 7638, 7638, 7638, 7434, 7434, 7434, 7269, 7269, 7269, 7784, 7784, 7784, 7659, 7659, 7659, 7212, 7212, 7212, 6944, 6944, 6944, 4818, 4818, 4993, 4993, 4993, 4980, 4980, 4980, 4838, 4838, 4838, 4719, 4719, 4719, 5027, 5027, 5027, 4850, 4850, 4850, 4911, 4911, 4911, 4883, 4883, 4883, 4832, 4832, 4832, 5025, 5025, 5025, 5120, 5120, 5120, 5101, 5101, 5101, 5308, 5308, 5308, 5051, 5051, 5051, 5395, 5395, 5395, 3696, 3696, 3696, 5399, 5399, 5399, 3793, 3793, 3793, 3833, 3833, 3833, 4110, 4110, 4110, 3899, 3899, 3899, 4172, 4172, 4172, 4059, 4059, 4059, 4043, 4043, 4043, 4122, 4122, 4122, 4232, 4232, 4232, 4248, 4248, 4248, 4124, 4124, 4124, 3925, 3925, 3925, 4054, 4054, 4054, 4172, 4172, 4172, 3967, 3967, 3967, 4415, 4415, 4415, 4211, 4211, 4211, 4512, 4512, 4512, 4360, 4360, 4360, 4243, 4243, 4243, 4563, 4563, 4563, 4378, 4378, 4378, 4369, 4369, 4369, 5816, 5816, 5816, 5932, 5932, 5932, 5947, 5947, 5947, 6050, 6050, 6050, 5577, 5577, 5577, 5584, 5584, 5584, 5266, 5266, 5266, 5579, 5579, 5579, 5602, 5602, 5602, 5929, 5929, 5929, 5658, 5658, 5658, 5653, 5653, 5653, 6024, 6024, 6024, 5542, 5542, 5542, 5704, 5704, 5704, 5450, 5450, 5450, 5760, 5760, 5760, 5740, 5740, 5740, 5503, 5503, 5503, 5626, 5626, 5626, 5696, 5696, 5696, 6166, 6166, 6166, 6143, 6143, 6143, 6250, 6250, 6250, 4237, 4237, 4237, 3992, 3992, 3992, 4103, 4103, 4103, 4091, 4091, 4091, 3953, 3953, 3953, 4029, 4029, 4029, 3674, 3674, 3674, 3591, 3591, 3591, 3928, 3928, 3928, 3502, 3502, 3502, 3591, 3591, 3591, 3683, 3683, 3683, 3346, 3346, 3346, 3825, 3825, 3825, 3852, 3852, 3852, 3844, 3844, 3844, 3811, 3811, 3811, 3893, 3893, 3893, 3872, 3872, 3872, 3701, 3701, 3701, 4030, 4030, 4030, 4233, 4233, 4233, 3985, 3985, 3985, 4450, 4450, 4450, 4092, 4092, 4092, 4266, 4266, 4266, 4612, 4612, 4612, 4464, 4464, 4464, 4220, 4220, 4220, 4714, 4714, 4714, 4511, 4511, 4511, 4270, 4270, 4270, 4443, 4443, 4443, 4323, 4323, 4323, 4585, 4585, 4585, 4576, 4576, 4576, 4298, 4298, 4298, 4216, 4216, 4216, 4677, 4677, 4677, 4459, 4459, 4459, 4466, 4466, 4466, 4607, 4607, 4607, 4395, 4395, 4395, 4812, 4812, 4812, 4658, 4658, 4658, 4862, 4862, 4862, 5109, 5109, 5109, 5207, 5207, 5207, 5310, 5310, 5310, 5273, 5273, 5273, 5182, 5182, 5182, 5303, 5303, 5303, 5209, 5209, 5209, 5323, 5323, 5323, 5266, 5266, 5266, 5162, 5162, 5162, 5118, 5118, 5118, 5119, 5119, 5119, 5057, 5057, 5057, 5141, 5141, 5141, 4873, 4873, 4873, 5325, 5325, 5325, 5331, 5331, 5331, 5235, 5235, 5235, 5348, 5348, 5348, 5169, 5169, 5169, 4733, 4733, 4733, 5085, 5085, 5085, 5597, 5597, 5597, 5314, 5314, 5314, 5462, 5462, 5462, 5558, 5558, 5558, 4112, 4112, 4112, 3974, 3974, 3974, 4033, 4033, 4033, 3899, 3899, 3899, 3970, 3970, 3970, 3968, 3968, 3968, 3799, 3799, 3799, 3997, 3997, 3997, 3983, 3983, 3983, 3940, 3940, 3940, 3863, 3863, 3863, 3986, 3986, 3986, 3973, 3973, 3973, 3879, 3879, 3879, 3796, 3796, 3796, 4065, 4065, 4065, 4051, 4051, 4051, 3833, 3833, 3833, 3899, 3899, 3899, 3881, 3881, 3881, 4199, 4199, 4199, 4193, 4193, 4193, 4508, 4508, 4508, 4411, 4411, 4411, 4141, 4141, 4141, 4583, 4583, 4583, 4525, 4525, 4525, 4337, 4337, 4337, 3976, 3976, 3976, 4541, 4541, 4541, 4412, 4412, 4412, 4326, 4326, 4326, 4483, 4483, 4483, 4704, 4704, 4704, 4558, 4558, 4558, 4578, 4578, 4578, 4450, 4450, 4450, 4480, 4480, 4480, 4398, 4398, 4398, 4359, 4359, 4359, 4631, 4631, 4631, 4441, 4441, 4441, 4572, 4572, 4572, 4367, 4367, 4367, 4520, 4520, 4520, 4723, 4723, 4723, 4940, 4940, 4940, 4500, 4500, 4500, 4572, 4572, 4572, 4864, 4864, 4864, 4657, 4657, 4657, 4714, 4714, 4714, 4608, 4608, 4608, 4625, 4625, 4625, 4498, 4498, 4498, 4510, 4510, 4510, 4434, 4434, 4434, 4591, 4591, 4591, 4414, 4414, 4414, 4334, 4334, 4334, 4442, 4442, 4442, 4556, 4556, 4556, 4652, 4652, 4652, 4515, 4515, 4515, 4708, 4708, 4708, 4557, 4557, 4557, 4753, 4753, 4753, 4517, 4517, 4517, 4784, 4784, 4784, 4713, 4713, 4713, 5015, 5015, 5015, 5011, 5011, 5011, 10057, 10057, 10057, 10757, 10757, 10757, 10001, 10001, 10001, 10373, 10373, 10373, 10831, 10831, 10831, 9616, 9616, 9616, 9513, 9513, 9513, 9477, 9477, 9477, 9442, 9442, 9442, 9322, 9322, 9322, 9457, 9457, 9457, 8684, 8684, 8684, 8862, 8862, 8862, 8566, 8566, 8566, 8402, 8402, 8402, 8411, 8411, 8411, 8371, 8371, 8371, 8480, 8480, 8480, 10760, 10760, 10760, 10052, 10052, 10052, 10940, 10940, 10940, 10214, 10214, 10214, 11288, 11288, 11288, 11070, 11070, 11070, 10008, 10008, 10008, 10177, 10177, 10177, 10575, 10575, 10575, 9757, 9757, 9757, 9852, 9852, 9852, 9635, 9635, 9635, 9658, 9658, 9658, 9778, 9778, 9778, 9381, 9381, 9381, 9498, 9498, 9498, 9948, 9948, 9948, 9341, 9341, 9341, 9448, 9448, 9448, 9500, 9500, 9500, 9567, 9567, 9567, 9584, 9584, 9584, 9298, 9298, 9298, 9661, 9661, 9661, 9872, 9872, 9872, 9773, 9773, 9773, 9761, 9761, 9761, 9661, 9661, 9661, 8851, 8851, 8851, 9477, 9477, 9477, 4676, 4676, 4676, 4717, 4717, 4717, 4860, 4860, 4860, 3931, 3931, 3931, 4076, 4076, 4076, 4293, 4293, 4293, 4375, 4375, 4375, 4615, 4615, 4615, 4410, 4410, 4410, 7866, 7866, 7866, 6935, 6935, 6935, 7968, 7968, 7968, 6883, 6883, 6883, 7742, 7742, 7742, 6726, 6726, 6726, 7981, 7981, 7981, 7204, 7204, 7204, 7673, 7673, 7673, 7035, 7035, 7035, 7759, 7759, 7759, 7344, 7344, 7344, 7143, 7143, 7143, 7284, 7284, 7284, 6921, 6921, 6921, 7601, 7601, 7601, 7285, 7285, 7285, 7684, 7684, 7684, 6896, 6896, 6896, 7205, 7205, 7205, 7493, 7493, 7493, 7556, 7556, 7556, 7574, 7574, 7574, 7869, 7869, 7869, 8461, 8461, 8461, 8644, 8644, 8644, 8707, 8707, 8707, 8417, 8417, 8417, 8965, 8965, 8965, 8494, 8494, 8494, 7903, 7903, 7903, 7826, 7826, 7826, 8506, 8506, 8506, 7937, 7937, 7937, 8270, 8270, 8270, 7707, 7707, 7707, 8139, 8139, 8139, 8179, 8179, 8179, 8243, 8243, 8243, 8035, 8035, 8035, 8135, 8135, 8135, 7688, 7688, 7688, 8397, 8397, 8397, 8839, 8839, 8839, 7982, 7982, 7982, 9325, 9325, 9325, 8950, 8950, 8950, 7442, 7442, 7442, 8705, 8705, 8705, 6490, 6490, 6490, 7309, 7309, 7309, 7832, 7832, 7832, 7097, 7097, 7097, 6809, 6809, 6809, 7242, 7242, 7242, 6349, 6349, 6349, 6535, 6535, 6535, 7393, 7393, 7393, 7353, 7353, 7353, 6861, 6861, 6861, 6757, 6757, 6757, 7610, 7610, 7610, 6568, 6568, 6568, 6846, 6846, 6846, 6594, 6594, 6594, 7019, 7019, 7019, 6363, 6363, 6363, 6677, 6677, 8062, 8062, 8062, 6909, 6909, 6909, 7758, 7758, 7758, 8567, 8567, 8567, 7960, 7960, 7960, 7205, 7205, 7205, 7840, 7840, 7840, 8369, 8369, 8369, 8063, 8063, 8063, 7503, 7503, 7503, 8092, 8092, 8092, 8995, 8995, 8995, 8235, 8235, 8235, 7299, 7299, 7299, 9154, 9154, 9154, 7169, 7169, 7169, 7627, 7627, 7627, 6759, 6759, 6759, 7219, 7219, 7219, 6597, 6597, 6597, 7037, 7037, 7037, 7068, 7068, 7068, 6454, 6454, 6454, 7354, 7354, 7354, 7468, 7468, 7468, 7097, 7097, 7097, 7885, 7885, 7885, 7069, 7069, 7069, 7057, 7057, 7057, 7722, 7722, 7722, 7805, 7805, 7805, 7795, 7795, 7795, 7416, 7416, 7416, 7794, 7794, 7794, 7737, 7737, 7737, 8190, 8190, 8190, 7930, 7930, 7930, 8400, 8400, 8400, 7515, 7515, 7515, 7656, 7656, 7656, 7028, 7028, 7028, 7027, 7027, 7027, 7406, 7406, 7406, 7032, 7032, 7032, 6924, 6924, 6924, 6190, 6190, 6190, 6806, 6806, 6806, 7162, 7162, 7162, 7014, 7014, 7014, 7172, 7172, 7172, 7217, 7217, 7217, 7584, 7584, 7584, 7126, 7126, 7126, 7318, 7318, 7318, 7123, 7123, 7123, 7417, 7417, 7417, 7372, 7372, 7372, 7276, 7276, 7276, 7213, 7213, 7213, 7021, 7021, 7021, 7343, 7343, 7343, 6925, 6925, 6925, 7512, 7512, 7512, 8545, 8545, 8545, 7080, 7080, 7080, 7938, 7938, 7938, 8167, 8167, 8167, 7743, 7743, 7743, 7422, 7422, 7422, 6445, 6445, 6445, 8086, 8086, 8086, 7303, 7303, 7303, 6882, 6882, 6882, 6919, 6919, 6919, 7661, 7661, 7661, 7340, 7340, 7340, 7345, 7345, 7345, 8196, 8196, 8196, 7068, 7068, 7068, 7538, 7538, 7538, 7251, 7251, 7251, 7903, 7903, 7903, 6901, 6901, 6901, 7886, 7886, 7886, 7816, 7816, 7816, 6865, 6865, 6865, 7573, 7573, 7573, 7145, 7145, 7145, 7089, 7089, 7089, 7137, 7137, 7137, 7653, 7653, 7653, 7149, 7149, 7149, 7124, 7124, 7124, 7498, 7498, 7498, 7254, 7254, 7254, 7340, 7340, 7340, 7361, 7361, 7361, 7132, 7132, 7132, 7935, 7935, 7935, 7224, 7224, 7224, 7718, 7718, 7718, 7735, 7735, 7735, 7588, 7588, 7588, 7411, 7411, 7411, 7200, 7200, 7200, 7079, 7079, 7079, 7648, 7648, 7648, 7999, 7999, 7999, 8563, 8563, 8563, 8459, 8459, 8459, 6642, 6642, 6642, 6254, 6254, 6254, 6259, 6259, 6259, 6272, 6272, 6272, 6378, 6378, 6378, 6578, 6578, 6578, 6784, 6784, 6784, 6784, 6784, 6784, 6264, 6264, 6264, 6396, 6396, 6396, 6112, 6112, 6112, 6945, 6945, 6945, 5416, 5416, 5416, 6225, 6225, 6225, 5986, 5986, 5986, 5655, 5655, 5655, 6892, 6892, 6892, 6148, 6148, 6148, 6033, 6033, 6033, 5746, 5746, 5746, 6745, 6745, 6745, 6221, 6221, 6221, 6576, 6576, 6576, 6483, 6483, 6483, 9355, 9355, 9355, 9161, 9161, 9161, 8857, 8857, 8857, 8684, 8684, 8684, 9327, 9327, 9327, 9606, 9606, 9606, 8979, 8979, 8979, 7562, 7562, 7562, 7271, 7271, 7271, 8324, 8324, 8324, 7486, 7486, 7486, 7593, 7593, 7593, 7433, 7433, 7433, 8117, 8117, 8117, 6941, 6941, 6941, 7240, 7240, 7240, 8252, 8252, 8252, 7490, 7490, 7490, 7965, 7965, 7965, 7140, 7140, 7140, 7991, 7991, 7991, 8100, 8100, 8100, 8433, 8433, 8433, 7762, 7762, 7762, 7078, 7078, 7078, 7312, 7312, 7312, 6899, 6899, 6899, 7518, 7518, 7518, 7367, 7367, 7367, 7392, 7392, 7392, 7486, 7486, 7486, 7547, 7547, 7547, 7490, 7490, 7490, 7843, 7843, 7843, 6228, 6228, 6228, 7559, 7559, 7559, 7484, 7484, 7484, 7754, 7754, 7754, 7747, 7747, 7747, 6948, 6948, 6948, 7589, 7589, 7589, 7905, 7905, 7905, 7646, 7646, 7646, 8712, 8712, 8712, 6887, 6887, 6887, 7735, 7735, 7735, 8431, 8431, 8431, 7972, 7972, 7972, 6748, 6748, 6748, 6441, 6441, 6441, 6226, 6226, 6226, 6514, 6514, 6514, 5796, 5796, 5796, 6232, 6232, 6232, 6422, 6422, 6422, 6641, 6641, 6641, 6777, 6777, 6777, 6884, 6884, 6884, 6874, 6874, 6874, 6738, 6738, 6738, 6911, 6911, 6911, 6611, 6611, 6611, 6876, 6876, 6876, 6743, 6743, 6743, 6791, 6791, 6791, 6832, 6832, 6832, 6616, 6616, 6616, 6698, 6698, 6698, 6836, 6836, 6836, 7545, 7545, 7545, 7011, 7011, 7011, 7497, 7497, 7497, 6786, 6786, 6786, 7004, 7004, 7004, 6948, 6948, 6948, 7057, 7057, 7057, 7178, 7178, 7178, 6949, 6949, 6949, 7156, 7156, 7156, 7046, 7046, 7046, 7194, 7194, 7194, 7272, 7272, 7272, 7160, 7160, 7160, 7051, 7051, 7051, 7727, 7727, 7727, 7582, 7582, 7582, 7320, 7320, 7320, 7589, 7589, 7589, 7493, 7493, 7493, 6688, 6688, 6688, 6858, 6858, 6858, 6951, 6951, 6951, 7759, 7759, 7759, 7725, 7725, 7725, 7720, 7720, 7720, 8082, 8082, 8082, 7432, 7432, 7432, 8054, 8054, 8054, 7139, 7139, 7139, 7912, 7912, 7912, 7709, 7709, 7709, 7689, 7689, 7689, 7936, 7936, 7936, 7665, 7665, 7665, 7391, 7391, 7391, 7113, 7113, 7113, 7552, 7552, 7552, 7312, 7312, 7312, 6968, 6968, 6968, 7310, 7310, 7310, 7250, 7250, 7250, 7174, 7174, 7174, 7229, 7229, 7229, 7301, 7301, 7301, 7135, 7135, 7135, 8069, 8069, 8069, 6803, 6803, 6803, 7703, 7703, 7703, 7991, 7991, 7991, 8186, 8186, 8186, 8134, 8134, 8134, 7837, 7837, 7837, 7733, 7733, 7733, 7846, 7846, 7846, 7912, 7912, 7912, 7903, 7903, 7903, 7857, 7857, 7857, 7921, 7921, 7921, 7789, 7789, 7789, 8231, 8231, 8231, 7731, 7731, 7731, 7568, 7568, 7568, 7210, 7210, 7210, 7273, 7273, 7273, 7451, 7451, 7451, 6849, 6849, 6849, 7451, 7451, 7451, 7090, 7090, 7090, 6920, 6920, 6920, 7079, 7079, 7079, 7883, 7883, 7883, 7784, 7784, 7784, 8035, 8035, 8035, 7296, 7296, 7296, 7865, 7865, 7865, 6904, 6904, 6904, 6876, 6876, 6876, 6816, 6816, 6816, 6740, 6740, 6740, 6598, 6598, 6598, 7191, 7191, 7191, 7182, 7182, 7182, 6342, 6342, 6342, 6638, 6638, 6638, 6222, 6222, 6222, 6840, 6840, 6840, 6726, 6726, 6726, 6780, 6780, 6780, 6751, 6751, 6751, 7541, 7541, 7541, 7200, 7200, 7200, 6579, 6579, 6579, 6747, 6747, 6747, 7860, 7860, 7860, 7323, 7323, 7323, 7151, 7151, 7151, 6983, 6983, 6983, 7162, 7162, 7162, 4573, 4573, 4573, 4441, 4441, 4441, 4605, 4605, 4605, 4466, 4466, 4466, 4562, 4562, 4562, 4523, 4523, 4523, 4552, 4552, 4552, 4542, 4542, 4542, 4634, 4634, 4634, 4492, 4492, 4492, 4466, 4466, 4466, 4687, 4687, 4687, 4434, 4434, 4434, 4644, 4644, 4644, 4634, 4634, 4634, 4709, 4709, 4709, 4540, 4540, 4540, 4658, 4658, 4658, 4642, 4642, 4642, 4704, 4704, 4704, 4819, 4819, 4819, 4802, 4802, 4802, 4727, 4727, 4727, 4915, 4915, 4915, 4732, 4732, 4732, 4741, 4741, 4741, 5070, 5070, 5070, 4956, 4956, 4956, 4878, 4878, 4878, 4888, 4888, 4888, 4948, 4948, 4948, 4818, 6646, 6204, 6204, 6204, 6351, 6351, 6351, 6193, 6193, 6193, 6224, 6224, 6224, 6357, 6357, 6357, 6513, 6513, 6513, 6411, 6411, 6411, 6462, 6462, 6462, 6446, 6446, 6446, 6531, 6531, 6531, 6963, 6963, 6963, 7621, 7621, 7621, 7847, 7847, 7847, 7939, 7939, 7939, 7890, 7890, 7890, 7612, 7612, 7612, 8129, 8129, 8129, 7467, 7467, 7467, 7817, 7817, 7817, 7446, 7446, 7446, 8401, 8401, 8401, 7781, 7781, 7781, 7945, 7945, 7945, 7501, 7501, 7501, 8209, 8209, 8209, 8186, 8186, 8186, 7719, 7719, 7719, 8141, 8141, 8141, 7693, 7693, 7693, 7964, 7964, 7964, 7842, 7842, 7842, 7882, 7882, 7882, 7939, 7939, 7939, 8093, 8093, 8093, 8131, 8131, 8131, 4532, 4532, 4532, 4490, 4490, 4490, 4541, 4541, 4541, 4459, 4459, 4459, 4288, 4288, 4288, 4568, 4568, 4568, 4452, 4452, 4452, 4552, 4552, 4552, 4359, 4359, 4359, 4603, 4603, 4603, 4506, 4506, 4506, 4627, 4627, 4627, 4503, 4503, 4503, 4487, 4487, 4487, 4533, 4533, 4533, 4368, 4368, 4368, 4310, 4310, 4310, 4369, 4369, 4369, 4341, 4341, 4341, 4521, 4521, 4521, 4936, 4936, 4936, 4592, 4592, 4592, 4840, 4840, 4840, 5152, 5152, 5152, 4614, 4614, 4614, 4422, 4422, 4422, 4486, 4486, 4486, 4437, 4437, 4437, 4450, 4450, 4450, 4471, 4471, 4471, 4072, 4072, 4072, 4217, 4217, 4217, 4228, 4228, 4228, 4349, 4349, 4349, 4338, 4338, 4338, 4270, 4270, 4270, 4118, 4118, 4118, 4360, 4360, 4360, 4338, 4338, 4338, 4562, 4562, 4562, 4268, 4268, 4268, 4419, 4419, 4419, 4055, 4055, 4055, 4251, 4251, 4251, 4034, 4034, 4034, 4351, 4351, 4351, 4491, 4491, 4491, 4662, 4662, 4662, 8492, 8492, 8492, 8510, 8510, 8510, 8012, 8012, 8012, 7990, 7990, 7990, 7739, 7739, 7739, 8090, 8090, 8090, 7676, 7676, 7676, 8190, 8190, 8190, 8584, 8584, 8584, 8006, 8006, 8006, 8929, 8929, 8929, 7444, 7444, 7444, 7461, 7461, 7461, 8355, 8355, 8355, 7737, 7737, 7737, 8578, 8578, 8578, 8734, 8734, 8734, 7954, 7954, 7954, 7661, 7661, 7661, 8686, 8686, 8686, 8413, 8413, 8413, 8727, 8727, 8727, 8893, 8893, 8893, 4911, 4911, 4911, 8460, 8460, 8460, 4594, 4594, 4594, 4846, 4846, 4846, 4723, 4723, 4723, 4735, 4735, 4735, 4073, 4073, 4073, 4665, 4665, 4665, 4460, 4460, 4460, 4560, 4560, 4560, 4660, 4660, 4660, 4567, 4567, 4567, 4755, 4755, 4755, 5068, 5068, 5068, 4789, 4789, 4789, 4968, 4968, 4968, 4815, 4815, 4815, 4830, 4830, 4830, 5114, 5114, 5114, 4911, 4911, 4911, 5409, 5409, 5409, 4981, 4981, 4981, 5319, 5319, 5319, 5390, 5390, 5390, 5116, 5116, 5116, 5520, 5520, 5520, 5184, 5184, 5184, 5253, 5253, 5253, 5431, 5431, 5431, 5083, 5083, 5083, 4729, 4729, 4729, 4805, 4805, 4805, 4885, 4885, 4885, 4994, 4994, 4994, 4761, 4761, 4761, 4985, 4985, 4985, 4815, 4815, 4815, 4798, 4798, 4798, 5581, 5581, 5581, 4856, 4856, 4856, 4562, 4562, 4562, 4892, 4892, 4892, 4976, 4976, 4976, 4901, 4901, 4901, 4971, 4971, 4971, 4997, 4997, 4997, 5105, 5105, 5105, 5619, 5619, 5619, 5686, 5686, 5686, 8041, 8041, 8041, 7241, 7241, 7241, 7380, 7380, 7380, 7620, 7620, 7620, 7689, 7689, 7689, 7154, 7154, 7154, 8074, 8074, 8074, 7599, 7599, 7599, 7714, 7714, 7714, 8002, 8002, 8002, 7354, 7354, 7354, 7807, 7807, 7807, 7214, 7214, 7214, 7431, 7431, 7431, 7619, 7619, 7619, 7462, 7462, 7462, 7246, 7246, 7246, 8055, 8055, 8055, 6853, 6853, 6853, 7841, 7841, 7841, 7854, 7854, 7854, 7398, 7398, 7398, 8072, 8072, 8072, 7546, 7546, 7546, 6725, 6725, 6725, 7063, 7063, 7063, 6254, 6254, 6254, 6944, 6944, 6944, 6751, 6751, 6751, 6560, 6560, 6560, 6629, 6629, 6629, 6116, 6116, 6116, 6441, 6441, 6441, 6064, 6064, 6064, 6596, 6596, 6596, 5726, 5726, 5726, 7156, 7156, 7156, 7258, 7258, 7258, 6717, 6717, 6717, 6156, 6156, 6156, 6701, 6701, 6701, 6509, 6509, 6509, 6331, 6331, 6331, 6941, 6941, 6941, 6657, 6657, 6657, 6861, 6861, 6861, 6772, 6772, 6772, 6412, 6412, 6412, 6506, 6506, 6506, 6506, 6506, 6506, 6992, 6992, 6992, 7221, 7221, 7221, 7328, 7328, 7328, 7716, 7716, 7716, 7456, 7456, 7456, 7808, 7808, 7808, 7637, 7637, 7637, 7560, 7560, 7560, 7522, 7522, 7522, 7335, 7335, 7335, 7329, 7329, 7329, 7670, 7670, 7670, 7739, 7739, 7739, 7667, 7667, 7667, 7419, 7419, 7419, 7613, 7613, 7613, 7527, 7527, 7527, 7403, 7403, 7403, 7500, 7500, 7500, 7681, 7681, 7681, 7657, 7657, 7657, 7735, 7735, 7735, 5597, 5597, 5597, 5160, 5160, 5160, 4951, 4951, 4951, 4884, 4884, 4884, 5599, 5599, 5599, 4907, 4907, 4907, 4971, 4971, 4971, 5233, 5233, 5233, 5215, 5215, 5215, 5125, 5125, 5125, 5631, 5631, 5631, 5066, 5066, 5066, 5126, 5126, 5126, 4916, 4916, 4916, 4846, 4846, 4846, 5113, 5113, 5113, 4948, 4948, 4948, 4806, 4806, 4806, 5194, 5194, 5194, 5075, 5075, 5075, 5519, 5519, 5519, 5641, 5641, 5641, 5372, 5372, 5372, 6186, 6186, 6186, 5970, 5970, 5970, 5649, 5649, 5649, 6583, 6583, 6583, 6334, 6334, 6334, 5761, 5761, 5761, 5961, 5961, 5961, 7174, 7174, 7174, 6439, 6439, 6439, 6140, 6140, 6140, 5847, 5847, 5847, 6653, 6653, 6653, 6569, 6569, 6569, 5805, 5805, 5805, 6317, 6317, 6317, 5966, 5966, 5966, 6041, 6041, 6041, 6004, 6004, 6004, 5876, 5876, 5876, 5392, 5392, 5392, 5560, 5560, 5560, 6478, 6478, 6478, 6664, 6664, 6664, 6606, 6606, 6606, 6551, 6551, 6551, 7570, 7570, 7570, 8229, 8229, 8229, 6704, 6704, 6704, 7481, 7481, 7481, 7524, 7524, 7524, 7881, 7881, 7881, 8468, 8468, 8468, 7753, 7753, 7753, 7243, 7243, 7243, 7594, 7594, 7594, 8330, 8330, 8330, 7272, 7272, 7272, 7784, 7784, 7784, 7525, 7525, 7525, 7484, 7484, 7484, 7364, 7364, 7364, 7089, 7089, 7089, 6958, 6958, 6958, 7434, 7434, 7434, 7329, 7329, 7329, 7598, 7598, 7598, 8058, 8058, 8058, 8117, 8117, 8117, 8025, 8025, 8025, 7201, 7201, 7201, 7041, 7041, 7041, 7286, 7286, 7286, 6873, 6873, 6873, 7318, 7318, 7318, 7427, 7427, 7427, 7165, 7165, 7165, 7474, 7474, 7474, 7517, 7517, 7517, 7051, 7051, 7051, 7291, 7291, 7291, 7549, 7549, 7549, 6978, 6978, 6978, 6951, 6951, 6951, 7093, 7093, 7093, 7107, 7107, 7107, 7283, 7283, 7283, 7115, 7115, 7115, 6869, 6869, 6869, 6856, 6856, 6856, 7381, 7381, 7381, 7360, 7360, 7360, 7707, 7707, 7707, 7750, 7750, 7750, 8372, 8372, 8372, 7951, 7951, 7951, 7730, 7730, 7730, 7519, 7519, 7519, 8730, 8730, 8730, 8156, 8156, 8156, 7716, 7716, 7716, 7992, 7992, 7992, 7634, 7634, 7634, 8279, 8279, 8279, 5101, 5101, 5797, 5797, 5797, 6277, 6277, 6277, 6461, 6461, 6461, 6231, 6231, 6231, 6220, 6220, 6220, 5824, 5824, 5824, 6338, 6338, 6338, 5860, 5860, 5860, 6215, 6215, 6215, 6021, 6021, 6021, 6322, 6322, 6322, 5943, 5943, 5943, 5889, 5889, 5889, 5891, 5891, 5891, 5625, 5625, 5625, 5086, 5086, 5086, 5367, 5367, 5367, 6024, 6024, 6024, 5746, 5746, 5746, 6000, 6000, 6000, 5522, 5522, 5522, 5795, 5795, 5795, 5442, 5442, 5442, 5935, 5935, 5935, 5065, 5065, 5065, 5404, 5404, 5404, 5396, 5396, 5396, 5802, 5802, 5802, 5312, 5312, 5312, 5551, 5551, 5551, 5021, 5021, 5021, 5257, 5257, 5257, 5313, 5313, 5313, 4998, 4998, 4998, 4865, 4865, 4865, 4731, 4731, 4731, 4874, 4874, 4874, 4949, 4949, 4949, 4986, 4986, 4986, 4847, 4847, 4847, 4962, 4962, 4962, 4254, 4254, 4254, 4680, 4680, 4680, 4587, 4587, 4587, 4529, 4529, 4529, 4249, 4249, 4249, 4377, 4377, 4377, 4257, 4257, 4257, 5033, 5033, 5033, 5554, 5554, 5554, 5565, 5565, 5565, 5829, 5829, 5829, 5279, 5279, 5279, 5488, 5488, 5488, 5137, 5137, 5137, 5134, 5134, 5134, 5359, 5359, 5359, 5148, 5148, 5148, 5433, 5433, 5433, 5385, 5385, 5385, 5413, 5413, 5413, 4905, 4905, 4905, 5145, 5145, 5145, 4786, 4786, 4786, 5085, 5085, 5085, 5379, 5379, 5379, 4971, 4971, 4971, 4794, 4794, 4794, 5347, 5347, 5347, 5159, 5159, 5159, 4705, 4705, 4705, 5310, 5310, 5310, 4255, 4255, 4255, 5015, 5015, 5015, 4199, 4199, 4199, 4403, 4403, 4403, 3795, 3795, 3795, 4097, 4097, 4097, 3497, 3497, 3497, 3731, 3731, 3731, 3569, 3569, 3569, 3470, 3470, 3470, 3483, 3483, 3483, 4004, 4004, 4004, 3453, 3453, 3453, 3879, 3879, 3879, 3922, 3922, 3922, 3515, 3515, 3515, 4446, 4446, 4446, 4326, 4326, 4326, 3911, 3911, 3911, 4236, 4236, 4236, 4617, 4617, 4617, 4156, 4156, 4156, 4366, 4366, 4366, 5255, 5255, 5255, 4880, 4880, 4880, 5467, 5467, 5467, 5242, 5242, 5242, 4640, 4640, 4640, 5383, 5383, 5383, 4671, 4671, 4671, 4584, 4584, 4584, 4947, 4947, 4947, 4637, 4637, 4637, 4814, 4814, 4814, 4914, 4914, 4914, 4860, 4860, 4860, 5222, 5222, 5222, 4808, 4808, 4808, 4984, 4984, 4984, 5231, 5231, 5231, 4786, 4786, 4786, 5148, 5148, 5148, 5299, 5299, 5299, 4696, 4696, 4696, 4928, 4928, 4928, 5303, 5303, 5303, 5411, 5411, 5411, 5537, 5537, 5537, 4999, 4999, 4999, 5856, 5856, 5856, 5908, 5908, 5908, 5947, 5947, 5947, 5833, 5833, 5833, 5978, 5978, 5978, 5903, 5903, 5903, 5668, 5668, 5668, 5874, 5874, 5874, 5791, 5791, 5791, 5872, 5872, 5872, 5876, 5876, 5876, 5748, 5748, 5748, 5732, 5732, 5732, 5700, 5700, 5700, 5687, 5687, 5687, 5826, 5826, 5826, 5543, 5543, 5543, 5817, 5817, 5817, 5596, 5596, 5596, 5518, 5518, 5518, 5922, 5922, 5922, 5980, 5980, 5980, 5870, 5870, 5870, 5270, 5270, 5270, 6031, 6031, 6031, 5355, 5355, 5355, 5157, 5157, 5157, 5245, 5245, 5245, 5187, 5187, 5187, 5103, 5103, 5103, 5076, 5076, 5076, 5023, 5023, 5023, 5249, 5249, 5249, 4787, 4787, 4787, 5513, 5513, 5513, 5483, 5483, 5483, 5337, 5337, 5337, 5140, 5140, 5140, 5071, 5071, 5071, 4846, 4846, 4846, 5319, 5319, 5319, 5291, 5291, 5291, 5221, 5221, 5221, 5132, 5132, 5132, 5387, 5387, 5387, 5275, 5275, 5275, 5553, 5553, 5553, 5880, 5880, 5880, 5484, 5484, 5484, 5547, 5547, 5547, 5913, 5913, 5913, 5932, 5932, 5932, 5562, 5562, 5562, 5197, 5197, 5197, 5306, 5306, 5306, 5328, 5328, 5328, 4735, 4735, 4735, 4971, 4971, 4971, 4929, 4929, 4929, 4799, 4799, 4799, 5515, 5515, 5515, 5641, 5641, 5641, 5863, 5863, 5863, 5594, 5594, 5594, 5233, 5233, 5233, 5377, 5377, 5377, 5408, 5408, 5408, 5303, 5303, 5303, 5320, 5320, 5320, 5531, 5531, 5531, 5638, 5638, 5638, 4717, 4717, 4717, 5781, 5781, 5781, 4938, 4938, 4938, 4890, 4890, 4890, 4755, 4755, 4755, 4801, 4801, 4801, 4782, 4782, 4782, 4757, 4757, 4757, 4923, 4923, 4923, 4450, 4450, 4450, 4508, 4508, 4508, 4631, 4631, 4631, 4559, 4559, 4559, 5042, 5042, 5042, 4974, 4974, 4974, 4900, 4900, 4900, 4899, 4899, 4899, 4931, 4931, 4931, 4982, 4982, 4982, 4994, 4994, 4994, 5013, 5013, 5013, 4988, 4988, 4988, 5131, 5131, 5131, 5308, 5308, 5308, 5035, 5035, 5035, 5293, 5293, 5293, 5158, 5158, 5158, 4988, 4988, 4988, 4850, 4850, 4850, 4762, 4762, 4762, 4807, 4807, 4807, 5040, 5040, 5040, 5043, 5043, 5043, 5092, 5092, 5092, 5033, 5033, 5033, 5051, 5051, 5051, 4922, 4922, 4922, 4811, 4811, 4811, 4922, 4922, 4922, 4835, 4835, 4835, 4777, 4777, 4777, 4840, 4840, 4840, 4782, 4782, 4782, 5153, 5153, 5153, 4807, 4807, 4807, 4817, 4817, 4817, 4825, 4825, 4825, 5072, 5072, 5072, 4771, 4771, 4771, 4986, 4986, 4986, 4785, 4785, 4785, 4824, 4824, 4824, 5180, 5180, 5180, 4774, 4774, 4774, 5127, 5127, 5127, 4968, 4968, 4968, 5052, 5052, 5052, 4785, 4785, 4785, 5190, 5190, 5190, 4809, 4809, 4809, 4885, 4885, 4885, 4751, 4751, 4751, 5043, 5043, 5043, 5018, 5018, 5018, 4835, 4835, 4835, 4954, 4954, 4954, 4913, 4913, 4913, 5132, 5132, 5132, 5060, 5060, 5060, 5482, 5482, 5482, 5247, 5247, 5247, 5380, 5380, 5380, 5076, 5076, 5076, 7945, 7945, 7945, 7030, 7030, 7030, 8201, 8201, 8201, 7820, 7820, 7820, 8633, 8633, 8633, 8349, 8349, 8349, 8750, 8750, 8750, 5785, 5785, 5785, 6522, 6522, 6522, 5604, 5604, 5604, 5848, 5848, 5848, 6385, 6385, 6385, 5870, 5870, 5870, 6139, 6139, 6139, 5379, 5379, 5379, 5934, 5934, 5934, 6170, 6170, 6170, 6227, 6227, 6227, 5906, 5906, 5906, 6053, 6053, 6053, 6371, 6371, 6371, 6301, 6301, 6301, 6497, 6497, 6497, 5929, 5929, 5929, 6371, 6371, 6371, 6383, 6383, 6383, 6274, 6274, 6274, 6486, 6486, 6486, 6882, 6882, 6882, 6551, 6551, 6551, 4737, 4737, 4737, 6740, 6740, 6740, 4451, 4451, 4451, 4491, 4491, 4491, 4349, 4349, 4349, 4289, 4289, 4289, 4351, 4351, 4351, 4343, 4343, 4343, 4297, 4297, 4297, 4454, 4454, 4454, 4213, 4213, 4213, 4374, 4374, 4374, 4259, 4259, 4259, 4267, 4267, 4267, 3987, 3987, 3987, 4313, 4313, 4313, 4352, 4352, 4352, 4537, 4537, 4537, 4372, 4372, 4372, 4503, 4503, 4503, 4265, 4265, 4265, 4392, 4392, 4392, 4743, 4743, 4743, 4787, 4787, 4787, 4507, 4507, 4507, 5930, 5930, 5930, 6229, 6229, 6229, 6455, 6455, 6455, 6182, 6182, 6182, 6554, 6554, 6554, 6694, 6694, 6694, 6298, 6298, 6298, 6745, 6745, 6745, 6328, 6328, 6328, 6396, 6396, 6396, 6138, 6138, 6138, 6239, 6239, 6239, 6646, 6646, 7644, 7644, 7644, 7632, 7632, 7632, 7806, 7806, 7806, 7835, 7835, 7835, 7327, 7327, 7327, 7989, 7989, 7989, 7848, 7848, 7848, 8075, 8075, 8075, 7374, 7374, 7374, 7489, 7489, 7489, 7728, 7728, 7728, 7843, 7843, 7843, 7821, 7821, 7821, 7691, 7691, 7691, 7614, 7614, 7614, 8283, 8283, 8283, 7539, 7539, 7539, 8198, 8198, 8198, 7607, 7607, 7607, 8310, 8310, 8310, 7956, 7956, 7956, 7962, 7962, 7962, 8127, 8127, 8127, 8182, 8182, 8182, 7836, 7836, 7836, 8235, 8235, 8235, 7980, 7980, 7980, 7871, 7871, 7871, 7701, 7701, 7701, 7081, 7081, 7081, 7558, 7558, 7558, 6688, 6688, 6688, 6709, 6709, 6709, 7177, 7177, 7177, 6230, 6230, 6230, 7410, 7410, 7410, 7661, 7661, 7661, 8652, 8652, 8652, 8525, 8525, 8525, 7408, 7408, 7408, 7527, 7527, 7527, 7046, 7046, 7046, 6844, 6844, 6844, 6941, 6941, 6941, 6948, 6948, 6948, 7281, 7281, 7281, 8593, 8593, 8593, 7811, 7811, 7811, 8946, 8946, 8946, 8404, 8404, 8404, 8869, 8869, 8869, 8329, 8329, 8329, 9332, 9332, 9332, 8506, 8506, 8506, 9030, 9030, 9030, 9555, 9555, 9555, 9508, 9508, 9508, 8863, 8863, 8863, 9630, 9630, 9630, 8425, 8425, 8425, 8505, 8505, 8505, 9788, 9788, 9788, 9354, 9354, 9354, 9335, 9335, 9335, 8597, 8597, 8597, 9107, 9107, 9107, 9161, 9161, 9161, 8972, 8972, 8972, 9388, 9388, 9388, 9218, 9218, 9218, 6244, 6244, 6244, 9021, 9021, 9021, 5858, 5858, 5858, 5982, 5982, 5982, 5975, 5975, 5975, 5585, 5585, 5585, 5295, 5295, 5295, 5724, 5724, 5724, 5932, 5932, 5932, 5534, 5534, 5534, 5982, 5982, 5982, 5627, 5627, 5627, 5256, 5256, 5256, 5172, 5172, 5172, 5684, 5684, 5684, 5451, 5451, 5451, 4870, 4870, 4870, 5364, 5364, 5364, 5818, 5818, 5818, 6607, 6607, 6607, 5576, 5576, 5576, 6393, 6393, 6393, 6036, 6036, 6036, 6774, 6774, 6774, 6064, 6064, 6064, 9556, 9556, 9556, 9611, 9611, 9611, 9825, 9825, 9825, 9708, 9708, 9708, 9512, 9512, 9512, 9713, 9713, 9713, 9438, 9438, 9438, 9018, 9018, 9018, 9533, 9533, 9533, 9257, 9257, 9257, 8737, 8737, 8737, 8740, 8740, 8740, 9353, 9353, 9353, 9035, 9035, 9035, 8894, 8894, 8894, 8954, 8954, 8954, 9115, 9115, 9115, 9207, 9207, 9207, 9358, 9358, 9358, 9132, 9132, 9132, 9249, 9249, 9249, 9270, 9270, 9270, 9299, 9299, 9299, 9496, 9496, 9496, 8978, 8978, 8978, 8735, 8735, 8735, 8726, 8726, 8726, 8045, 8045, 8045, 8644, 8644, 8644, 8009, 8009, 8009, 8808, 8808, 8808, 8959, 8959, 8959, 8275, 8275, 8275, 8502, 8502, 8502, 8046, 8046, 8046, 8664, 8664, 8664, 9269, 9269, 9269, 8818, 8818, 8818, 8447, 8447, 8447, 8655, 8655, 8655, 8878, 8878, 8878, 8990, 8990, 8990, 7963, 7963, 7963, 9794, 9794, 9794, 8562, 8562, 8562, 8739, 8739, 8739, 8266, 8266, 8266, 8325, 8325, 8325, 9723, 9723, 9723, 10396, 10396, 10396, 8665, 8665, 8665, 9546, 9546, 9546, 9204, 9204, 9204, 8658, 8658, 8658, 8819, 8819, 8819, 9545, 9545, 9545, 9592, 9592, 9592, 8729, 8729, 8729, 9608, 9608, 9608, 9594, 9594, 9594, 10039, 10039, 10039, 9974, 9974, 9974, 8369, 8369, 8369, 9703, 9703, 9703, 9241, 9241, 9241, 9307, 9307, 9307, 9553, 9553, 9553, 8163, 8163, 8163, 10337, 10337, 10337, 9221, 9221, 9221, 10024, 10024, 10024, 9813, 9813, 9813, 7936, 7936, 7936, 8867, 8867, 8867, 8066, 8066, 8066, 8660, 8660, 8660, 8573, 8573, 8573, 7885, 7885, 7885, 8720, 8720, 8720, 9255, 9255, 9255, 7732, 7732, 7732, 8163, 8163, 8163, 7640, 7640, 7640, 8314, 8314, 8314, 8267, 8267, 8267, 8451, 8451, 8451, 9184, 9184, 9184, 7468, 7468, 7468, 8079, 8079, 8079, 8777, 8777, 8777, 7854, 7854, 7854, 9317, 9317, 9317, 8421, 8421, 8421, 8265, 8265, 8265, 5323, 5323, 5323, 7346, 7346, 7346, 7567, 7567, 7567, 4830, 4830, 4830, 4947, 4947, 4947, 4635, 4635, 4635, 4744, 4744, 4744, 4438, 4438, 4438, 4796, 4796, 4796, 4309, 4309, 4309, 4772, 4772, 4772, 4791, 4791, 4791, 4992, 4992, 4992, 4619, 4619, 4619, 4781, 4781, 4781, 4915, 4915, 4915, 4673, 4673, 4673, 4640, 4640, 4640, 5166, 5166, 5166, 4931, 4931, 4931, 4658, 4658, 4658, 5387, 5387, 5387, 4766, 4766, 4766, 5324, 5324, 5324, 5148, 5148, 5148, 5206, 5206, 5206, 5207, 5207, 5207, 5283, 5283, 5283, 5169, 5169, 5169, 4926, 4926, 4926, 5388, 5388, 5388, 5557, 5557, 5557, 5121, 5121, 5121, 5261, 5261, 5261, 5316, 5316, 5316, 5342, 5342, 5342, 4955, 4955, 4955, 5265, 5265, 5265, 5840, 5840, 5840, 5684, 5684, 5684, 5687, 5687, 5687, 5267, 5267, 5267, 5438, 5438, 5438, 5821, 5821, 5821, 5657, 5657, 5657, 5339, 5339, 5339, 5681, 5681, 5681, 5365, 5365, 5365, 5615, 5615, 5615, 5752, 5752, 5752, 4494, 4494, 4494, 4384, 4384, 4384, 4350, 4350, 4350, 4532, 4532, 4532, 4559, 4559, 4559, 4431, 4431, 4431, 4404, 4404, 4404, 4352, 4352, 4352, 4473, 4473, 4473, 4575, 4575, 4575, 4726, 4726, 4726, 4660, 4660, 4660, 4711, 4711, 4711, 4796, 4796, 4796, 4553, 4553, 4553, 4758, 4758, 4758, 4890, 4890, 4890, 4614, 4614, 4614, 4798, 4798, 4798, 4904, 4904, 4904, 4460, 4460, 4460, 4949, 4949, 4949, 5055, 5055, 5055, 5087, 5087, 5087, 5335, 5335, 5335, 5552, 5552, 5552, 5720, 5720, 5720, 5786, 5786, 5786, 5092, 5092, 5092, 5318, 5318, 5318, 5387, 5387, 5387, 5314, 5314, 5314, 5225, 5225, 5225, 5102, 5102, 5102, 4741, 4741, 4741, 4642, 4642, 4642, 5402, 5402, 5402, 5402, 5402, 5402, 5382, 5382, 5382, 5293, 5293, 5293, 5672, 5672, 5672, 5615, 5615, 5615, 5743, 5743, 5743, 5601, 5601, 5601, 6212, 6212, 6212, 5728, 5728, 5728, 6355, 6355, 6355, 5892, 5892, 5892, 5494, 5494, 5494, 5642, 5642, 5642, 5387, 5387, 5387, 4694, 4694, 4694, 5337, 5337, 5337, 5638, 5638, 5638, 5393, 5393, 5393, 5346, 5346, 5346, 5599, 5599, 5599, 5347, 5347, 5347, 5689, 5689, 5689, 5807, 5807, 5807, 5375, 5375, 5375, 4989, 4989, 4989, 5940, 5940, 5940, 5288, 5288, 5288, 5898, 5898, 5898, 5620, 5620, 5620, 5710, 5710, 5710, 5953, 5953, 5953, 6066, 6066, 6066, 5736, 5736, 5736, 5971, 5971, 5971, 5983, 5983, 5983, 5178, 5178, 5178, 4894, 4894, 4894, 5304, 5304, 5304, 5192, 5192, 5192, 4658, 4658, 4658, 4810, 4810, 4810, 4643, 4643, 4643, 4540, 4540, 4540, 4543, 4543, 4543, 4424, 4424, 4424, 4586, 4586, 4586, 4441, 4441, 4441, 4854, 4854, 4854, 4745, 4745, 4745, 4616, 4616, 4616, 4717, 4717, 4717, 4825, 4825, 4825, 4709, 4709, 4709, 4502, 4502, 4502, 4419, 4419, 4419, 5213, 5213, 5213, 5010, 5010, 5010, 5101, 7220, 7644, 7644, 7644, 7334, 7334, 7334, 6810, 6810, 6810, 7664, 7664, 7664, 7656, 7656, 7656, 7114, 7114, 7114, 7732, 7732, 7732, 8036, 8036, 8036, 8386, 8386, 8386, 7556, 7556, 7556, 7329, 7329, 7329, 8510, 8510, 8510, 7931, 7931, 7931, 8918, 8918, 8918, 7543, 7543, 7543, 7767, 7767, 7767, 7297, 7297, 7297, 7788, 7788, 7788, 7292, 7292, 7292, 9113, 9113, 9113, 7167, 7167, 7167, 8158, 8158, 8158, 8665, 8665, 8665, 7634, 7634, 7634, 8272, 8272, 8272, 7716, 7716, 7716, 7518, 7518, 7518, 7425, 7425, 7425, 7223, 7223, 7223, 8064, 8064, 8064, 7760, 7760, 7760, 8514, 8514, 8514, 8396, 8396, 8396, 8770, 8770, 8770, 8251, 8251, 8251, 8637, 8637, 8637, 9009, 9009, 9009, 8488, 8488, 8488, 8388, 8388, 8388, 9045, 9045, 9045, 8044, 8044, 8044, 8728, 8728, 8728, 8532, 8532, 8532, 7805, 7805, 7805, 8227, 8227, 8227, 8792, 8792, 8792, 8042, 8042, 8042, 7992, 7992, 7992, 8030, 8030, 8030, 7835, 7835, 7835, 7660, 7660, 7660, 8595, 8595, 8595, 7990, 7990, 7990, 8055, 8055, 8055, 8026, 8026, 8026, 8060, 8060, 8060, 8125, 8125, 8125, 7965, 7965, 7965, 7956, 7956, 7956, 7552, 7552, 7552, 7554, 7554, 7554, 8444, 8444, 8444, 8168, 8168, 8168, 7699, 7699, 7699, 8314, 8314, 8314, 8453, 8453, 8453, 9094, 9094, 9094, 8966, 8966, 8966, 5695, 5695, 5695, 5878, 5878, 5878, 5675, 5675, 5675, 5823, 5823, 5823, 5120, 5120, 5120, 5270, 5270, 5270, 5273, 5273, 5273, 5086, 5086, 5086, 5053, 5053, 5053, 5017, 5017, 5017, 5042, 5042, 5042, 5194, 5194, 5194, 5072, 5072, 5072, 5501, 5501, 5501, 5439, 5439, 5439, 5724, 5724, 5724, 5523, 5523, 5523, 5402, 5402, 5402, 5449, 5449, 5449, 5110, 5110, 5110, 5578, 5578, 5578, 5726, 5726, 5726, 5685, 5685, 5685, 5216, 5216, 5216, 8142, 8142, 8142, 8316, 8316, 8316, 8518, 8518, 8518, 8770, 8770, 8770, 8591, 8591, 8591, 7956, 7956, 7956, 8566, 8566, 8566, 8229, 8229, 8229, 7937, 7937, 7937, 7601, 7601, 7601, 8160, 8160, 8160, 7389, 7389, 7389, 8707, 8707, 8707, 9523, 9523, 9523, 9351, 9351, 9351, 8895, 8895, 8895, 8603, 8603, 8603, 8525, 8525, 8525, 8682, 8682, 8682, 8232, 8232, 8232, 9051, 9051, 9051, 9074, 9074, 9074, 9671, 9671, 9671, 9090, 9090, 9090, 4082, 4082, 4082, 4484, 4484, 4484, 4405, 4405, 4405, 4527, 4527, 4527, 4443, 4443, 4443, 4744, 4744, 4744, 4593, 4593, 4593, 4149, 4149, 4149, 4527, 4527, 4527, 4528, 4528, 4528, 4624, 4624, 4624, 4380, 4380, 4380, 4778, 4778, 4778, 4602, 4602, 4602, 4298, 4298, 4298, 4683, 4683, 4683, 4843, 4843, 4843, 4354, 4354, 4354, 4243, 4243, 4243, 4494, 4494, 4494, 4722, 4722, 4722, 4811, 4811, 4811, 5026, 5026, 5026, 4845, 4845, 4845, 7304, 7304, 7304, 7826, 7826, 7826, 6637, 6637, 6637, 6524, 6524, 6524, 7589, 7589, 7589, 7239, 7239, 7239, 7097, 7097, 7097, 6906, 6906, 6906, 8028, 8028, 8028, 8072, 8072, 8072, 7438, 7438, 7438, 7384, 7384, 7384, 8350, 8350, 8350, 8616, 8616, 8616, 7727, 7727, 7727, 7474, 7474, 7474, 8247, 8247, 8247, 7840, 7840, 7840, 7662, 7662, 7662, 6893, 6893, 6893, 8335, 8335, 8335, 9105, 9105, 9105, 8238, 8238, 8238, 8172, 8172, 8172, 10184, 10184, 10184, 9811, 9811, 9811, 9482, 9482, 9482, 9254, 9254, 9254, 8916, 8916, 8916, 9525, 9525, 9525, 9276, 9276, 9276, 8051, 8051, 8051, 8896, 8896, 8896, 8822, 8822, 8822, 8905, 8905, 8905, 8783, 8783, 8783, 8602, 8602, 8602, 9419, 9419, 9419, 8491, 8491, 8491, 8800, 8800, 8800, 9528, 9528, 9528, 9323, 9323, 9323, 8837, 8837, 8837, 9127, 9127, 9127, 8912, 8912, 8912, 9614, 9614, 9614, 8867, 8867, 8867, 9003, 9003, 9003, 7154, 7154, 7154, 7990, 7990, 7990, 8070, 8070, 8070, 7379, 7379, 7379, 6954, 6954, 6954, 7442, 7442, 7442, 7814, 7814, 7814, 7355, 7355, 7355, 6927, 6927, 6927, 6618, 6618, 6618, 7789, 7789, 7789, 6907, 6907, 6907, 7739, 7739, 7739, 7142, 7142, 7142, 6859, 6859, 6859, 6839, 6839, 6839, 5900, 5900, 5900, 7372, 7372, 7372, 6983, 6983, 6983, 8629, 8629, 8629, 7247, 7247, 7247, 8370, 8370, 8370, 8973, 8973, 8973, 7532, 7532, 7532, 8624, 8624, 8624, 8730, 8730, 8730, 8283, 8283, 8283, 8588, 8588, 8588, 8833, 8833, 8833, 8801, 8801, 8801, 8392, 8392, 8392, 8481, 8481, 8481, 8733, 8733, 8733, 8719, 8719, 8719, 8297, 8297, 8297, 8828, 8828, 8828, 8546, 8546, 8546, 8768, 8768, 8768, 8423, 8423, 8423, 8530, 8530, 8530, 8711, 8711, 8711, 9181, 9181, 9181, 8373, 8373, 8373, 8941, 8941, 8941, 9184, 9184, 9184, 8963, 8963, 8963, 9599, 9599, 9599, 9067, 9067, 9067, 8740, 8740, 8740, 8075, 8075, 8075, 8798, 8798, 8798, 8819, 8819, 8819, 8604, 8604, 8604, 7830, 7830, 7830, 8646, 8646, 8646, 8390, 8390, 8390, 7999, 7999, 7999, 8523, 8523, 8523, 8868, 8868, 8868, 9105, 9105, 9105, 8291, 8291, 8291, 8574, 8574, 8574, 8860, 8860, 8860, 8232, 8232, 8232, 9034, 9034, 9034, 8600, 8600, 8600, 8784, 8784, 8784, 8865, 8865, 8865, 9194, 9194, 9194, 8379, 8379, 8379, 8999, 8999, 8999, 9222, 9222, 9222, 7833, 7833, 7833, 7729, 7729, 7729, 7943, 7943, 7943, 7607, 7607, 7607, 7594, 7594, 7594, 8714, 8714, 8714, 8531, 8531, 8531, 8652, 8652, 8652, 7884, 7884, 7884, 8098, 8098, 8098, 8390, 8390, 8390, 8082, 8082, 8082, 7884, 7884, 7884, 7750, 7750, 7750, 7850, 7850, 7850, 7614, 7614, 7614, 7798, 7798, 7798, 8360, 8360, 8360, 8268, 8268, 8268, 8531, 8531, 8531, 8103, 8103, 8103, 8397, 8397, 8397, 8205, 8205, 8205, 7744, 7744, 7744, 8164, 8164, 8164, 7425, 7425, 7425, 7007, 7007, 7007, 7316, 7316, 7316, 8327, 8327, 8327, 8245, 8245, 8245, 7886, 7886, 7886, 7937, 7937, 7937, 8654, 8654, 8654, 8273, 8273, 8273, 8017, 8017, 8017, 7855, 7855, 7855, 8603, 8603, 8603, 8937, 8937, 8937, 7843, 7843, 7843, 7932, 7932, 7932, 9128, 9128, 9128, 8662, 8662, 8662, 8476, 8476, 8476, 8886, 8886, 8886, 7703, 7703, 7703, 8622, 8622, 8622, 9008, 9008, 9008, 8047, 8047, 8047, 9738, 9738, 9738, 8987, 8987, 8987, 7970, 7970, 7970, 8313, 8313, 8313, 8293, 8293, 8293, 7797, 7797, 7797, 7696, 7696, 7696, 8722, 8722, 8722, 7328, 7328, 7328, 8243, 8243, 8243, 8928, 8928, 8928, 8783, 8783, 8783, 8500, 8500, 8500, 8915, 8915, 8915, 9025, 9025, 9025, 9074, 9074, 9074, 8475, 8475, 8475, 9488, 9488, 9488, 9873, 9873, 9873, 8879, 8879, 8879, 9205, 9205, 9205, 10489, 10489, 10489, 9884, 9884, 9884, 9658, 9658, 9658, 7897, 7897, 7897, 3966, 3966, 3966, 4419, 4419, 4419, 4470, 4470, 4470, 4263, 4263, 4263, 4381, 4381, 4381, 4427, 4427, 4427, 4721, 4721, 4721, 4078, 4078, 4078, 4357, 4357, 4357, 4256, 4256, 4256, 4412, 4412, 4412, 4245, 4245, 4245, 4438, 4438, 4438, 4458, 4458, 4458, 4509, 4509, 4509, 7440, 7440, 7440, 7435, 7435, 7435, 7643, 7643, 7643, 8348, 8348, 8348, 7700, 7700, 7700, 9031, 9031, 9031, 9146, 9146, 9146, 8473, 8473, 8473, 8487, 8487, 8487, 8426, 8426, 8426, 7869, 7869, 7869, 8134, 8134, 8134, 8966, 8966, 8966, 8327, 8327, 8327, 7820, 7820, 7820, 8818, 8818, 8818, 8949, 8949, 8949, 9072, 9072, 9072, 8732, 8732, 8732, 9071, 9071, 9071, 9736, 9736, 9736, 8952, 8952, 8952, 8649, 8649, 8649, 4497, 4497, 4497, 9086, 9086, 9086, 4759, 4759, 4759, 4586, 4586, 4586, 4534, 4534, 4534, 4532, 4532, 4532, 4179, 4179, 4179, 4306, 4306, 4306, 4276, 4276, 4276, 4041, 4041, 4041, 4271, 4271, 4271, 4251, 4251, 4251, 4228, 4228, 4228, 3727, 3727, 3727, 4480, 4480, 4480, 4358, 4358, 4358, 4504, 4504, 4504, 4161, 4161, 4161, 4623, 4623, 4623, 4397, 4397, 4397, 4712, 4712, 4712, 4431, 4431, 4431, 4869, 4869, 4869, 4583, 4583, 4583, 4910, 4910, 4910, 8695, 8695, 8695, 8175, 8175, 8175, 8168, 8168, 8168, 7220, 7220]\n",
            "11288\n",
            "3346\n"
          ]
        }
      ],
      "source": [
        "a = []\n",
        "path = '/content/drive/MyDrive/Thesis_Project/DATA/Translate_Folder'\n",
        "h = listdir('/content/drive/MyDrive/Thesis_Project/DATA/Translate_Folder')\n",
        "\n",
        "for i in h :\n",
        "  ab_path = path +'/'+ i\n",
        "  a.append(len(np.array(o3d.io.read_point_cloud(ab_path).points)))\n",
        "\n",
        "print(a)\n",
        "max = a[0]\n",
        "min = a[0]\n",
        "\n",
        "for i in range(1, len(a)):\n",
        "    \n",
        "    if max < a[i]:\n",
        "        max = a[i]\n",
        "\n",
        "    if min > a[i]:\n",
        "        min = a[i]\n",
        "print(max)\n",
        "print(min)"
      ]
    },
    {
      "cell_type": "code",
      "execution_count": null,
      "metadata": {
        "colab": {
          "base_uri": "https://localhost:8080/"
        },
        "id": "u-qFQZW5p1l_",
        "outputId": "347d966a-c973-4a99-de2d-98f1ecd21047"
      },
      "outputs": [
        {
          "name": "stdout",
          "output_type": "stream",
          "text": [
            "[4, 5, 8, 2, 9]\n"
          ]
        }
      ],
      "source": [
        "import random\n",
        "a=[0,1,2,3,4,5,6,7,8,9]\n",
        "b = random.sample(a, 5)\n",
        "print(b)"
      ]
    },
    {
      "cell_type": "code",
      "execution_count": null,
      "metadata": {
        "id": "TQFwlLpiNX_E"
      },
      "outputs": [],
      "source": [
        "file_path = '/content/drive/MyDrive/Thesis_Project/DATA/Rotate_Folder/Rotate_X_F0001_AN03WH_F3D.pcd'"
      ]
    },
    {
      "cell_type": "code",
      "execution_count": null,
      "metadata": {
        "id": "_XJy--WQKCIE"
      },
      "outputs": [],
      "source": [
        "points = np.array(pcd.points)\n",
        "n = np.random.choice(len(points), 500, replace=False) \n",
        "pcd.points = o3d.utility.Vector3dVector(points[n])"
      ]
    },
    {
      "cell_type": "code",
      "execution_count": null,
      "metadata": {
        "id": "pSI-fUISMnlC"
      },
      "outputs": [],
      "source": [
        "\n",
        "point_data = np.asarray(o3d.io.read_point_cloud(file_path).points,dtype='float32').T"
      ]
    },
    {
      "cell_type": "code",
      "execution_count": null,
      "metadata": {
        "id": "4pSQBCvoNGQF"
      },
      "outputs": [],
      "source": [
        "pcd = o3d.io.read_point_cloud(file_path)\n",
        "points = np.asarray(o3d.io.read_point_cloud(file_path).points)\n",
        "print(points)\n",
        "len(points)\n",
        "print(points[0])\n",
        "n = np.random.choice(len(points), 1600, replace=False) \n",
        "print(n)\n",
        "print(points[n].T)\n",
        "print(np.asarray(o3d.utility.Vector3dVector(points[n])))\n",
        "#pcd.points = o3d.utility.Vector3dVector(points[n])\n",
        "#print(pcd.points)\n",
        "#new_points = np.asarray(pcd.points)\n",
        "#print(new_points)\n"
      ]
    },
    {
      "cell_type": "code",
      "execution_count": null,
      "metadata": {
        "id": "f0N9OIvJUuca"
      },
      "outputs": [],
      "source": [
        "import os\n",
        "a=os.listdir('/content/drive/MyDrive/Thesis_Project/DATA/Cald3r_test_data')\n",
        "print(len(a))\n",
        "b=os.listdir('/content/drive/MyDrive/Thesis_Project/DATA/Cald3r_train_data')\n",
        "print(len(b))"
      ]
    },
    {
      "cell_type": "code",
      "execution_count": null,
      "metadata": {
        "colab": {
          "base_uri": "https://localhost:8080/"
        },
        "id": "xw1VEeqeh_Jk",
        "outputId": "89951bd0-b8cf-4ac4-8904-b57cdbb44312"
      },
      "outputs": [
        {
          "name": "stdout",
          "output_type": "stream",
          "text": [
            "Mounted at /content/drive\n"
          ]
        }
      ],
      "source": [
        "from google.colab import drive\n",
        "drive.mount('/content/drive')\n"
      ]
    },
    {
      "cell_type": "code",
      "execution_count": null,
      "metadata": {
        "id": "F7u0lbE6pFbJ"
      },
      "outputs": [],
      "source": [
        "%cd /content/drive/My Drive\n",
        "!ls\n"
      ]
    },
    {
      "cell_type": "code",
      "execution_count": null,
      "metadata": {
        "id": "WRlWR5OI5WfS"
      },
      "outputs": [],
      "source": [
        "!pip install argparse\n",
        "!pip install open3d"
      ]
    },
    {
      "cell_type": "code",
      "execution_count": null,
      "metadata": {
        "colab": {
          "background_save": true
        },
        "id": "TIFqa7GdS-oL"
      },
      "outputs": [],
      "source": [
        "! python /content/drive/MyDrive/Thesis_Project/main.py"
      ]
    },
    {
      "cell_type": "code",
      "execution_count": null,
      "metadata": {
        "id": "HPGgZc4XTfcG"
      },
      "outputs": [],
      "source": [
        "!pip install  matplotlib"
      ]
    },
    {
      "cell_type": "code",
      "execution_count": null,
      "metadata": {
        "id": "5qKrw9zxVLhH"
      },
      "outputs": [],
      "source": [
        "import os\n",
        "os.kill(os.getpid(), 9)"
      ]
    },
    {
      "cell_type": "code",
      "execution_count": null,
      "metadata": {
        "id": "hLzw9Mmw5hu9"
      },
      "outputs": [],
      "source": [
        "!/opt/bin/nvidia-smi"
      ]
    }
  ],
  "metadata": {
    "colab": {
      "background_execution": "on",
      "collapsed_sections": [],
      "machine_shape": "hm",
      "name": "Run.ipynb",
      "provenance": [],
      "include_colab_link": true
    },
    "gpuClass": "standard",
    "kernelspec": {
      "display_name": "Python 3",
      "name": "python3"
    },
    "language_info": {
      "name": "python"
    }
  },
  "nbformat": 4,
  "nbformat_minor": 0
}